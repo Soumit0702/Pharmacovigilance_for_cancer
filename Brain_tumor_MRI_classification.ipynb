{
  "nbformat": 4,
  "nbformat_minor": 0,
  "metadata": {
    "colab": {
      "provenance": []
    },
    "kernelspec": {
      "name": "python3",
      "display_name": "Python 3"
    },
    "language_info": {
      "name": "python"
    },
    "widgets": {
      "application/vnd.jupyter.widget-state+json": {
        "f78086af043c4577bac430d22e16e3da": {
          "model_module": "@jupyter-widgets/controls",
          "model_name": "HBoxModel",
          "model_module_version": "1.5.0",
          "state": {
            "_dom_classes": [],
            "_model_module": "@jupyter-widgets/controls",
            "_model_module_version": "1.5.0",
            "_model_name": "HBoxModel",
            "_view_count": null,
            "_view_module": "@jupyter-widgets/controls",
            "_view_module_version": "1.5.0",
            "_view_name": "HBoxView",
            "box_style": "",
            "children": [
              "IPY_MODEL_568a037bc6744bf3a822ce073375091e",
              "IPY_MODEL_15fb2a14fb2a4de989b25ac645885b71",
              "IPY_MODEL_2e259c739dc84e5a956d9fde7a63b666"
            ],
            "layout": "IPY_MODEL_a5f53eaefa1747e087d3ad93e88f784e"
          }
        },
        "568a037bc6744bf3a822ce073375091e": {
          "model_module": "@jupyter-widgets/controls",
          "model_name": "HTMLModel",
          "model_module_version": "1.5.0",
          "state": {
            "_dom_classes": [],
            "_model_module": "@jupyter-widgets/controls",
            "_model_module_version": "1.5.0",
            "_model_name": "HTMLModel",
            "_view_count": null,
            "_view_module": "@jupyter-widgets/controls",
            "_view_module_version": "1.5.0",
            "_view_name": "HTMLView",
            "description": "",
            "description_tooltip": null,
            "layout": "IPY_MODEL_8497e9695c774ffdb768572c75860ed7",
            "placeholder": "​",
            "style": "IPY_MODEL_9af9cb08e3ab462588d6ebd1ffcff308",
            "value": "preprocessor_config.json: 100%"
          }
        },
        "15fb2a14fb2a4de989b25ac645885b71": {
          "model_module": "@jupyter-widgets/controls",
          "model_name": "FloatProgressModel",
          "model_module_version": "1.5.0",
          "state": {
            "_dom_classes": [],
            "_model_module": "@jupyter-widgets/controls",
            "_model_module_version": "1.5.0",
            "_model_name": "FloatProgressModel",
            "_view_count": null,
            "_view_module": "@jupyter-widgets/controls",
            "_view_module_version": "1.5.0",
            "_view_name": "ProgressView",
            "bar_style": "success",
            "description": "",
            "description_tooltip": null,
            "layout": "IPY_MODEL_db3c2a1cce094d25822d7311f4fa04d6",
            "max": 240,
            "min": 0,
            "orientation": "horizontal",
            "style": "IPY_MODEL_bbe4d97a729a48a9992b3e4321a6b532",
            "value": 240
          }
        },
        "2e259c739dc84e5a956d9fde7a63b666": {
          "model_module": "@jupyter-widgets/controls",
          "model_name": "HTMLModel",
          "model_module_version": "1.5.0",
          "state": {
            "_dom_classes": [],
            "_model_module": "@jupyter-widgets/controls",
            "_model_module_version": "1.5.0",
            "_model_name": "HTMLModel",
            "_view_count": null,
            "_view_module": "@jupyter-widgets/controls",
            "_view_module_version": "1.5.0",
            "_view_name": "HTMLView",
            "description": "",
            "description_tooltip": null,
            "layout": "IPY_MODEL_d4c79de55a6a4631a64f2e1330c21dd5",
            "placeholder": "​",
            "style": "IPY_MODEL_ba2892e2d9544239acc87373946140ef",
            "value": " 240/240 [00:00&lt;00:00, 13.4kB/s]"
          }
        },
        "a5f53eaefa1747e087d3ad93e88f784e": {
          "model_module": "@jupyter-widgets/base",
          "model_name": "LayoutModel",
          "model_module_version": "1.2.0",
          "state": {
            "_model_module": "@jupyter-widgets/base",
            "_model_module_version": "1.2.0",
            "_model_name": "LayoutModel",
            "_view_count": null,
            "_view_module": "@jupyter-widgets/base",
            "_view_module_version": "1.2.0",
            "_view_name": "LayoutView",
            "align_content": null,
            "align_items": null,
            "align_self": null,
            "border": null,
            "bottom": null,
            "display": null,
            "flex": null,
            "flex_flow": null,
            "grid_area": null,
            "grid_auto_columns": null,
            "grid_auto_flow": null,
            "grid_auto_rows": null,
            "grid_column": null,
            "grid_gap": null,
            "grid_row": null,
            "grid_template_areas": null,
            "grid_template_columns": null,
            "grid_template_rows": null,
            "height": null,
            "justify_content": null,
            "justify_items": null,
            "left": null,
            "margin": null,
            "max_height": null,
            "max_width": null,
            "min_height": null,
            "min_width": null,
            "object_fit": null,
            "object_position": null,
            "order": null,
            "overflow": null,
            "overflow_x": null,
            "overflow_y": null,
            "padding": null,
            "right": null,
            "top": null,
            "visibility": null,
            "width": null
          }
        },
        "8497e9695c774ffdb768572c75860ed7": {
          "model_module": "@jupyter-widgets/base",
          "model_name": "LayoutModel",
          "model_module_version": "1.2.0",
          "state": {
            "_model_module": "@jupyter-widgets/base",
            "_model_module_version": "1.2.0",
            "_model_name": "LayoutModel",
            "_view_count": null,
            "_view_module": "@jupyter-widgets/base",
            "_view_module_version": "1.2.0",
            "_view_name": "LayoutView",
            "align_content": null,
            "align_items": null,
            "align_self": null,
            "border": null,
            "bottom": null,
            "display": null,
            "flex": null,
            "flex_flow": null,
            "grid_area": null,
            "grid_auto_columns": null,
            "grid_auto_flow": null,
            "grid_auto_rows": null,
            "grid_column": null,
            "grid_gap": null,
            "grid_row": null,
            "grid_template_areas": null,
            "grid_template_columns": null,
            "grid_template_rows": null,
            "height": null,
            "justify_content": null,
            "justify_items": null,
            "left": null,
            "margin": null,
            "max_height": null,
            "max_width": null,
            "min_height": null,
            "min_width": null,
            "object_fit": null,
            "object_position": null,
            "order": null,
            "overflow": null,
            "overflow_x": null,
            "overflow_y": null,
            "padding": null,
            "right": null,
            "top": null,
            "visibility": null,
            "width": null
          }
        },
        "9af9cb08e3ab462588d6ebd1ffcff308": {
          "model_module": "@jupyter-widgets/controls",
          "model_name": "DescriptionStyleModel",
          "model_module_version": "1.5.0",
          "state": {
            "_model_module": "@jupyter-widgets/controls",
            "_model_module_version": "1.5.0",
            "_model_name": "DescriptionStyleModel",
            "_view_count": null,
            "_view_module": "@jupyter-widgets/base",
            "_view_module_version": "1.2.0",
            "_view_name": "StyleView",
            "description_width": ""
          }
        },
        "db3c2a1cce094d25822d7311f4fa04d6": {
          "model_module": "@jupyter-widgets/base",
          "model_name": "LayoutModel",
          "model_module_version": "1.2.0",
          "state": {
            "_model_module": "@jupyter-widgets/base",
            "_model_module_version": "1.2.0",
            "_model_name": "LayoutModel",
            "_view_count": null,
            "_view_module": "@jupyter-widgets/base",
            "_view_module_version": "1.2.0",
            "_view_name": "LayoutView",
            "align_content": null,
            "align_items": null,
            "align_self": null,
            "border": null,
            "bottom": null,
            "display": null,
            "flex": null,
            "flex_flow": null,
            "grid_area": null,
            "grid_auto_columns": null,
            "grid_auto_flow": null,
            "grid_auto_rows": null,
            "grid_column": null,
            "grid_gap": null,
            "grid_row": null,
            "grid_template_areas": null,
            "grid_template_columns": null,
            "grid_template_rows": null,
            "height": null,
            "justify_content": null,
            "justify_items": null,
            "left": null,
            "margin": null,
            "max_height": null,
            "max_width": null,
            "min_height": null,
            "min_width": null,
            "object_fit": null,
            "object_position": null,
            "order": null,
            "overflow": null,
            "overflow_x": null,
            "overflow_y": null,
            "padding": null,
            "right": null,
            "top": null,
            "visibility": null,
            "width": null
          }
        },
        "bbe4d97a729a48a9992b3e4321a6b532": {
          "model_module": "@jupyter-widgets/controls",
          "model_name": "ProgressStyleModel",
          "model_module_version": "1.5.0",
          "state": {
            "_model_module": "@jupyter-widgets/controls",
            "_model_module_version": "1.5.0",
            "_model_name": "ProgressStyleModel",
            "_view_count": null,
            "_view_module": "@jupyter-widgets/base",
            "_view_module_version": "1.2.0",
            "_view_name": "StyleView",
            "bar_color": null,
            "description_width": ""
          }
        },
        "d4c79de55a6a4631a64f2e1330c21dd5": {
          "model_module": "@jupyter-widgets/base",
          "model_name": "LayoutModel",
          "model_module_version": "1.2.0",
          "state": {
            "_model_module": "@jupyter-widgets/base",
            "_model_module_version": "1.2.0",
            "_model_name": "LayoutModel",
            "_view_count": null,
            "_view_module": "@jupyter-widgets/base",
            "_view_module_version": "1.2.0",
            "_view_name": "LayoutView",
            "align_content": null,
            "align_items": null,
            "align_self": null,
            "border": null,
            "bottom": null,
            "display": null,
            "flex": null,
            "flex_flow": null,
            "grid_area": null,
            "grid_auto_columns": null,
            "grid_auto_flow": null,
            "grid_auto_rows": null,
            "grid_column": null,
            "grid_gap": null,
            "grid_row": null,
            "grid_template_areas": null,
            "grid_template_columns": null,
            "grid_template_rows": null,
            "height": null,
            "justify_content": null,
            "justify_items": null,
            "left": null,
            "margin": null,
            "max_height": null,
            "max_width": null,
            "min_height": null,
            "min_width": null,
            "object_fit": null,
            "object_position": null,
            "order": null,
            "overflow": null,
            "overflow_x": null,
            "overflow_y": null,
            "padding": null,
            "right": null,
            "top": null,
            "visibility": null,
            "width": null
          }
        },
        "ba2892e2d9544239acc87373946140ef": {
          "model_module": "@jupyter-widgets/controls",
          "model_name": "DescriptionStyleModel",
          "model_module_version": "1.5.0",
          "state": {
            "_model_module": "@jupyter-widgets/controls",
            "_model_module_version": "1.5.0",
            "_model_name": "DescriptionStyleModel",
            "_view_count": null,
            "_view_module": "@jupyter-widgets/base",
            "_view_module_version": "1.2.0",
            "_view_name": "StyleView",
            "description_width": ""
          }
        },
        "9ee884a162eb43d399e835d2f614a565": {
          "model_module": "@jupyter-widgets/controls",
          "model_name": "HBoxModel",
          "model_module_version": "1.5.0",
          "state": {
            "_dom_classes": [],
            "_model_module": "@jupyter-widgets/controls",
            "_model_module_version": "1.5.0",
            "_model_name": "HBoxModel",
            "_view_count": null,
            "_view_module": "@jupyter-widgets/controls",
            "_view_module_version": "1.5.0",
            "_view_name": "HBoxView",
            "box_style": "",
            "children": [
              "IPY_MODEL_6bfe40d283aa4d19ad2217a592592e4d",
              "IPY_MODEL_9f63fd4506af44c084d75d4e0cd1a451",
              "IPY_MODEL_9ebaa44058d44ff99456c8ba8568e46a"
            ],
            "layout": "IPY_MODEL_4ccdec8a99424b6f9927b605fa37d2fd"
          }
        },
        "6bfe40d283aa4d19ad2217a592592e4d": {
          "model_module": "@jupyter-widgets/controls",
          "model_name": "HTMLModel",
          "model_module_version": "1.5.0",
          "state": {
            "_dom_classes": [],
            "_model_module": "@jupyter-widgets/controls",
            "_model_module_version": "1.5.0",
            "_model_name": "HTMLModel",
            "_view_count": null,
            "_view_module": "@jupyter-widgets/controls",
            "_view_module_version": "1.5.0",
            "_view_name": "HTMLView",
            "description": "",
            "description_tooltip": null,
            "layout": "IPY_MODEL_53dcc97959ab45038d4a811e37917a3c",
            "placeholder": "​",
            "style": "IPY_MODEL_813a106d1dc14274a263c271aa6ff098",
            "value": "config.json: 100%"
          }
        },
        "9f63fd4506af44c084d75d4e0cd1a451": {
          "model_module": "@jupyter-widgets/controls",
          "model_name": "FloatProgressModel",
          "model_module_version": "1.5.0",
          "state": {
            "_dom_classes": [],
            "_model_module": "@jupyter-widgets/controls",
            "_model_module_version": "1.5.0",
            "_model_name": "FloatProgressModel",
            "_view_count": null,
            "_view_module": "@jupyter-widgets/controls",
            "_view_module_version": "1.5.0",
            "_view_name": "ProgressView",
            "bar_style": "success",
            "description": "",
            "description_tooltip": null,
            "layout": "IPY_MODEL_fb795ece86d540eb9f860cab5116ea5f",
            "max": 1031,
            "min": 0,
            "orientation": "horizontal",
            "style": "IPY_MODEL_39302858b2ce472d885c9063ad87eb21",
            "value": 1031
          }
        },
        "9ebaa44058d44ff99456c8ba8568e46a": {
          "model_module": "@jupyter-widgets/controls",
          "model_name": "HTMLModel",
          "model_module_version": "1.5.0",
          "state": {
            "_dom_classes": [],
            "_model_module": "@jupyter-widgets/controls",
            "_model_module_version": "1.5.0",
            "_model_name": "HTMLModel",
            "_view_count": null,
            "_view_module": "@jupyter-widgets/controls",
            "_view_module_version": "1.5.0",
            "_view_name": "HTMLView",
            "description": "",
            "description_tooltip": null,
            "layout": "IPY_MODEL_c34422e78fba45a7826a9568ac9535bd",
            "placeholder": "​",
            "style": "IPY_MODEL_67398b0cea4943fea388d421d76ed2a2",
            "value": " 1.03k/1.03k [00:00&lt;00:00, 61.4kB/s]"
          }
        },
        "4ccdec8a99424b6f9927b605fa37d2fd": {
          "model_module": "@jupyter-widgets/base",
          "model_name": "LayoutModel",
          "model_module_version": "1.2.0",
          "state": {
            "_model_module": "@jupyter-widgets/base",
            "_model_module_version": "1.2.0",
            "_model_name": "LayoutModel",
            "_view_count": null,
            "_view_module": "@jupyter-widgets/base",
            "_view_module_version": "1.2.0",
            "_view_name": "LayoutView",
            "align_content": null,
            "align_items": null,
            "align_self": null,
            "border": null,
            "bottom": null,
            "display": null,
            "flex": null,
            "flex_flow": null,
            "grid_area": null,
            "grid_auto_columns": null,
            "grid_auto_flow": null,
            "grid_auto_rows": null,
            "grid_column": null,
            "grid_gap": null,
            "grid_row": null,
            "grid_template_areas": null,
            "grid_template_columns": null,
            "grid_template_rows": null,
            "height": null,
            "justify_content": null,
            "justify_items": null,
            "left": null,
            "margin": null,
            "max_height": null,
            "max_width": null,
            "min_height": null,
            "min_width": null,
            "object_fit": null,
            "object_position": null,
            "order": null,
            "overflow": null,
            "overflow_x": null,
            "overflow_y": null,
            "padding": null,
            "right": null,
            "top": null,
            "visibility": null,
            "width": null
          }
        },
        "53dcc97959ab45038d4a811e37917a3c": {
          "model_module": "@jupyter-widgets/base",
          "model_name": "LayoutModel",
          "model_module_version": "1.2.0",
          "state": {
            "_model_module": "@jupyter-widgets/base",
            "_model_module_version": "1.2.0",
            "_model_name": "LayoutModel",
            "_view_count": null,
            "_view_module": "@jupyter-widgets/base",
            "_view_module_version": "1.2.0",
            "_view_name": "LayoutView",
            "align_content": null,
            "align_items": null,
            "align_self": null,
            "border": null,
            "bottom": null,
            "display": null,
            "flex": null,
            "flex_flow": null,
            "grid_area": null,
            "grid_auto_columns": null,
            "grid_auto_flow": null,
            "grid_auto_rows": null,
            "grid_column": null,
            "grid_gap": null,
            "grid_row": null,
            "grid_template_areas": null,
            "grid_template_columns": null,
            "grid_template_rows": null,
            "height": null,
            "justify_content": null,
            "justify_items": null,
            "left": null,
            "margin": null,
            "max_height": null,
            "max_width": null,
            "min_height": null,
            "min_width": null,
            "object_fit": null,
            "object_position": null,
            "order": null,
            "overflow": null,
            "overflow_x": null,
            "overflow_y": null,
            "padding": null,
            "right": null,
            "top": null,
            "visibility": null,
            "width": null
          }
        },
        "813a106d1dc14274a263c271aa6ff098": {
          "model_module": "@jupyter-widgets/controls",
          "model_name": "DescriptionStyleModel",
          "model_module_version": "1.5.0",
          "state": {
            "_model_module": "@jupyter-widgets/controls",
            "_model_module_version": "1.5.0",
            "_model_name": "DescriptionStyleModel",
            "_view_count": null,
            "_view_module": "@jupyter-widgets/base",
            "_view_module_version": "1.2.0",
            "_view_name": "StyleView",
            "description_width": ""
          }
        },
        "fb795ece86d540eb9f860cab5116ea5f": {
          "model_module": "@jupyter-widgets/base",
          "model_name": "LayoutModel",
          "model_module_version": "1.2.0",
          "state": {
            "_model_module": "@jupyter-widgets/base",
            "_model_module_version": "1.2.0",
            "_model_name": "LayoutModel",
            "_view_count": null,
            "_view_module": "@jupyter-widgets/base",
            "_view_module_version": "1.2.0",
            "_view_name": "LayoutView",
            "align_content": null,
            "align_items": null,
            "align_self": null,
            "border": null,
            "bottom": null,
            "display": null,
            "flex": null,
            "flex_flow": null,
            "grid_area": null,
            "grid_auto_columns": null,
            "grid_auto_flow": null,
            "grid_auto_rows": null,
            "grid_column": null,
            "grid_gap": null,
            "grid_row": null,
            "grid_template_areas": null,
            "grid_template_columns": null,
            "grid_template_rows": null,
            "height": null,
            "justify_content": null,
            "justify_items": null,
            "left": null,
            "margin": null,
            "max_height": null,
            "max_width": null,
            "min_height": null,
            "min_width": null,
            "object_fit": null,
            "object_position": null,
            "order": null,
            "overflow": null,
            "overflow_x": null,
            "overflow_y": null,
            "padding": null,
            "right": null,
            "top": null,
            "visibility": null,
            "width": null
          }
        },
        "39302858b2ce472d885c9063ad87eb21": {
          "model_module": "@jupyter-widgets/controls",
          "model_name": "ProgressStyleModel",
          "model_module_version": "1.5.0",
          "state": {
            "_model_module": "@jupyter-widgets/controls",
            "_model_module_version": "1.5.0",
            "_model_name": "ProgressStyleModel",
            "_view_count": null,
            "_view_module": "@jupyter-widgets/base",
            "_view_module_version": "1.2.0",
            "_view_name": "StyleView",
            "bar_color": null,
            "description_width": ""
          }
        },
        "c34422e78fba45a7826a9568ac9535bd": {
          "model_module": "@jupyter-widgets/base",
          "model_name": "LayoutModel",
          "model_module_version": "1.2.0",
          "state": {
            "_model_module": "@jupyter-widgets/base",
            "_model_module_version": "1.2.0",
            "_model_name": "LayoutModel",
            "_view_count": null,
            "_view_module": "@jupyter-widgets/base",
            "_view_module_version": "1.2.0",
            "_view_name": "LayoutView",
            "align_content": null,
            "align_items": null,
            "align_self": null,
            "border": null,
            "bottom": null,
            "display": null,
            "flex": null,
            "flex_flow": null,
            "grid_area": null,
            "grid_auto_columns": null,
            "grid_auto_flow": null,
            "grid_auto_rows": null,
            "grid_column": null,
            "grid_gap": null,
            "grid_row": null,
            "grid_template_areas": null,
            "grid_template_columns": null,
            "grid_template_rows": null,
            "height": null,
            "justify_content": null,
            "justify_items": null,
            "left": null,
            "margin": null,
            "max_height": null,
            "max_width": null,
            "min_height": null,
            "min_width": null,
            "object_fit": null,
            "object_position": null,
            "order": null,
            "overflow": null,
            "overflow_x": null,
            "overflow_y": null,
            "padding": null,
            "right": null,
            "top": null,
            "visibility": null,
            "width": null
          }
        },
        "67398b0cea4943fea388d421d76ed2a2": {
          "model_module": "@jupyter-widgets/controls",
          "model_name": "DescriptionStyleModel",
          "model_module_version": "1.5.0",
          "state": {
            "_model_module": "@jupyter-widgets/controls",
            "_model_module_version": "1.5.0",
            "_model_name": "DescriptionStyleModel",
            "_view_count": null,
            "_view_module": "@jupyter-widgets/base",
            "_view_module_version": "1.2.0",
            "_view_name": "StyleView",
            "description_width": ""
          }
        },
        "abcbd94ff419415dadba7041ba0d84ea": {
          "model_module": "@jupyter-widgets/controls",
          "model_name": "HBoxModel",
          "model_module_version": "1.5.0",
          "state": {
            "_dom_classes": [],
            "_model_module": "@jupyter-widgets/controls",
            "_model_module_version": "1.5.0",
            "_model_name": "HBoxModel",
            "_view_count": null,
            "_view_module": "@jupyter-widgets/controls",
            "_view_module_version": "1.5.0",
            "_view_name": "HBoxView",
            "box_style": "",
            "children": [
              "IPY_MODEL_78493680785b4116bb0d380bd308f6f6",
              "IPY_MODEL_0d68cb3c3c244576b5735fcc500fe143",
              "IPY_MODEL_01d8ecd1bb05466092e6fd8a797dd6db"
            ],
            "layout": "IPY_MODEL_403e0f5dada449bf815dc894a0d4049d"
          }
        },
        "78493680785b4116bb0d380bd308f6f6": {
          "model_module": "@jupyter-widgets/controls",
          "model_name": "HTMLModel",
          "model_module_version": "1.5.0",
          "state": {
            "_dom_classes": [],
            "_model_module": "@jupyter-widgets/controls",
            "_model_module_version": "1.5.0",
            "_model_name": "HTMLModel",
            "_view_count": null,
            "_view_module": "@jupyter-widgets/controls",
            "_view_module_version": "1.5.0",
            "_view_name": "HTMLView",
            "description": "",
            "description_tooltip": null,
            "layout": "IPY_MODEL_def5bed8bfbc4ec1bc7a5c0542c8085e",
            "placeholder": "​",
            "style": "IPY_MODEL_c754fc94635d4e1aa47447664ef0b881",
            "value": "pytorch_model.bin: 100%"
          }
        },
        "0d68cb3c3c244576b5735fcc500fe143": {
          "model_module": "@jupyter-widgets/controls",
          "model_name": "FloatProgressModel",
          "model_module_version": "1.5.0",
          "state": {
            "_dom_classes": [],
            "_model_module": "@jupyter-widgets/controls",
            "_model_module_version": "1.5.0",
            "_model_name": "FloatProgressModel",
            "_view_count": null,
            "_view_module": "@jupyter-widgets/controls",
            "_view_module_version": "1.5.0",
            "_view_name": "ProgressView",
            "bar_style": "success",
            "description": "",
            "description_tooltip": null,
            "layout": "IPY_MODEL_f6d9f8d7fc6148d080787a2a004124c1",
            "max": 110395759,
            "min": 0,
            "orientation": "horizontal",
            "style": "IPY_MODEL_1767e2df4236487baded979217f6137d",
            "value": 110395759
          }
        },
        "01d8ecd1bb05466092e6fd8a797dd6db": {
          "model_module": "@jupyter-widgets/controls",
          "model_name": "HTMLModel",
          "model_module_version": "1.5.0",
          "state": {
            "_dom_classes": [],
            "_model_module": "@jupyter-widgets/controls",
            "_model_module_version": "1.5.0",
            "_model_name": "HTMLModel",
            "_view_count": null,
            "_view_module": "@jupyter-widgets/controls",
            "_view_module_version": "1.5.0",
            "_view_name": "HTMLView",
            "description": "",
            "description_tooltip": null,
            "layout": "IPY_MODEL_2bb55c9f2852484fb73dd670f63ea6eb",
            "placeholder": "​",
            "style": "IPY_MODEL_20d66d6bddc04b95935a09b205bf71a5",
            "value": " 110M/110M [00:02&lt;00:00, 31.7MB/s]"
          }
        },
        "403e0f5dada449bf815dc894a0d4049d": {
          "model_module": "@jupyter-widgets/base",
          "model_name": "LayoutModel",
          "model_module_version": "1.2.0",
          "state": {
            "_model_module": "@jupyter-widgets/base",
            "_model_module_version": "1.2.0",
            "_model_name": "LayoutModel",
            "_view_count": null,
            "_view_module": "@jupyter-widgets/base",
            "_view_module_version": "1.2.0",
            "_view_name": "LayoutView",
            "align_content": null,
            "align_items": null,
            "align_self": null,
            "border": null,
            "bottom": null,
            "display": null,
            "flex": null,
            "flex_flow": null,
            "grid_area": null,
            "grid_auto_columns": null,
            "grid_auto_flow": null,
            "grid_auto_rows": null,
            "grid_column": null,
            "grid_gap": null,
            "grid_row": null,
            "grid_template_areas": null,
            "grid_template_columns": null,
            "grid_template_rows": null,
            "height": null,
            "justify_content": null,
            "justify_items": null,
            "left": null,
            "margin": null,
            "max_height": null,
            "max_width": null,
            "min_height": null,
            "min_width": null,
            "object_fit": null,
            "object_position": null,
            "order": null,
            "overflow": null,
            "overflow_x": null,
            "overflow_y": null,
            "padding": null,
            "right": null,
            "top": null,
            "visibility": null,
            "width": null
          }
        },
        "def5bed8bfbc4ec1bc7a5c0542c8085e": {
          "model_module": "@jupyter-widgets/base",
          "model_name": "LayoutModel",
          "model_module_version": "1.2.0",
          "state": {
            "_model_module": "@jupyter-widgets/base",
            "_model_module_version": "1.2.0",
            "_model_name": "LayoutModel",
            "_view_count": null,
            "_view_module": "@jupyter-widgets/base",
            "_view_module_version": "1.2.0",
            "_view_name": "LayoutView",
            "align_content": null,
            "align_items": null,
            "align_self": null,
            "border": null,
            "bottom": null,
            "display": null,
            "flex": null,
            "flex_flow": null,
            "grid_area": null,
            "grid_auto_columns": null,
            "grid_auto_flow": null,
            "grid_auto_rows": null,
            "grid_column": null,
            "grid_gap": null,
            "grid_row": null,
            "grid_template_areas": null,
            "grid_template_columns": null,
            "grid_template_rows": null,
            "height": null,
            "justify_content": null,
            "justify_items": null,
            "left": null,
            "margin": null,
            "max_height": null,
            "max_width": null,
            "min_height": null,
            "min_width": null,
            "object_fit": null,
            "object_position": null,
            "order": null,
            "overflow": null,
            "overflow_x": null,
            "overflow_y": null,
            "padding": null,
            "right": null,
            "top": null,
            "visibility": null,
            "width": null
          }
        },
        "c754fc94635d4e1aa47447664ef0b881": {
          "model_module": "@jupyter-widgets/controls",
          "model_name": "DescriptionStyleModel",
          "model_module_version": "1.5.0",
          "state": {
            "_model_module": "@jupyter-widgets/controls",
            "_model_module_version": "1.5.0",
            "_model_name": "DescriptionStyleModel",
            "_view_count": null,
            "_view_module": "@jupyter-widgets/base",
            "_view_module_version": "1.2.0",
            "_view_name": "StyleView",
            "description_width": ""
          }
        },
        "f6d9f8d7fc6148d080787a2a004124c1": {
          "model_module": "@jupyter-widgets/base",
          "model_name": "LayoutModel",
          "model_module_version": "1.2.0",
          "state": {
            "_model_module": "@jupyter-widgets/base",
            "_model_module_version": "1.2.0",
            "_model_name": "LayoutModel",
            "_view_count": null,
            "_view_module": "@jupyter-widgets/base",
            "_view_module_version": "1.2.0",
            "_view_name": "LayoutView",
            "align_content": null,
            "align_items": null,
            "align_self": null,
            "border": null,
            "bottom": null,
            "display": null,
            "flex": null,
            "flex_flow": null,
            "grid_area": null,
            "grid_auto_columns": null,
            "grid_auto_flow": null,
            "grid_auto_rows": null,
            "grid_column": null,
            "grid_gap": null,
            "grid_row": null,
            "grid_template_areas": null,
            "grid_template_columns": null,
            "grid_template_rows": null,
            "height": null,
            "justify_content": null,
            "justify_items": null,
            "left": null,
            "margin": null,
            "max_height": null,
            "max_width": null,
            "min_height": null,
            "min_width": null,
            "object_fit": null,
            "object_position": null,
            "order": null,
            "overflow": null,
            "overflow_x": null,
            "overflow_y": null,
            "padding": null,
            "right": null,
            "top": null,
            "visibility": null,
            "width": null
          }
        },
        "1767e2df4236487baded979217f6137d": {
          "model_module": "@jupyter-widgets/controls",
          "model_name": "ProgressStyleModel",
          "model_module_version": "1.5.0",
          "state": {
            "_model_module": "@jupyter-widgets/controls",
            "_model_module_version": "1.5.0",
            "_model_name": "ProgressStyleModel",
            "_view_count": null,
            "_view_module": "@jupyter-widgets/base",
            "_view_module_version": "1.2.0",
            "_view_name": "StyleView",
            "bar_color": null,
            "description_width": ""
          }
        },
        "2bb55c9f2852484fb73dd670f63ea6eb": {
          "model_module": "@jupyter-widgets/base",
          "model_name": "LayoutModel",
          "model_module_version": "1.2.0",
          "state": {
            "_model_module": "@jupyter-widgets/base",
            "_model_module_version": "1.2.0",
            "_model_name": "LayoutModel",
            "_view_count": null,
            "_view_module": "@jupyter-widgets/base",
            "_view_module_version": "1.2.0",
            "_view_name": "LayoutView",
            "align_content": null,
            "align_items": null,
            "align_self": null,
            "border": null,
            "bottom": null,
            "display": null,
            "flex": null,
            "flex_flow": null,
            "grid_area": null,
            "grid_auto_columns": null,
            "grid_auto_flow": null,
            "grid_auto_rows": null,
            "grid_column": null,
            "grid_gap": null,
            "grid_row": null,
            "grid_template_areas": null,
            "grid_template_columns": null,
            "grid_template_rows": null,
            "height": null,
            "justify_content": null,
            "justify_items": null,
            "left": null,
            "margin": null,
            "max_height": null,
            "max_width": null,
            "min_height": null,
            "min_width": null,
            "object_fit": null,
            "object_position": null,
            "order": null,
            "overflow": null,
            "overflow_x": null,
            "overflow_y": null,
            "padding": null,
            "right": null,
            "top": null,
            "visibility": null,
            "width": null
          }
        },
        "20d66d6bddc04b95935a09b205bf71a5": {
          "model_module": "@jupyter-widgets/controls",
          "model_name": "DescriptionStyleModel",
          "model_module_version": "1.5.0",
          "state": {
            "_model_module": "@jupyter-widgets/controls",
            "_model_module_version": "1.5.0",
            "_model_name": "DescriptionStyleModel",
            "_view_count": null,
            "_view_module": "@jupyter-widgets/base",
            "_view_module_version": "1.2.0",
            "_view_name": "StyleView",
            "description_width": ""
          }
        },
        "ec367693217e4296945e38f7e180cc90": {
          "model_module": "@jupyter-widgets/controls",
          "model_name": "HBoxModel",
          "model_module_version": "1.5.0",
          "state": {
            "_dom_classes": [],
            "_model_module": "@jupyter-widgets/controls",
            "_model_module_version": "1.5.0",
            "_model_name": "HBoxModel",
            "_view_count": null,
            "_view_module": "@jupyter-widgets/controls",
            "_view_module_version": "1.5.0",
            "_view_name": "HBoxView",
            "box_style": "",
            "children": [
              "IPY_MODEL_fce0003b324c42958c56f2b24b4aff9a",
              "IPY_MODEL_9eddbd3e033a49d38acae03db5fe55e6",
              "IPY_MODEL_cbb0b0a855594b8f9c3155b3cc41cf05"
            ],
            "layout": "IPY_MODEL_5b0d383adf5b4cf0b86f239134727847"
          }
        },
        "fce0003b324c42958c56f2b24b4aff9a": {
          "model_module": "@jupyter-widgets/controls",
          "model_name": "HTMLModel",
          "model_module_version": "1.5.0",
          "state": {
            "_dom_classes": [],
            "_model_module": "@jupyter-widgets/controls",
            "_model_module_version": "1.5.0",
            "_model_name": "HTMLModel",
            "_view_count": null,
            "_view_module": "@jupyter-widgets/controls",
            "_view_module_version": "1.5.0",
            "_view_name": "HTMLView",
            "description": "",
            "description_tooltip": null,
            "layout": "IPY_MODEL_b0949b2fcc814dceb21e43efa18988d8",
            "placeholder": "​",
            "style": "IPY_MODEL_44500032380f4e31ba0f1d96b3e54dd8",
            "value": "preprocessor_config.json: 100%"
          }
        },
        "9eddbd3e033a49d38acae03db5fe55e6": {
          "model_module": "@jupyter-widgets/controls",
          "model_name": "FloatProgressModel",
          "model_module_version": "1.5.0",
          "state": {
            "_dom_classes": [],
            "_model_module": "@jupyter-widgets/controls",
            "_model_module_version": "1.5.0",
            "_model_name": "FloatProgressModel",
            "_view_count": null,
            "_view_module": "@jupyter-widgets/controls",
            "_view_module_version": "1.5.0",
            "_view_name": "ProgressView",
            "bar_style": "success",
            "description": "",
            "description_tooltip": null,
            "layout": "IPY_MODEL_10a695b5f3c74237ac07d505a2591957",
            "max": 578,
            "min": 0,
            "orientation": "horizontal",
            "style": "IPY_MODEL_6bb2d60223c14b3eb0c840441b303389",
            "value": 578
          }
        },
        "cbb0b0a855594b8f9c3155b3cc41cf05": {
          "model_module": "@jupyter-widgets/controls",
          "model_name": "HTMLModel",
          "model_module_version": "1.5.0",
          "state": {
            "_dom_classes": [],
            "_model_module": "@jupyter-widgets/controls",
            "_model_module_version": "1.5.0",
            "_model_name": "HTMLModel",
            "_view_count": null,
            "_view_module": "@jupyter-widgets/controls",
            "_view_module_version": "1.5.0",
            "_view_name": "HTMLView",
            "description": "",
            "description_tooltip": null,
            "layout": "IPY_MODEL_6f23cdba83ba4e6db52d5621246364cc",
            "placeholder": "​",
            "style": "IPY_MODEL_31f12987b9074b1b97ccbc75184f3cb9",
            "value": " 578/578 [00:00&lt;00:00, 28.1kB/s]"
          }
        },
        "5b0d383adf5b4cf0b86f239134727847": {
          "model_module": "@jupyter-widgets/base",
          "model_name": "LayoutModel",
          "model_module_version": "1.2.0",
          "state": {
            "_model_module": "@jupyter-widgets/base",
            "_model_module_version": "1.2.0",
            "_model_name": "LayoutModel",
            "_view_count": null,
            "_view_module": "@jupyter-widgets/base",
            "_view_module_version": "1.2.0",
            "_view_name": "LayoutView",
            "align_content": null,
            "align_items": null,
            "align_self": null,
            "border": null,
            "bottom": null,
            "display": null,
            "flex": null,
            "flex_flow": null,
            "grid_area": null,
            "grid_auto_columns": null,
            "grid_auto_flow": null,
            "grid_auto_rows": null,
            "grid_column": null,
            "grid_gap": null,
            "grid_row": null,
            "grid_template_areas": null,
            "grid_template_columns": null,
            "grid_template_rows": null,
            "height": null,
            "justify_content": null,
            "justify_items": null,
            "left": null,
            "margin": null,
            "max_height": null,
            "max_width": null,
            "min_height": null,
            "min_width": null,
            "object_fit": null,
            "object_position": null,
            "order": null,
            "overflow": null,
            "overflow_x": null,
            "overflow_y": null,
            "padding": null,
            "right": null,
            "top": null,
            "visibility": null,
            "width": null
          }
        },
        "b0949b2fcc814dceb21e43efa18988d8": {
          "model_module": "@jupyter-widgets/base",
          "model_name": "LayoutModel",
          "model_module_version": "1.2.0",
          "state": {
            "_model_module": "@jupyter-widgets/base",
            "_model_module_version": "1.2.0",
            "_model_name": "LayoutModel",
            "_view_count": null,
            "_view_module": "@jupyter-widgets/base",
            "_view_module_version": "1.2.0",
            "_view_name": "LayoutView",
            "align_content": null,
            "align_items": null,
            "align_self": null,
            "border": null,
            "bottom": null,
            "display": null,
            "flex": null,
            "flex_flow": null,
            "grid_area": null,
            "grid_auto_columns": null,
            "grid_auto_flow": null,
            "grid_auto_rows": null,
            "grid_column": null,
            "grid_gap": null,
            "grid_row": null,
            "grid_template_areas": null,
            "grid_template_columns": null,
            "grid_template_rows": null,
            "height": null,
            "justify_content": null,
            "justify_items": null,
            "left": null,
            "margin": null,
            "max_height": null,
            "max_width": null,
            "min_height": null,
            "min_width": null,
            "object_fit": null,
            "object_position": null,
            "order": null,
            "overflow": null,
            "overflow_x": null,
            "overflow_y": null,
            "padding": null,
            "right": null,
            "top": null,
            "visibility": null,
            "width": null
          }
        },
        "44500032380f4e31ba0f1d96b3e54dd8": {
          "model_module": "@jupyter-widgets/controls",
          "model_name": "DescriptionStyleModel",
          "model_module_version": "1.5.0",
          "state": {
            "_model_module": "@jupyter-widgets/controls",
            "_model_module_version": "1.5.0",
            "_model_name": "DescriptionStyleModel",
            "_view_count": null,
            "_view_module": "@jupyter-widgets/base",
            "_view_module_version": "1.2.0",
            "_view_name": "StyleView",
            "description_width": ""
          }
        },
        "10a695b5f3c74237ac07d505a2591957": {
          "model_module": "@jupyter-widgets/base",
          "model_name": "LayoutModel",
          "model_module_version": "1.2.0",
          "state": {
            "_model_module": "@jupyter-widgets/base",
            "_model_module_version": "1.2.0",
            "_model_name": "LayoutModel",
            "_view_count": null,
            "_view_module": "@jupyter-widgets/base",
            "_view_module_version": "1.2.0",
            "_view_name": "LayoutView",
            "align_content": null,
            "align_items": null,
            "align_self": null,
            "border": null,
            "bottom": null,
            "display": null,
            "flex": null,
            "flex_flow": null,
            "grid_area": null,
            "grid_auto_columns": null,
            "grid_auto_flow": null,
            "grid_auto_rows": null,
            "grid_column": null,
            "grid_gap": null,
            "grid_row": null,
            "grid_template_areas": null,
            "grid_template_columns": null,
            "grid_template_rows": null,
            "height": null,
            "justify_content": null,
            "justify_items": null,
            "left": null,
            "margin": null,
            "max_height": null,
            "max_width": null,
            "min_height": null,
            "min_width": null,
            "object_fit": null,
            "object_position": null,
            "order": null,
            "overflow": null,
            "overflow_x": null,
            "overflow_y": null,
            "padding": null,
            "right": null,
            "top": null,
            "visibility": null,
            "width": null
          }
        },
        "6bb2d60223c14b3eb0c840441b303389": {
          "model_module": "@jupyter-widgets/controls",
          "model_name": "ProgressStyleModel",
          "model_module_version": "1.5.0",
          "state": {
            "_model_module": "@jupyter-widgets/controls",
            "_model_module_version": "1.5.0",
            "_model_name": "ProgressStyleModel",
            "_view_count": null,
            "_view_module": "@jupyter-widgets/base",
            "_view_module_version": "1.2.0",
            "_view_name": "StyleView",
            "bar_color": null,
            "description_width": ""
          }
        },
        "6f23cdba83ba4e6db52d5621246364cc": {
          "model_module": "@jupyter-widgets/base",
          "model_name": "LayoutModel",
          "model_module_version": "1.2.0",
          "state": {
            "_model_module": "@jupyter-widgets/base",
            "_model_module_version": "1.2.0",
            "_model_name": "LayoutModel",
            "_view_count": null,
            "_view_module": "@jupyter-widgets/base",
            "_view_module_version": "1.2.0",
            "_view_name": "LayoutView",
            "align_content": null,
            "align_items": null,
            "align_self": null,
            "border": null,
            "bottom": null,
            "display": null,
            "flex": null,
            "flex_flow": null,
            "grid_area": null,
            "grid_auto_columns": null,
            "grid_auto_flow": null,
            "grid_auto_rows": null,
            "grid_column": null,
            "grid_gap": null,
            "grid_row": null,
            "grid_template_areas": null,
            "grid_template_columns": null,
            "grid_template_rows": null,
            "height": null,
            "justify_content": null,
            "justify_items": null,
            "left": null,
            "margin": null,
            "max_height": null,
            "max_width": null,
            "min_height": null,
            "min_width": null,
            "object_fit": null,
            "object_position": null,
            "order": null,
            "overflow": null,
            "overflow_x": null,
            "overflow_y": null,
            "padding": null,
            "right": null,
            "top": null,
            "visibility": null,
            "width": null
          }
        },
        "31f12987b9074b1b97ccbc75184f3cb9": {
          "model_module": "@jupyter-widgets/controls",
          "model_name": "DescriptionStyleModel",
          "model_module_version": "1.5.0",
          "state": {
            "_model_module": "@jupyter-widgets/controls",
            "_model_module_version": "1.5.0",
            "_model_name": "DescriptionStyleModel",
            "_view_count": null,
            "_view_module": "@jupyter-widgets/base",
            "_view_module_version": "1.2.0",
            "_view_name": "StyleView",
            "description_width": ""
          }
        },
        "fabf5e142b0b493fbee46ea0ffe67be1": {
          "model_module": "@jupyter-widgets/controls",
          "model_name": "HBoxModel",
          "model_module_version": "1.5.0",
          "state": {
            "_dom_classes": [],
            "_model_module": "@jupyter-widgets/controls",
            "_model_module_version": "1.5.0",
            "_model_name": "HBoxModel",
            "_view_count": null,
            "_view_module": "@jupyter-widgets/controls",
            "_view_module_version": "1.5.0",
            "_view_name": "HBoxView",
            "box_style": "",
            "children": [
              "IPY_MODEL_7d6cf82b2e3146c6a4d6259789de1c81",
              "IPY_MODEL_b4e183fd60a941d5b7a04bf10883cb7e",
              "IPY_MODEL_1e7ae725e20544f585b4e913ebaec2ee"
            ],
            "layout": "IPY_MODEL_6ae035a1a5624af1af35ba9769edd919"
          }
        },
        "7d6cf82b2e3146c6a4d6259789de1c81": {
          "model_module": "@jupyter-widgets/controls",
          "model_name": "HTMLModel",
          "model_module_version": "1.5.0",
          "state": {
            "_dom_classes": [],
            "_model_module": "@jupyter-widgets/controls",
            "_model_module_version": "1.5.0",
            "_model_name": "HTMLModel",
            "_view_count": null,
            "_view_module": "@jupyter-widgets/controls",
            "_view_module_version": "1.5.0",
            "_view_name": "HTMLView",
            "description": "",
            "description_tooltip": null,
            "layout": "IPY_MODEL_bcd73a741d3c4a5384177b4050451f8e",
            "placeholder": "​",
            "style": "IPY_MODEL_b537ac902a6e41f0971dd5daef62404e",
            "value": "config.json: 100%"
          }
        },
        "b4e183fd60a941d5b7a04bf10883cb7e": {
          "model_module": "@jupyter-widgets/controls",
          "model_name": "FloatProgressModel",
          "model_module_version": "1.5.0",
          "state": {
            "_dom_classes": [],
            "_model_module": "@jupyter-widgets/controls",
            "_model_module_version": "1.5.0",
            "_model_name": "FloatProgressModel",
            "_view_count": null,
            "_view_module": "@jupyter-widgets/controls",
            "_view_module_version": "1.5.0",
            "_view_name": "ProgressView",
            "bar_style": "success",
            "description": "",
            "description_tooltip": null,
            "layout": "IPY_MODEL_dab5c39ce01d4d229ba7eb61a73af42b",
            "max": 847,
            "min": 0,
            "orientation": "horizontal",
            "style": "IPY_MODEL_9d4a5e659ec942efb2e857dc9ad4a660",
            "value": 847
          }
        },
        "1e7ae725e20544f585b4e913ebaec2ee": {
          "model_module": "@jupyter-widgets/controls",
          "model_name": "HTMLModel",
          "model_module_version": "1.5.0",
          "state": {
            "_dom_classes": [],
            "_model_module": "@jupyter-widgets/controls",
            "_model_module_version": "1.5.0",
            "_model_name": "HTMLModel",
            "_view_count": null,
            "_view_module": "@jupyter-widgets/controls",
            "_view_module_version": "1.5.0",
            "_view_name": "HTMLView",
            "description": "",
            "description_tooltip": null,
            "layout": "IPY_MODEL_f4197fa78c1f4651ae44331a8b02893f",
            "placeholder": "​",
            "style": "IPY_MODEL_f3ba7438d9874310ad26ea092fec3646",
            "value": " 847/847 [00:00&lt;00:00, 25.3kB/s]"
          }
        },
        "6ae035a1a5624af1af35ba9769edd919": {
          "model_module": "@jupyter-widgets/base",
          "model_name": "LayoutModel",
          "model_module_version": "1.2.0",
          "state": {
            "_model_module": "@jupyter-widgets/base",
            "_model_module_version": "1.2.0",
            "_model_name": "LayoutModel",
            "_view_count": null,
            "_view_module": "@jupyter-widgets/base",
            "_view_module_version": "1.2.0",
            "_view_name": "LayoutView",
            "align_content": null,
            "align_items": null,
            "align_self": null,
            "border": null,
            "bottom": null,
            "display": null,
            "flex": null,
            "flex_flow": null,
            "grid_area": null,
            "grid_auto_columns": null,
            "grid_auto_flow": null,
            "grid_auto_rows": null,
            "grid_column": null,
            "grid_gap": null,
            "grid_row": null,
            "grid_template_areas": null,
            "grid_template_columns": null,
            "grid_template_rows": null,
            "height": null,
            "justify_content": null,
            "justify_items": null,
            "left": null,
            "margin": null,
            "max_height": null,
            "max_width": null,
            "min_height": null,
            "min_width": null,
            "object_fit": null,
            "object_position": null,
            "order": null,
            "overflow": null,
            "overflow_x": null,
            "overflow_y": null,
            "padding": null,
            "right": null,
            "top": null,
            "visibility": null,
            "width": null
          }
        },
        "bcd73a741d3c4a5384177b4050451f8e": {
          "model_module": "@jupyter-widgets/base",
          "model_name": "LayoutModel",
          "model_module_version": "1.2.0",
          "state": {
            "_model_module": "@jupyter-widgets/base",
            "_model_module_version": "1.2.0",
            "_model_name": "LayoutModel",
            "_view_count": null,
            "_view_module": "@jupyter-widgets/base",
            "_view_module_version": "1.2.0",
            "_view_name": "LayoutView",
            "align_content": null,
            "align_items": null,
            "align_self": null,
            "border": null,
            "bottom": null,
            "display": null,
            "flex": null,
            "flex_flow": null,
            "grid_area": null,
            "grid_auto_columns": null,
            "grid_auto_flow": null,
            "grid_auto_rows": null,
            "grid_column": null,
            "grid_gap": null,
            "grid_row": null,
            "grid_template_areas": null,
            "grid_template_columns": null,
            "grid_template_rows": null,
            "height": null,
            "justify_content": null,
            "justify_items": null,
            "left": null,
            "margin": null,
            "max_height": null,
            "max_width": null,
            "min_height": null,
            "min_width": null,
            "object_fit": null,
            "object_position": null,
            "order": null,
            "overflow": null,
            "overflow_x": null,
            "overflow_y": null,
            "padding": null,
            "right": null,
            "top": null,
            "visibility": null,
            "width": null
          }
        },
        "b537ac902a6e41f0971dd5daef62404e": {
          "model_module": "@jupyter-widgets/controls",
          "model_name": "DescriptionStyleModel",
          "model_module_version": "1.5.0",
          "state": {
            "_model_module": "@jupyter-widgets/controls",
            "_model_module_version": "1.5.0",
            "_model_name": "DescriptionStyleModel",
            "_view_count": null,
            "_view_module": "@jupyter-widgets/base",
            "_view_module_version": "1.2.0",
            "_view_name": "StyleView",
            "description_width": ""
          }
        },
        "dab5c39ce01d4d229ba7eb61a73af42b": {
          "model_module": "@jupyter-widgets/base",
          "model_name": "LayoutModel",
          "model_module_version": "1.2.0",
          "state": {
            "_model_module": "@jupyter-widgets/base",
            "_model_module_version": "1.2.0",
            "_model_name": "LayoutModel",
            "_view_count": null,
            "_view_module": "@jupyter-widgets/base",
            "_view_module_version": "1.2.0",
            "_view_name": "LayoutView",
            "align_content": null,
            "align_items": null,
            "align_self": null,
            "border": null,
            "bottom": null,
            "display": null,
            "flex": null,
            "flex_flow": null,
            "grid_area": null,
            "grid_auto_columns": null,
            "grid_auto_flow": null,
            "grid_auto_rows": null,
            "grid_column": null,
            "grid_gap": null,
            "grid_row": null,
            "grid_template_areas": null,
            "grid_template_columns": null,
            "grid_template_rows": null,
            "height": null,
            "justify_content": null,
            "justify_items": null,
            "left": null,
            "margin": null,
            "max_height": null,
            "max_width": null,
            "min_height": null,
            "min_width": null,
            "object_fit": null,
            "object_position": null,
            "order": null,
            "overflow": null,
            "overflow_x": null,
            "overflow_y": null,
            "padding": null,
            "right": null,
            "top": null,
            "visibility": null,
            "width": null
          }
        },
        "9d4a5e659ec942efb2e857dc9ad4a660": {
          "model_module": "@jupyter-widgets/controls",
          "model_name": "ProgressStyleModel",
          "model_module_version": "1.5.0",
          "state": {
            "_model_module": "@jupyter-widgets/controls",
            "_model_module_version": "1.5.0",
            "_model_name": "ProgressStyleModel",
            "_view_count": null,
            "_view_module": "@jupyter-widgets/base",
            "_view_module_version": "1.2.0",
            "_view_name": "StyleView",
            "bar_color": null,
            "description_width": ""
          }
        },
        "f4197fa78c1f4651ae44331a8b02893f": {
          "model_module": "@jupyter-widgets/base",
          "model_name": "LayoutModel",
          "model_module_version": "1.2.0",
          "state": {
            "_model_module": "@jupyter-widgets/base",
            "_model_module_version": "1.2.0",
            "_model_name": "LayoutModel",
            "_view_count": null,
            "_view_module": "@jupyter-widgets/base",
            "_view_module_version": "1.2.0",
            "_view_name": "LayoutView",
            "align_content": null,
            "align_items": null,
            "align_self": null,
            "border": null,
            "bottom": null,
            "display": null,
            "flex": null,
            "flex_flow": null,
            "grid_area": null,
            "grid_auto_columns": null,
            "grid_auto_flow": null,
            "grid_auto_rows": null,
            "grid_column": null,
            "grid_gap": null,
            "grid_row": null,
            "grid_template_areas": null,
            "grid_template_columns": null,
            "grid_template_rows": null,
            "height": null,
            "justify_content": null,
            "justify_items": null,
            "left": null,
            "margin": null,
            "max_height": null,
            "max_width": null,
            "min_height": null,
            "min_width": null,
            "object_fit": null,
            "object_position": null,
            "order": null,
            "overflow": null,
            "overflow_x": null,
            "overflow_y": null,
            "padding": null,
            "right": null,
            "top": null,
            "visibility": null,
            "width": null
          }
        },
        "f3ba7438d9874310ad26ea092fec3646": {
          "model_module": "@jupyter-widgets/controls",
          "model_name": "DescriptionStyleModel",
          "model_module_version": "1.5.0",
          "state": {
            "_model_module": "@jupyter-widgets/controls",
            "_model_module_version": "1.5.0",
            "_model_name": "DescriptionStyleModel",
            "_view_count": null,
            "_view_module": "@jupyter-widgets/base",
            "_view_module_version": "1.2.0",
            "_view_name": "StyleView",
            "description_width": ""
          }
        },
        "86ecd3069dc04cf49c6afe68afebec9a": {
          "model_module": "@jupyter-widgets/controls",
          "model_name": "HBoxModel",
          "model_module_version": "1.5.0",
          "state": {
            "_dom_classes": [],
            "_model_module": "@jupyter-widgets/controls",
            "_model_module_version": "1.5.0",
            "_model_name": "HBoxModel",
            "_view_count": null,
            "_view_module": "@jupyter-widgets/controls",
            "_view_module_version": "1.5.0",
            "_view_name": "HBoxView",
            "box_style": "",
            "children": [
              "IPY_MODEL_5774707bf3d4413eb79f2546d4f29989",
              "IPY_MODEL_4a29cfd6da224fb8bd75ef01e39b68e5",
              "IPY_MODEL_0f14bf666d5346f4b57a84dff69abd06"
            ],
            "layout": "IPY_MODEL_697d24ae304e4d55873bef815d4404db"
          }
        },
        "5774707bf3d4413eb79f2546d4f29989": {
          "model_module": "@jupyter-widgets/controls",
          "model_name": "HTMLModel",
          "model_module_version": "1.5.0",
          "state": {
            "_dom_classes": [],
            "_model_module": "@jupyter-widgets/controls",
            "_model_module_version": "1.5.0",
            "_model_name": "HTMLModel",
            "_view_count": null,
            "_view_module": "@jupyter-widgets/controls",
            "_view_module_version": "1.5.0",
            "_view_name": "HTMLView",
            "description": "",
            "description_tooltip": null,
            "layout": "IPY_MODEL_02432431fddd46e4a7df1b525ba71aa8",
            "placeholder": "​",
            "style": "IPY_MODEL_f5f8652cf0aa4dcea726435d7ba2ed31",
            "value": "model.safetensors: 100%"
          }
        },
        "4a29cfd6da224fb8bd75ef01e39b68e5": {
          "model_module": "@jupyter-widgets/controls",
          "model_name": "FloatProgressModel",
          "model_module_version": "1.5.0",
          "state": {
            "_dom_classes": [],
            "_model_module": "@jupyter-widgets/controls",
            "_model_module_version": "1.5.0",
            "_model_name": "FloatProgressModel",
            "_view_count": null,
            "_view_module": "@jupyter-widgets/controls",
            "_view_module_version": "1.5.0",
            "_view_name": "ProgressView",
            "bar_style": "success",
            "description": "",
            "description_tooltip": null,
            "layout": "IPY_MODEL_a87456fae34b4f7e9d2ad8a538fc8244",
            "max": 343230128,
            "min": 0,
            "orientation": "horizontal",
            "style": "IPY_MODEL_7e031792ffd740a881d775abe4aeaebc",
            "value": 343230128
          }
        },
        "0f14bf666d5346f4b57a84dff69abd06": {
          "model_module": "@jupyter-widgets/controls",
          "model_name": "HTMLModel",
          "model_module_version": "1.5.0",
          "state": {
            "_dom_classes": [],
            "_model_module": "@jupyter-widgets/controls",
            "_model_module_version": "1.5.0",
            "_model_name": "HTMLModel",
            "_view_count": null,
            "_view_module": "@jupyter-widgets/controls",
            "_view_module_version": "1.5.0",
            "_view_name": "HTMLView",
            "description": "",
            "description_tooltip": null,
            "layout": "IPY_MODEL_c1b0713e76e4444b897e90f909cffe12",
            "placeholder": "​",
            "style": "IPY_MODEL_9488569c54ae42309fa7ce39f0ceea1f",
            "value": " 343M/343M [00:06&lt;00:00, 50.7MB/s]"
          }
        },
        "697d24ae304e4d55873bef815d4404db": {
          "model_module": "@jupyter-widgets/base",
          "model_name": "LayoutModel",
          "model_module_version": "1.2.0",
          "state": {
            "_model_module": "@jupyter-widgets/base",
            "_model_module_version": "1.2.0",
            "_model_name": "LayoutModel",
            "_view_count": null,
            "_view_module": "@jupyter-widgets/base",
            "_view_module_version": "1.2.0",
            "_view_name": "LayoutView",
            "align_content": null,
            "align_items": null,
            "align_self": null,
            "border": null,
            "bottom": null,
            "display": null,
            "flex": null,
            "flex_flow": null,
            "grid_area": null,
            "grid_auto_columns": null,
            "grid_auto_flow": null,
            "grid_auto_rows": null,
            "grid_column": null,
            "grid_gap": null,
            "grid_row": null,
            "grid_template_areas": null,
            "grid_template_columns": null,
            "grid_template_rows": null,
            "height": null,
            "justify_content": null,
            "justify_items": null,
            "left": null,
            "margin": null,
            "max_height": null,
            "max_width": null,
            "min_height": null,
            "min_width": null,
            "object_fit": null,
            "object_position": null,
            "order": null,
            "overflow": null,
            "overflow_x": null,
            "overflow_y": null,
            "padding": null,
            "right": null,
            "top": null,
            "visibility": null,
            "width": null
          }
        },
        "02432431fddd46e4a7df1b525ba71aa8": {
          "model_module": "@jupyter-widgets/base",
          "model_name": "LayoutModel",
          "model_module_version": "1.2.0",
          "state": {
            "_model_module": "@jupyter-widgets/base",
            "_model_module_version": "1.2.0",
            "_model_name": "LayoutModel",
            "_view_count": null,
            "_view_module": "@jupyter-widgets/base",
            "_view_module_version": "1.2.0",
            "_view_name": "LayoutView",
            "align_content": null,
            "align_items": null,
            "align_self": null,
            "border": null,
            "bottom": null,
            "display": null,
            "flex": null,
            "flex_flow": null,
            "grid_area": null,
            "grid_auto_columns": null,
            "grid_auto_flow": null,
            "grid_auto_rows": null,
            "grid_column": null,
            "grid_gap": null,
            "grid_row": null,
            "grid_template_areas": null,
            "grid_template_columns": null,
            "grid_template_rows": null,
            "height": null,
            "justify_content": null,
            "justify_items": null,
            "left": null,
            "margin": null,
            "max_height": null,
            "max_width": null,
            "min_height": null,
            "min_width": null,
            "object_fit": null,
            "object_position": null,
            "order": null,
            "overflow": null,
            "overflow_x": null,
            "overflow_y": null,
            "padding": null,
            "right": null,
            "top": null,
            "visibility": null,
            "width": null
          }
        },
        "f5f8652cf0aa4dcea726435d7ba2ed31": {
          "model_module": "@jupyter-widgets/controls",
          "model_name": "DescriptionStyleModel",
          "model_module_version": "1.5.0",
          "state": {
            "_model_module": "@jupyter-widgets/controls",
            "_model_module_version": "1.5.0",
            "_model_name": "DescriptionStyleModel",
            "_view_count": null,
            "_view_module": "@jupyter-widgets/base",
            "_view_module_version": "1.2.0",
            "_view_name": "StyleView",
            "description_width": ""
          }
        },
        "a87456fae34b4f7e9d2ad8a538fc8244": {
          "model_module": "@jupyter-widgets/base",
          "model_name": "LayoutModel",
          "model_module_version": "1.2.0",
          "state": {
            "_model_module": "@jupyter-widgets/base",
            "_model_module_version": "1.2.0",
            "_model_name": "LayoutModel",
            "_view_count": null,
            "_view_module": "@jupyter-widgets/base",
            "_view_module_version": "1.2.0",
            "_view_name": "LayoutView",
            "align_content": null,
            "align_items": null,
            "align_self": null,
            "border": null,
            "bottom": null,
            "display": null,
            "flex": null,
            "flex_flow": null,
            "grid_area": null,
            "grid_auto_columns": null,
            "grid_auto_flow": null,
            "grid_auto_rows": null,
            "grid_column": null,
            "grid_gap": null,
            "grid_row": null,
            "grid_template_areas": null,
            "grid_template_columns": null,
            "grid_template_rows": null,
            "height": null,
            "justify_content": null,
            "justify_items": null,
            "left": null,
            "margin": null,
            "max_height": null,
            "max_width": null,
            "min_height": null,
            "min_width": null,
            "object_fit": null,
            "object_position": null,
            "order": null,
            "overflow": null,
            "overflow_x": null,
            "overflow_y": null,
            "padding": null,
            "right": null,
            "top": null,
            "visibility": null,
            "width": null
          }
        },
        "7e031792ffd740a881d775abe4aeaebc": {
          "model_module": "@jupyter-widgets/controls",
          "model_name": "ProgressStyleModel",
          "model_module_version": "1.5.0",
          "state": {
            "_model_module": "@jupyter-widgets/controls",
            "_model_module_version": "1.5.0",
            "_model_name": "ProgressStyleModel",
            "_view_count": null,
            "_view_module": "@jupyter-widgets/base",
            "_view_module_version": "1.2.0",
            "_view_name": "StyleView",
            "bar_color": null,
            "description_width": ""
          }
        },
        "c1b0713e76e4444b897e90f909cffe12": {
          "model_module": "@jupyter-widgets/base",
          "model_name": "LayoutModel",
          "model_module_version": "1.2.0",
          "state": {
            "_model_module": "@jupyter-widgets/base",
            "_model_module_version": "1.2.0",
            "_model_name": "LayoutModel",
            "_view_count": null,
            "_view_module": "@jupyter-widgets/base",
            "_view_module_version": "1.2.0",
            "_view_name": "LayoutView",
            "align_content": null,
            "align_items": null,
            "align_self": null,
            "border": null,
            "bottom": null,
            "display": null,
            "flex": null,
            "flex_flow": null,
            "grid_area": null,
            "grid_auto_columns": null,
            "grid_auto_flow": null,
            "grid_auto_rows": null,
            "grid_column": null,
            "grid_gap": null,
            "grid_row": null,
            "grid_template_areas": null,
            "grid_template_columns": null,
            "grid_template_rows": null,
            "height": null,
            "justify_content": null,
            "justify_items": null,
            "left": null,
            "margin": null,
            "max_height": null,
            "max_width": null,
            "min_height": null,
            "min_width": null,
            "object_fit": null,
            "object_position": null,
            "order": null,
            "overflow": null,
            "overflow_x": null,
            "overflow_y": null,
            "padding": null,
            "right": null,
            "top": null,
            "visibility": null,
            "width": null
          }
        },
        "9488569c54ae42309fa7ce39f0ceea1f": {
          "model_module": "@jupyter-widgets/controls",
          "model_name": "DescriptionStyleModel",
          "model_module_version": "1.5.0",
          "state": {
            "_model_module": "@jupyter-widgets/controls",
            "_model_module_version": "1.5.0",
            "_model_name": "DescriptionStyleModel",
            "_view_count": null,
            "_view_module": "@jupyter-widgets/base",
            "_view_module_version": "1.2.0",
            "_view_name": "StyleView",
            "description_width": ""
          }
        },
        "e61d600ba48d46309ab39942bdbf2c8c": {
          "model_module": "@jupyter-widgets/controls",
          "model_name": "HBoxModel",
          "model_module_version": "1.5.0",
          "state": {
            "_dom_classes": [],
            "_model_module": "@jupyter-widgets/controls",
            "_model_module_version": "1.5.0",
            "_model_name": "HBoxModel",
            "_view_count": null,
            "_view_module": "@jupyter-widgets/controls",
            "_view_module_version": "1.5.0",
            "_view_name": "HBoxView",
            "box_style": "",
            "children": [
              "IPY_MODEL_470e2acdba4b4249891540cb12217756",
              "IPY_MODEL_a8de7ddec0f1421ba5ba1160b83eb124",
              "IPY_MODEL_48220ccac27244aaa602fd4574424440"
            ],
            "layout": "IPY_MODEL_24601d8a49354d3d926b71c28d8bba6b"
          }
        },
        "470e2acdba4b4249891540cb12217756": {
          "model_module": "@jupyter-widgets/controls",
          "model_name": "HTMLModel",
          "model_module_version": "1.5.0",
          "state": {
            "_dom_classes": [],
            "_model_module": "@jupyter-widgets/controls",
            "_model_module_version": "1.5.0",
            "_model_name": "HTMLModel",
            "_view_count": null,
            "_view_module": "@jupyter-widgets/controls",
            "_view_module_version": "1.5.0",
            "_view_name": "HTMLView",
            "description": "",
            "description_tooltip": null,
            "layout": "IPY_MODEL_78167095cf124baeaa18b7ee509cfaf8",
            "placeholder": "​",
            "style": "IPY_MODEL_7ddc7232b07f474cb66284401c4ac764",
            "value": "preprocessor_config.json: 100%"
          }
        },
        "a8de7ddec0f1421ba5ba1160b83eb124": {
          "model_module": "@jupyter-widgets/controls",
          "model_name": "FloatProgressModel",
          "model_module_version": "1.5.0",
          "state": {
            "_dom_classes": [],
            "_model_module": "@jupyter-widgets/controls",
            "_model_module_version": "1.5.0",
            "_model_name": "FloatProgressModel",
            "_view_count": null,
            "_view_module": "@jupyter-widgets/controls",
            "_view_module_version": "1.5.0",
            "_view_name": "ProgressView",
            "bar_style": "success",
            "description": "",
            "description_tooltip": null,
            "layout": "IPY_MODEL_7dcba92520e64c8ab6392818584b64f4",
            "max": 240,
            "min": 0,
            "orientation": "horizontal",
            "style": "IPY_MODEL_26a88c847ac24197aef2e50bb3b38886",
            "value": 240
          }
        },
        "48220ccac27244aaa602fd4574424440": {
          "model_module": "@jupyter-widgets/controls",
          "model_name": "HTMLModel",
          "model_module_version": "1.5.0",
          "state": {
            "_dom_classes": [],
            "_model_module": "@jupyter-widgets/controls",
            "_model_module_version": "1.5.0",
            "_model_name": "HTMLModel",
            "_view_count": null,
            "_view_module": "@jupyter-widgets/controls",
            "_view_module_version": "1.5.0",
            "_view_name": "HTMLView",
            "description": "",
            "description_tooltip": null,
            "layout": "IPY_MODEL_fed23686c8524b9fb58391b30ae84b8a",
            "placeholder": "​",
            "style": "IPY_MODEL_c8ac074c7bb04506a08645efa2cabad7",
            "value": " 240/240 [00:00&lt;00:00, 11.5kB/s]"
          }
        },
        "24601d8a49354d3d926b71c28d8bba6b": {
          "model_module": "@jupyter-widgets/base",
          "model_name": "LayoutModel",
          "model_module_version": "1.2.0",
          "state": {
            "_model_module": "@jupyter-widgets/base",
            "_model_module_version": "1.2.0",
            "_model_name": "LayoutModel",
            "_view_count": null,
            "_view_module": "@jupyter-widgets/base",
            "_view_module_version": "1.2.0",
            "_view_name": "LayoutView",
            "align_content": null,
            "align_items": null,
            "align_self": null,
            "border": null,
            "bottom": null,
            "display": null,
            "flex": null,
            "flex_flow": null,
            "grid_area": null,
            "grid_auto_columns": null,
            "grid_auto_flow": null,
            "grid_auto_rows": null,
            "grid_column": null,
            "grid_gap": null,
            "grid_row": null,
            "grid_template_areas": null,
            "grid_template_columns": null,
            "grid_template_rows": null,
            "height": null,
            "justify_content": null,
            "justify_items": null,
            "left": null,
            "margin": null,
            "max_height": null,
            "max_width": null,
            "min_height": null,
            "min_width": null,
            "object_fit": null,
            "object_position": null,
            "order": null,
            "overflow": null,
            "overflow_x": null,
            "overflow_y": null,
            "padding": null,
            "right": null,
            "top": null,
            "visibility": null,
            "width": null
          }
        },
        "78167095cf124baeaa18b7ee509cfaf8": {
          "model_module": "@jupyter-widgets/base",
          "model_name": "LayoutModel",
          "model_module_version": "1.2.0",
          "state": {
            "_model_module": "@jupyter-widgets/base",
            "_model_module_version": "1.2.0",
            "_model_name": "LayoutModel",
            "_view_count": null,
            "_view_module": "@jupyter-widgets/base",
            "_view_module_version": "1.2.0",
            "_view_name": "LayoutView",
            "align_content": null,
            "align_items": null,
            "align_self": null,
            "border": null,
            "bottom": null,
            "display": null,
            "flex": null,
            "flex_flow": null,
            "grid_area": null,
            "grid_auto_columns": null,
            "grid_auto_flow": null,
            "grid_auto_rows": null,
            "grid_column": null,
            "grid_gap": null,
            "grid_row": null,
            "grid_template_areas": null,
            "grid_template_columns": null,
            "grid_template_rows": null,
            "height": null,
            "justify_content": null,
            "justify_items": null,
            "left": null,
            "margin": null,
            "max_height": null,
            "max_width": null,
            "min_height": null,
            "min_width": null,
            "object_fit": null,
            "object_position": null,
            "order": null,
            "overflow": null,
            "overflow_x": null,
            "overflow_y": null,
            "padding": null,
            "right": null,
            "top": null,
            "visibility": null,
            "width": null
          }
        },
        "7ddc7232b07f474cb66284401c4ac764": {
          "model_module": "@jupyter-widgets/controls",
          "model_name": "DescriptionStyleModel",
          "model_module_version": "1.5.0",
          "state": {
            "_model_module": "@jupyter-widgets/controls",
            "_model_module_version": "1.5.0",
            "_model_name": "DescriptionStyleModel",
            "_view_count": null,
            "_view_module": "@jupyter-widgets/base",
            "_view_module_version": "1.2.0",
            "_view_name": "StyleView",
            "description_width": ""
          }
        },
        "7dcba92520e64c8ab6392818584b64f4": {
          "model_module": "@jupyter-widgets/base",
          "model_name": "LayoutModel",
          "model_module_version": "1.2.0",
          "state": {
            "_model_module": "@jupyter-widgets/base",
            "_model_module_version": "1.2.0",
            "_model_name": "LayoutModel",
            "_view_count": null,
            "_view_module": "@jupyter-widgets/base",
            "_view_module_version": "1.2.0",
            "_view_name": "LayoutView",
            "align_content": null,
            "align_items": null,
            "align_self": null,
            "border": null,
            "bottom": null,
            "display": null,
            "flex": null,
            "flex_flow": null,
            "grid_area": null,
            "grid_auto_columns": null,
            "grid_auto_flow": null,
            "grid_auto_rows": null,
            "grid_column": null,
            "grid_gap": null,
            "grid_row": null,
            "grid_template_areas": null,
            "grid_template_columns": null,
            "grid_template_rows": null,
            "height": null,
            "justify_content": null,
            "justify_items": null,
            "left": null,
            "margin": null,
            "max_height": null,
            "max_width": null,
            "min_height": null,
            "min_width": null,
            "object_fit": null,
            "object_position": null,
            "order": null,
            "overflow": null,
            "overflow_x": null,
            "overflow_y": null,
            "padding": null,
            "right": null,
            "top": null,
            "visibility": null,
            "width": null
          }
        },
        "26a88c847ac24197aef2e50bb3b38886": {
          "model_module": "@jupyter-widgets/controls",
          "model_name": "ProgressStyleModel",
          "model_module_version": "1.5.0",
          "state": {
            "_model_module": "@jupyter-widgets/controls",
            "_model_module_version": "1.5.0",
            "_model_name": "ProgressStyleModel",
            "_view_count": null,
            "_view_module": "@jupyter-widgets/base",
            "_view_module_version": "1.2.0",
            "_view_name": "StyleView",
            "bar_color": null,
            "description_width": ""
          }
        },
        "fed23686c8524b9fb58391b30ae84b8a": {
          "model_module": "@jupyter-widgets/base",
          "model_name": "LayoutModel",
          "model_module_version": "1.2.0",
          "state": {
            "_model_module": "@jupyter-widgets/base",
            "_model_module_version": "1.2.0",
            "_model_name": "LayoutModel",
            "_view_count": null,
            "_view_module": "@jupyter-widgets/base",
            "_view_module_version": "1.2.0",
            "_view_name": "LayoutView",
            "align_content": null,
            "align_items": null,
            "align_self": null,
            "border": null,
            "bottom": null,
            "display": null,
            "flex": null,
            "flex_flow": null,
            "grid_area": null,
            "grid_auto_columns": null,
            "grid_auto_flow": null,
            "grid_auto_rows": null,
            "grid_column": null,
            "grid_gap": null,
            "grid_row": null,
            "grid_template_areas": null,
            "grid_template_columns": null,
            "grid_template_rows": null,
            "height": null,
            "justify_content": null,
            "justify_items": null,
            "left": null,
            "margin": null,
            "max_height": null,
            "max_width": null,
            "min_height": null,
            "min_width": null,
            "object_fit": null,
            "object_position": null,
            "order": null,
            "overflow": null,
            "overflow_x": null,
            "overflow_y": null,
            "padding": null,
            "right": null,
            "top": null,
            "visibility": null,
            "width": null
          }
        },
        "c8ac074c7bb04506a08645efa2cabad7": {
          "model_module": "@jupyter-widgets/controls",
          "model_name": "DescriptionStyleModel",
          "model_module_version": "1.5.0",
          "state": {
            "_model_module": "@jupyter-widgets/controls",
            "_model_module_version": "1.5.0",
            "_model_name": "DescriptionStyleModel",
            "_view_count": null,
            "_view_module": "@jupyter-widgets/base",
            "_view_module_version": "1.2.0",
            "_view_name": "StyleView",
            "description_width": ""
          }
        },
        "b8105eec95fe40ad817c2b554b908bef": {
          "model_module": "@jupyter-widgets/controls",
          "model_name": "HBoxModel",
          "model_module_version": "1.5.0",
          "state": {
            "_dom_classes": [],
            "_model_module": "@jupyter-widgets/controls",
            "_model_module_version": "1.5.0",
            "_model_name": "HBoxModel",
            "_view_count": null,
            "_view_module": "@jupyter-widgets/controls",
            "_view_module_version": "1.5.0",
            "_view_name": "HBoxView",
            "box_style": "",
            "children": [
              "IPY_MODEL_ee6cdc4219904dafbf39bc664e8ec03b",
              "IPY_MODEL_1d89a55edc2945f5a9b89967644f6084",
              "IPY_MODEL_91fd4d7177e34dc8856f450630ece5b4"
            ],
            "layout": "IPY_MODEL_f9d47bdfd8624516ba59030d78e68ada"
          }
        },
        "ee6cdc4219904dafbf39bc664e8ec03b": {
          "model_module": "@jupyter-widgets/controls",
          "model_name": "HTMLModel",
          "model_module_version": "1.5.0",
          "state": {
            "_dom_classes": [],
            "_model_module": "@jupyter-widgets/controls",
            "_model_module_version": "1.5.0",
            "_model_name": "HTMLModel",
            "_view_count": null,
            "_view_module": "@jupyter-widgets/controls",
            "_view_module_version": "1.5.0",
            "_view_name": "HTMLView",
            "description": "",
            "description_tooltip": null,
            "layout": "IPY_MODEL_7042981fef6a4203b5001af0e6ab13b3",
            "placeholder": "​",
            "style": "IPY_MODEL_f41477426c494795b3e7669cf096a88d",
            "value": "config.json: 100%"
          }
        },
        "1d89a55edc2945f5a9b89967644f6084": {
          "model_module": "@jupyter-widgets/controls",
          "model_name": "FloatProgressModel",
          "model_module_version": "1.5.0",
          "state": {
            "_dom_classes": [],
            "_model_module": "@jupyter-widgets/controls",
            "_model_module_version": "1.5.0",
            "_model_name": "FloatProgressModel",
            "_view_count": null,
            "_view_module": "@jupyter-widgets/controls",
            "_view_module_version": "1.5.0",
            "_view_name": "ProgressView",
            "bar_style": "success",
            "description": "",
            "description_tooltip": null,
            "layout": "IPY_MODEL_9cc0d76895df4b81b9b886feea5e2181",
            "max": 1004,
            "min": 0,
            "orientation": "horizontal",
            "style": "IPY_MODEL_3d8206812fee42aaa2f1be1c275c2c24",
            "value": 1004
          }
        },
        "91fd4d7177e34dc8856f450630ece5b4": {
          "model_module": "@jupyter-widgets/controls",
          "model_name": "HTMLModel",
          "model_module_version": "1.5.0",
          "state": {
            "_dom_classes": [],
            "_model_module": "@jupyter-widgets/controls",
            "_model_module_version": "1.5.0",
            "_model_name": "HTMLModel",
            "_view_count": null,
            "_view_module": "@jupyter-widgets/controls",
            "_view_module_version": "1.5.0",
            "_view_name": "HTMLView",
            "description": "",
            "description_tooltip": null,
            "layout": "IPY_MODEL_1c8413fbe377439f941a59ad23e0ec50",
            "placeholder": "​",
            "style": "IPY_MODEL_abbfc538e8514dfa98b1400854c858b6",
            "value": " 1.00k/1.00k [00:00&lt;00:00, 41.6kB/s]"
          }
        },
        "f9d47bdfd8624516ba59030d78e68ada": {
          "model_module": "@jupyter-widgets/base",
          "model_name": "LayoutModel",
          "model_module_version": "1.2.0",
          "state": {
            "_model_module": "@jupyter-widgets/base",
            "_model_module_version": "1.2.0",
            "_model_name": "LayoutModel",
            "_view_count": null,
            "_view_module": "@jupyter-widgets/base",
            "_view_module_version": "1.2.0",
            "_view_name": "LayoutView",
            "align_content": null,
            "align_items": null,
            "align_self": null,
            "border": null,
            "bottom": null,
            "display": null,
            "flex": null,
            "flex_flow": null,
            "grid_area": null,
            "grid_auto_columns": null,
            "grid_auto_flow": null,
            "grid_auto_rows": null,
            "grid_column": null,
            "grid_gap": null,
            "grid_row": null,
            "grid_template_areas": null,
            "grid_template_columns": null,
            "grid_template_rows": null,
            "height": null,
            "justify_content": null,
            "justify_items": null,
            "left": null,
            "margin": null,
            "max_height": null,
            "max_width": null,
            "min_height": null,
            "min_width": null,
            "object_fit": null,
            "object_position": null,
            "order": null,
            "overflow": null,
            "overflow_x": null,
            "overflow_y": null,
            "padding": null,
            "right": null,
            "top": null,
            "visibility": null,
            "width": null
          }
        },
        "7042981fef6a4203b5001af0e6ab13b3": {
          "model_module": "@jupyter-widgets/base",
          "model_name": "LayoutModel",
          "model_module_version": "1.2.0",
          "state": {
            "_model_module": "@jupyter-widgets/base",
            "_model_module_version": "1.2.0",
            "_model_name": "LayoutModel",
            "_view_count": null,
            "_view_module": "@jupyter-widgets/base",
            "_view_module_version": "1.2.0",
            "_view_name": "LayoutView",
            "align_content": null,
            "align_items": null,
            "align_self": null,
            "border": null,
            "bottom": null,
            "display": null,
            "flex": null,
            "flex_flow": null,
            "grid_area": null,
            "grid_auto_columns": null,
            "grid_auto_flow": null,
            "grid_auto_rows": null,
            "grid_column": null,
            "grid_gap": null,
            "grid_row": null,
            "grid_template_areas": null,
            "grid_template_columns": null,
            "grid_template_rows": null,
            "height": null,
            "justify_content": null,
            "justify_items": null,
            "left": null,
            "margin": null,
            "max_height": null,
            "max_width": null,
            "min_height": null,
            "min_width": null,
            "object_fit": null,
            "object_position": null,
            "order": null,
            "overflow": null,
            "overflow_x": null,
            "overflow_y": null,
            "padding": null,
            "right": null,
            "top": null,
            "visibility": null,
            "width": null
          }
        },
        "f41477426c494795b3e7669cf096a88d": {
          "model_module": "@jupyter-widgets/controls",
          "model_name": "DescriptionStyleModel",
          "model_module_version": "1.5.0",
          "state": {
            "_model_module": "@jupyter-widgets/controls",
            "_model_module_version": "1.5.0",
            "_model_name": "DescriptionStyleModel",
            "_view_count": null,
            "_view_module": "@jupyter-widgets/base",
            "_view_module_version": "1.2.0",
            "_view_name": "StyleView",
            "description_width": ""
          }
        },
        "9cc0d76895df4b81b9b886feea5e2181": {
          "model_module": "@jupyter-widgets/base",
          "model_name": "LayoutModel",
          "model_module_version": "1.2.0",
          "state": {
            "_model_module": "@jupyter-widgets/base",
            "_model_module_version": "1.2.0",
            "_model_name": "LayoutModel",
            "_view_count": null,
            "_view_module": "@jupyter-widgets/base",
            "_view_module_version": "1.2.0",
            "_view_name": "LayoutView",
            "align_content": null,
            "align_items": null,
            "align_self": null,
            "border": null,
            "bottom": null,
            "display": null,
            "flex": null,
            "flex_flow": null,
            "grid_area": null,
            "grid_auto_columns": null,
            "grid_auto_flow": null,
            "grid_auto_rows": null,
            "grid_column": null,
            "grid_gap": null,
            "grid_row": null,
            "grid_template_areas": null,
            "grid_template_columns": null,
            "grid_template_rows": null,
            "height": null,
            "justify_content": null,
            "justify_items": null,
            "left": null,
            "margin": null,
            "max_height": null,
            "max_width": null,
            "min_height": null,
            "min_width": null,
            "object_fit": null,
            "object_position": null,
            "order": null,
            "overflow": null,
            "overflow_x": null,
            "overflow_y": null,
            "padding": null,
            "right": null,
            "top": null,
            "visibility": null,
            "width": null
          }
        },
        "3d8206812fee42aaa2f1be1c275c2c24": {
          "model_module": "@jupyter-widgets/controls",
          "model_name": "ProgressStyleModel",
          "model_module_version": "1.5.0",
          "state": {
            "_model_module": "@jupyter-widgets/controls",
            "_model_module_version": "1.5.0",
            "_model_name": "ProgressStyleModel",
            "_view_count": null,
            "_view_module": "@jupyter-widgets/base",
            "_view_module_version": "1.2.0",
            "_view_name": "StyleView",
            "bar_color": null,
            "description_width": ""
          }
        },
        "1c8413fbe377439f941a59ad23e0ec50": {
          "model_module": "@jupyter-widgets/base",
          "model_name": "LayoutModel",
          "model_module_version": "1.2.0",
          "state": {
            "_model_module": "@jupyter-widgets/base",
            "_model_module_version": "1.2.0",
            "_model_name": "LayoutModel",
            "_view_count": null,
            "_view_module": "@jupyter-widgets/base",
            "_view_module_version": "1.2.0",
            "_view_name": "LayoutView",
            "align_content": null,
            "align_items": null,
            "align_self": null,
            "border": null,
            "bottom": null,
            "display": null,
            "flex": null,
            "flex_flow": null,
            "grid_area": null,
            "grid_auto_columns": null,
            "grid_auto_flow": null,
            "grid_auto_rows": null,
            "grid_column": null,
            "grid_gap": null,
            "grid_row": null,
            "grid_template_areas": null,
            "grid_template_columns": null,
            "grid_template_rows": null,
            "height": null,
            "justify_content": null,
            "justify_items": null,
            "left": null,
            "margin": null,
            "max_height": null,
            "max_width": null,
            "min_height": null,
            "min_width": null,
            "object_fit": null,
            "object_position": null,
            "order": null,
            "overflow": null,
            "overflow_x": null,
            "overflow_y": null,
            "padding": null,
            "right": null,
            "top": null,
            "visibility": null,
            "width": null
          }
        },
        "abbfc538e8514dfa98b1400854c858b6": {
          "model_module": "@jupyter-widgets/controls",
          "model_name": "DescriptionStyleModel",
          "model_module_version": "1.5.0",
          "state": {
            "_model_module": "@jupyter-widgets/controls",
            "_model_module_version": "1.5.0",
            "_model_name": "DescriptionStyleModel",
            "_view_count": null,
            "_view_module": "@jupyter-widgets/base",
            "_view_module_version": "1.2.0",
            "_view_name": "StyleView",
            "description_width": ""
          }
        },
        "c827ba3332c44fdf85adb916a2b30801": {
          "model_module": "@jupyter-widgets/controls",
          "model_name": "HBoxModel",
          "model_module_version": "1.5.0",
          "state": {
            "_dom_classes": [],
            "_model_module": "@jupyter-widgets/controls",
            "_model_module_version": "1.5.0",
            "_model_name": "HBoxModel",
            "_view_count": null,
            "_view_module": "@jupyter-widgets/controls",
            "_view_module_version": "1.5.0",
            "_view_name": "HBoxView",
            "box_style": "",
            "children": [
              "IPY_MODEL_d87ce31430de451d932c92bbc8363297",
              "IPY_MODEL_9d96155948164c4994e149f4f1656723",
              "IPY_MODEL_dc45fcacd0a3446d836a27f37263dda1"
            ],
            "layout": "IPY_MODEL_e27099537d144e0692636edd3835003e"
          }
        },
        "d87ce31430de451d932c92bbc8363297": {
          "model_module": "@jupyter-widgets/controls",
          "model_name": "HTMLModel",
          "model_module_version": "1.5.0",
          "state": {
            "_dom_classes": [],
            "_model_module": "@jupyter-widgets/controls",
            "_model_module_version": "1.5.0",
            "_model_name": "HTMLModel",
            "_view_count": null,
            "_view_module": "@jupyter-widgets/controls",
            "_view_module_version": "1.5.0",
            "_view_name": "HTMLView",
            "description": "",
            "description_tooltip": null,
            "layout": "IPY_MODEL_133ae294da984ef4a4f708fcd7a79291",
            "placeholder": "​",
            "style": "IPY_MODEL_92eced5fb1cb424bbaeeb1f425054e9f",
            "value": "pytorch_model.bin: 100%"
          }
        },
        "9d96155948164c4994e149f4f1656723": {
          "model_module": "@jupyter-widgets/controls",
          "model_name": "FloatProgressModel",
          "model_module_version": "1.5.0",
          "state": {
            "_dom_classes": [],
            "_model_module": "@jupyter-widgets/controls",
            "_model_module_version": "1.5.0",
            "_model_name": "FloatProgressModel",
            "_view_count": null,
            "_view_module": "@jupyter-widgets/controls",
            "_view_module_version": "1.5.0",
            "_view_name": "ProgressView",
            "bar_style": "success",
            "description": "",
            "description_tooltip": null,
            "layout": "IPY_MODEL_7544f6868b0e40e289581e6ef36db15d",
            "max": 347597585,
            "min": 0,
            "orientation": "horizontal",
            "style": "IPY_MODEL_8d68c5d6bc29440a9c95d7f7922f8184",
            "value": 347597585
          }
        },
        "dc45fcacd0a3446d836a27f37263dda1": {
          "model_module": "@jupyter-widgets/controls",
          "model_name": "HTMLModel",
          "model_module_version": "1.5.0",
          "state": {
            "_dom_classes": [],
            "_model_module": "@jupyter-widgets/controls",
            "_model_module_version": "1.5.0",
            "_model_name": "HTMLModel",
            "_view_count": null,
            "_view_module": "@jupyter-widgets/controls",
            "_view_module_version": "1.5.0",
            "_view_name": "HTMLView",
            "description": "",
            "description_tooltip": null,
            "layout": "IPY_MODEL_a27e520ecdfd44c68bcb471728afaa59",
            "placeholder": "​",
            "style": "IPY_MODEL_bfd1bb505fb04afca9c35b7d540b9599",
            "value": " 348M/348M [00:08&lt;00:00, 46.0MB/s]"
          }
        },
        "e27099537d144e0692636edd3835003e": {
          "model_module": "@jupyter-widgets/base",
          "model_name": "LayoutModel",
          "model_module_version": "1.2.0",
          "state": {
            "_model_module": "@jupyter-widgets/base",
            "_model_module_version": "1.2.0",
            "_model_name": "LayoutModel",
            "_view_count": null,
            "_view_module": "@jupyter-widgets/base",
            "_view_module_version": "1.2.0",
            "_view_name": "LayoutView",
            "align_content": null,
            "align_items": null,
            "align_self": null,
            "border": null,
            "bottom": null,
            "display": null,
            "flex": null,
            "flex_flow": null,
            "grid_area": null,
            "grid_auto_columns": null,
            "grid_auto_flow": null,
            "grid_auto_rows": null,
            "grid_column": null,
            "grid_gap": null,
            "grid_row": null,
            "grid_template_areas": null,
            "grid_template_columns": null,
            "grid_template_rows": null,
            "height": null,
            "justify_content": null,
            "justify_items": null,
            "left": null,
            "margin": null,
            "max_height": null,
            "max_width": null,
            "min_height": null,
            "min_width": null,
            "object_fit": null,
            "object_position": null,
            "order": null,
            "overflow": null,
            "overflow_x": null,
            "overflow_y": null,
            "padding": null,
            "right": null,
            "top": null,
            "visibility": null,
            "width": null
          }
        },
        "133ae294da984ef4a4f708fcd7a79291": {
          "model_module": "@jupyter-widgets/base",
          "model_name": "LayoutModel",
          "model_module_version": "1.2.0",
          "state": {
            "_model_module": "@jupyter-widgets/base",
            "_model_module_version": "1.2.0",
            "_model_name": "LayoutModel",
            "_view_count": null,
            "_view_module": "@jupyter-widgets/base",
            "_view_module_version": "1.2.0",
            "_view_name": "LayoutView",
            "align_content": null,
            "align_items": null,
            "align_self": null,
            "border": null,
            "bottom": null,
            "display": null,
            "flex": null,
            "flex_flow": null,
            "grid_area": null,
            "grid_auto_columns": null,
            "grid_auto_flow": null,
            "grid_auto_rows": null,
            "grid_column": null,
            "grid_gap": null,
            "grid_row": null,
            "grid_template_areas": null,
            "grid_template_columns": null,
            "grid_template_rows": null,
            "height": null,
            "justify_content": null,
            "justify_items": null,
            "left": null,
            "margin": null,
            "max_height": null,
            "max_width": null,
            "min_height": null,
            "min_width": null,
            "object_fit": null,
            "object_position": null,
            "order": null,
            "overflow": null,
            "overflow_x": null,
            "overflow_y": null,
            "padding": null,
            "right": null,
            "top": null,
            "visibility": null,
            "width": null
          }
        },
        "92eced5fb1cb424bbaeeb1f425054e9f": {
          "model_module": "@jupyter-widgets/controls",
          "model_name": "DescriptionStyleModel",
          "model_module_version": "1.5.0",
          "state": {
            "_model_module": "@jupyter-widgets/controls",
            "_model_module_version": "1.5.0",
            "_model_name": "DescriptionStyleModel",
            "_view_count": null,
            "_view_module": "@jupyter-widgets/base",
            "_view_module_version": "1.2.0",
            "_view_name": "StyleView",
            "description_width": ""
          }
        },
        "7544f6868b0e40e289581e6ef36db15d": {
          "model_module": "@jupyter-widgets/base",
          "model_name": "LayoutModel",
          "model_module_version": "1.2.0",
          "state": {
            "_model_module": "@jupyter-widgets/base",
            "_model_module_version": "1.2.0",
            "_model_name": "LayoutModel",
            "_view_count": null,
            "_view_module": "@jupyter-widgets/base",
            "_view_module_version": "1.2.0",
            "_view_name": "LayoutView",
            "align_content": null,
            "align_items": null,
            "align_self": null,
            "border": null,
            "bottom": null,
            "display": null,
            "flex": null,
            "flex_flow": null,
            "grid_area": null,
            "grid_auto_columns": null,
            "grid_auto_flow": null,
            "grid_auto_rows": null,
            "grid_column": null,
            "grid_gap": null,
            "grid_row": null,
            "grid_template_areas": null,
            "grid_template_columns": null,
            "grid_template_rows": null,
            "height": null,
            "justify_content": null,
            "justify_items": null,
            "left": null,
            "margin": null,
            "max_height": null,
            "max_width": null,
            "min_height": null,
            "min_width": null,
            "object_fit": null,
            "object_position": null,
            "order": null,
            "overflow": null,
            "overflow_x": null,
            "overflow_y": null,
            "padding": null,
            "right": null,
            "top": null,
            "visibility": null,
            "width": null
          }
        },
        "8d68c5d6bc29440a9c95d7f7922f8184": {
          "model_module": "@jupyter-widgets/controls",
          "model_name": "ProgressStyleModel",
          "model_module_version": "1.5.0",
          "state": {
            "_model_module": "@jupyter-widgets/controls",
            "_model_module_version": "1.5.0",
            "_model_name": "ProgressStyleModel",
            "_view_count": null,
            "_view_module": "@jupyter-widgets/base",
            "_view_module_version": "1.2.0",
            "_view_name": "StyleView",
            "bar_color": null,
            "description_width": ""
          }
        },
        "a27e520ecdfd44c68bcb471728afaa59": {
          "model_module": "@jupyter-widgets/base",
          "model_name": "LayoutModel",
          "model_module_version": "1.2.0",
          "state": {
            "_model_module": "@jupyter-widgets/base",
            "_model_module_version": "1.2.0",
            "_model_name": "LayoutModel",
            "_view_count": null,
            "_view_module": "@jupyter-widgets/base",
            "_view_module_version": "1.2.0",
            "_view_name": "LayoutView",
            "align_content": null,
            "align_items": null,
            "align_self": null,
            "border": null,
            "bottom": null,
            "display": null,
            "flex": null,
            "flex_flow": null,
            "grid_area": null,
            "grid_auto_columns": null,
            "grid_auto_flow": null,
            "grid_auto_rows": null,
            "grid_column": null,
            "grid_gap": null,
            "grid_row": null,
            "grid_template_areas": null,
            "grid_template_columns": null,
            "grid_template_rows": null,
            "height": null,
            "justify_content": null,
            "justify_items": null,
            "left": null,
            "margin": null,
            "max_height": null,
            "max_width": null,
            "min_height": null,
            "min_width": null,
            "object_fit": null,
            "object_position": null,
            "order": null,
            "overflow": null,
            "overflow_x": null,
            "overflow_y": null,
            "padding": null,
            "right": null,
            "top": null,
            "visibility": null,
            "width": null
          }
        },
        "bfd1bb505fb04afca9c35b7d540b9599": {
          "model_module": "@jupyter-widgets/controls",
          "model_name": "DescriptionStyleModel",
          "model_module_version": "1.5.0",
          "state": {
            "_model_module": "@jupyter-widgets/controls",
            "_model_module_version": "1.5.0",
            "_model_name": "DescriptionStyleModel",
            "_view_count": null,
            "_view_module": "@jupyter-widgets/base",
            "_view_module_version": "1.2.0",
            "_view_name": "StyleView",
            "description_width": ""
          }
        },
        "f4b4d194574d47c9b3e9dee9d1cf5ee0": {
          "model_module": "@jupyter-widgets/controls",
          "model_name": "HBoxModel",
          "model_module_version": "1.5.0",
          "state": {
            "_dom_classes": [],
            "_model_module": "@jupyter-widgets/controls",
            "_model_module_version": "1.5.0",
            "_model_name": "HBoxModel",
            "_view_count": null,
            "_view_module": "@jupyter-widgets/controls",
            "_view_module_version": "1.5.0",
            "_view_name": "HBoxView",
            "box_style": "",
            "children": [
              "IPY_MODEL_15f9106a06a64ebb9ed766eae0759e37",
              "IPY_MODEL_c297fadc6c8a49c18da800ed43625aa5",
              "IPY_MODEL_095f7bbe666c4021a761d72c347b84b6"
            ],
            "layout": "IPY_MODEL_380437f2708a4cf480812afc37a03e70"
          }
        },
        "15f9106a06a64ebb9ed766eae0759e37": {
          "model_module": "@jupyter-widgets/controls",
          "model_name": "HTMLModel",
          "model_module_version": "1.5.0",
          "state": {
            "_dom_classes": [],
            "_model_module": "@jupyter-widgets/controls",
            "_model_module_version": "1.5.0",
            "_model_name": "HTMLModel",
            "_view_count": null,
            "_view_module": "@jupyter-widgets/controls",
            "_view_module_version": "1.5.0",
            "_view_name": "HTMLView",
            "description": "",
            "description_tooltip": null,
            "layout": "IPY_MODEL_5b7b0e35fddd4842af89cd3b505d6b3f",
            "placeholder": "​",
            "style": "IPY_MODEL_396291fc272642bbb53318901a801851",
            "value": "preprocessor_config.json: 100%"
          }
        },
        "c297fadc6c8a49c18da800ed43625aa5": {
          "model_module": "@jupyter-widgets/controls",
          "model_name": "FloatProgressModel",
          "model_module_version": "1.5.0",
          "state": {
            "_dom_classes": [],
            "_model_module": "@jupyter-widgets/controls",
            "_model_module_version": "1.5.0",
            "_model_name": "FloatProgressModel",
            "_view_count": null,
            "_view_module": "@jupyter-widgets/controls",
            "_view_module_version": "1.5.0",
            "_view_name": "ProgressView",
            "bar_style": "success",
            "description": "",
            "description_tooltip": null,
            "layout": "IPY_MODEL_2fcca84dc5ca41778c4cf47fe12adccb",
            "max": 325,
            "min": 0,
            "orientation": "horizontal",
            "style": "IPY_MODEL_c71f0d8b05d440438341ca5a95294f98",
            "value": 325
          }
        },
        "095f7bbe666c4021a761d72c347b84b6": {
          "model_module": "@jupyter-widgets/controls",
          "model_name": "HTMLModel",
          "model_module_version": "1.5.0",
          "state": {
            "_dom_classes": [],
            "_model_module": "@jupyter-widgets/controls",
            "_model_module_version": "1.5.0",
            "_model_name": "HTMLModel",
            "_view_count": null,
            "_view_module": "@jupyter-widgets/controls",
            "_view_module_version": "1.5.0",
            "_view_name": "HTMLView",
            "description": "",
            "description_tooltip": null,
            "layout": "IPY_MODEL_71c8a745433e4f7e8802888494a1a6fb",
            "placeholder": "​",
            "style": "IPY_MODEL_b2fdda40fbaf4b2eb7dd06d26e1c2883",
            "value": " 325/325 [00:00&lt;00:00, 16.0kB/s]"
          }
        },
        "380437f2708a4cf480812afc37a03e70": {
          "model_module": "@jupyter-widgets/base",
          "model_name": "LayoutModel",
          "model_module_version": "1.2.0",
          "state": {
            "_model_module": "@jupyter-widgets/base",
            "_model_module_version": "1.2.0",
            "_model_name": "LayoutModel",
            "_view_count": null,
            "_view_module": "@jupyter-widgets/base",
            "_view_module_version": "1.2.0",
            "_view_name": "LayoutView",
            "align_content": null,
            "align_items": null,
            "align_self": null,
            "border": null,
            "bottom": null,
            "display": null,
            "flex": null,
            "flex_flow": null,
            "grid_area": null,
            "grid_auto_columns": null,
            "grid_auto_flow": null,
            "grid_auto_rows": null,
            "grid_column": null,
            "grid_gap": null,
            "grid_row": null,
            "grid_template_areas": null,
            "grid_template_columns": null,
            "grid_template_rows": null,
            "height": null,
            "justify_content": null,
            "justify_items": null,
            "left": null,
            "margin": null,
            "max_height": null,
            "max_width": null,
            "min_height": null,
            "min_width": null,
            "object_fit": null,
            "object_position": null,
            "order": null,
            "overflow": null,
            "overflow_x": null,
            "overflow_y": null,
            "padding": null,
            "right": null,
            "top": null,
            "visibility": null,
            "width": null
          }
        },
        "5b7b0e35fddd4842af89cd3b505d6b3f": {
          "model_module": "@jupyter-widgets/base",
          "model_name": "LayoutModel",
          "model_module_version": "1.2.0",
          "state": {
            "_model_module": "@jupyter-widgets/base",
            "_model_module_version": "1.2.0",
            "_model_name": "LayoutModel",
            "_view_count": null,
            "_view_module": "@jupyter-widgets/base",
            "_view_module_version": "1.2.0",
            "_view_name": "LayoutView",
            "align_content": null,
            "align_items": null,
            "align_self": null,
            "border": null,
            "bottom": null,
            "display": null,
            "flex": null,
            "flex_flow": null,
            "grid_area": null,
            "grid_auto_columns": null,
            "grid_auto_flow": null,
            "grid_auto_rows": null,
            "grid_column": null,
            "grid_gap": null,
            "grid_row": null,
            "grid_template_areas": null,
            "grid_template_columns": null,
            "grid_template_rows": null,
            "height": null,
            "justify_content": null,
            "justify_items": null,
            "left": null,
            "margin": null,
            "max_height": null,
            "max_width": null,
            "min_height": null,
            "min_width": null,
            "object_fit": null,
            "object_position": null,
            "order": null,
            "overflow": null,
            "overflow_x": null,
            "overflow_y": null,
            "padding": null,
            "right": null,
            "top": null,
            "visibility": null,
            "width": null
          }
        },
        "396291fc272642bbb53318901a801851": {
          "model_module": "@jupyter-widgets/controls",
          "model_name": "DescriptionStyleModel",
          "model_module_version": "1.5.0",
          "state": {
            "_model_module": "@jupyter-widgets/controls",
            "_model_module_version": "1.5.0",
            "_model_name": "DescriptionStyleModel",
            "_view_count": null,
            "_view_module": "@jupyter-widgets/base",
            "_view_module_version": "1.2.0",
            "_view_name": "StyleView",
            "description_width": ""
          }
        },
        "2fcca84dc5ca41778c4cf47fe12adccb": {
          "model_module": "@jupyter-widgets/base",
          "model_name": "LayoutModel",
          "model_module_version": "1.2.0",
          "state": {
            "_model_module": "@jupyter-widgets/base",
            "_model_module_version": "1.2.0",
            "_model_name": "LayoutModel",
            "_view_count": null,
            "_view_module": "@jupyter-widgets/base",
            "_view_module_version": "1.2.0",
            "_view_name": "LayoutView",
            "align_content": null,
            "align_items": null,
            "align_self": null,
            "border": null,
            "bottom": null,
            "display": null,
            "flex": null,
            "flex_flow": null,
            "grid_area": null,
            "grid_auto_columns": null,
            "grid_auto_flow": null,
            "grid_auto_rows": null,
            "grid_column": null,
            "grid_gap": null,
            "grid_row": null,
            "grid_template_areas": null,
            "grid_template_columns": null,
            "grid_template_rows": null,
            "height": null,
            "justify_content": null,
            "justify_items": null,
            "left": null,
            "margin": null,
            "max_height": null,
            "max_width": null,
            "min_height": null,
            "min_width": null,
            "object_fit": null,
            "object_position": null,
            "order": null,
            "overflow": null,
            "overflow_x": null,
            "overflow_y": null,
            "padding": null,
            "right": null,
            "top": null,
            "visibility": null,
            "width": null
          }
        },
        "c71f0d8b05d440438341ca5a95294f98": {
          "model_module": "@jupyter-widgets/controls",
          "model_name": "ProgressStyleModel",
          "model_module_version": "1.5.0",
          "state": {
            "_model_module": "@jupyter-widgets/controls",
            "_model_module_version": "1.5.0",
            "_model_name": "ProgressStyleModel",
            "_view_count": null,
            "_view_module": "@jupyter-widgets/base",
            "_view_module_version": "1.2.0",
            "_view_name": "StyleView",
            "bar_color": null,
            "description_width": ""
          }
        },
        "71c8a745433e4f7e8802888494a1a6fb": {
          "model_module": "@jupyter-widgets/base",
          "model_name": "LayoutModel",
          "model_module_version": "1.2.0",
          "state": {
            "_model_module": "@jupyter-widgets/base",
            "_model_module_version": "1.2.0",
            "_model_name": "LayoutModel",
            "_view_count": null,
            "_view_module": "@jupyter-widgets/base",
            "_view_module_version": "1.2.0",
            "_view_name": "LayoutView",
            "align_content": null,
            "align_items": null,
            "align_self": null,
            "border": null,
            "bottom": null,
            "display": null,
            "flex": null,
            "flex_flow": null,
            "grid_area": null,
            "grid_auto_columns": null,
            "grid_auto_flow": null,
            "grid_auto_rows": null,
            "grid_column": null,
            "grid_gap": null,
            "grid_row": null,
            "grid_template_areas": null,
            "grid_template_columns": null,
            "grid_template_rows": null,
            "height": null,
            "justify_content": null,
            "justify_items": null,
            "left": null,
            "margin": null,
            "max_height": null,
            "max_width": null,
            "min_height": null,
            "min_width": null,
            "object_fit": null,
            "object_position": null,
            "order": null,
            "overflow": null,
            "overflow_x": null,
            "overflow_y": null,
            "padding": null,
            "right": null,
            "top": null,
            "visibility": null,
            "width": null
          }
        },
        "b2fdda40fbaf4b2eb7dd06d26e1c2883": {
          "model_module": "@jupyter-widgets/controls",
          "model_name": "DescriptionStyleModel",
          "model_module_version": "1.5.0",
          "state": {
            "_model_module": "@jupyter-widgets/controls",
            "_model_module_version": "1.5.0",
            "_model_name": "DescriptionStyleModel",
            "_view_count": null,
            "_view_module": "@jupyter-widgets/base",
            "_view_module_version": "1.2.0",
            "_view_name": "StyleView",
            "description_width": ""
          }
        },
        "1e5c4421b14e42bb8e8112d24abface0": {
          "model_module": "@jupyter-widgets/controls",
          "model_name": "HBoxModel",
          "model_module_version": "1.5.0",
          "state": {
            "_dom_classes": [],
            "_model_module": "@jupyter-widgets/controls",
            "_model_module_version": "1.5.0",
            "_model_name": "HBoxModel",
            "_view_count": null,
            "_view_module": "@jupyter-widgets/controls",
            "_view_module_version": "1.5.0",
            "_view_name": "HBoxView",
            "box_style": "",
            "children": [
              "IPY_MODEL_9bbd6515801148e98019afee5b3aa9f6",
              "IPY_MODEL_e8499199f0064f12bd8aa39f09d4944d",
              "IPY_MODEL_fde1b15d166143ac86f1e3f0d0ceb40b"
            ],
            "layout": "IPY_MODEL_09d24db993ac43829b9b869c17f42fc0"
          }
        },
        "9bbd6515801148e98019afee5b3aa9f6": {
          "model_module": "@jupyter-widgets/controls",
          "model_name": "HTMLModel",
          "model_module_version": "1.5.0",
          "state": {
            "_dom_classes": [],
            "_model_module": "@jupyter-widgets/controls",
            "_model_module_version": "1.5.0",
            "_model_name": "HTMLModel",
            "_view_count": null,
            "_view_module": "@jupyter-widgets/controls",
            "_view_module_version": "1.5.0",
            "_view_name": "HTMLView",
            "description": "",
            "description_tooltip": null,
            "layout": "IPY_MODEL_85ab1dcfe50f48d7ad7db49582676ec0",
            "placeholder": "​",
            "style": "IPY_MODEL_35e888eae4db4b7b8735755036611730",
            "value": "config.json: 100%"
          }
        },
        "e8499199f0064f12bd8aa39f09d4944d": {
          "model_module": "@jupyter-widgets/controls",
          "model_name": "FloatProgressModel",
          "model_module_version": "1.5.0",
          "state": {
            "_dom_classes": [],
            "_model_module": "@jupyter-widgets/controls",
            "_model_module_version": "1.5.0",
            "_model_name": "FloatProgressModel",
            "_view_count": null,
            "_view_module": "@jupyter-widgets/controls",
            "_view_module_version": "1.5.0",
            "_view_name": "ProgressView",
            "bar_style": "success",
            "description": "",
            "description_tooltip": null,
            "layout": "IPY_MODEL_6b969d4a20bc4415b68045498d1bef31",
            "max": 823,
            "min": 0,
            "orientation": "horizontal",
            "style": "IPY_MODEL_00a1c23d37024e7088e1e244d05a6861",
            "value": 823
          }
        },
        "fde1b15d166143ac86f1e3f0d0ceb40b": {
          "model_module": "@jupyter-widgets/controls",
          "model_name": "HTMLModel",
          "model_module_version": "1.5.0",
          "state": {
            "_dom_classes": [],
            "_model_module": "@jupyter-widgets/controls",
            "_model_module_version": "1.5.0",
            "_model_name": "HTMLModel",
            "_view_count": null,
            "_view_module": "@jupyter-widgets/controls",
            "_view_module_version": "1.5.0",
            "_view_name": "HTMLView",
            "description": "",
            "description_tooltip": null,
            "layout": "IPY_MODEL_933042de9d784a5492fc11b41b8ec1bb",
            "placeholder": "​",
            "style": "IPY_MODEL_d702b74dfbc2489e996921e35666cf8d",
            "value": " 823/823 [00:00&lt;00:00, 42.7kB/s]"
          }
        },
        "09d24db993ac43829b9b869c17f42fc0": {
          "model_module": "@jupyter-widgets/base",
          "model_name": "LayoutModel",
          "model_module_version": "1.2.0",
          "state": {
            "_model_module": "@jupyter-widgets/base",
            "_model_module_version": "1.2.0",
            "_model_name": "LayoutModel",
            "_view_count": null,
            "_view_module": "@jupyter-widgets/base",
            "_view_module_version": "1.2.0",
            "_view_name": "LayoutView",
            "align_content": null,
            "align_items": null,
            "align_self": null,
            "border": null,
            "bottom": null,
            "display": null,
            "flex": null,
            "flex_flow": null,
            "grid_area": null,
            "grid_auto_columns": null,
            "grid_auto_flow": null,
            "grid_auto_rows": null,
            "grid_column": null,
            "grid_gap": null,
            "grid_row": null,
            "grid_template_areas": null,
            "grid_template_columns": null,
            "grid_template_rows": null,
            "height": null,
            "justify_content": null,
            "justify_items": null,
            "left": null,
            "margin": null,
            "max_height": null,
            "max_width": null,
            "min_height": null,
            "min_width": null,
            "object_fit": null,
            "object_position": null,
            "order": null,
            "overflow": null,
            "overflow_x": null,
            "overflow_y": null,
            "padding": null,
            "right": null,
            "top": null,
            "visibility": null,
            "width": null
          }
        },
        "85ab1dcfe50f48d7ad7db49582676ec0": {
          "model_module": "@jupyter-widgets/base",
          "model_name": "LayoutModel",
          "model_module_version": "1.2.0",
          "state": {
            "_model_module": "@jupyter-widgets/base",
            "_model_module_version": "1.2.0",
            "_model_name": "LayoutModel",
            "_view_count": null,
            "_view_module": "@jupyter-widgets/base",
            "_view_module_version": "1.2.0",
            "_view_name": "LayoutView",
            "align_content": null,
            "align_items": null,
            "align_self": null,
            "border": null,
            "bottom": null,
            "display": null,
            "flex": null,
            "flex_flow": null,
            "grid_area": null,
            "grid_auto_columns": null,
            "grid_auto_flow": null,
            "grid_auto_rows": null,
            "grid_column": null,
            "grid_gap": null,
            "grid_row": null,
            "grid_template_areas": null,
            "grid_template_columns": null,
            "grid_template_rows": null,
            "height": null,
            "justify_content": null,
            "justify_items": null,
            "left": null,
            "margin": null,
            "max_height": null,
            "max_width": null,
            "min_height": null,
            "min_width": null,
            "object_fit": null,
            "object_position": null,
            "order": null,
            "overflow": null,
            "overflow_x": null,
            "overflow_y": null,
            "padding": null,
            "right": null,
            "top": null,
            "visibility": null,
            "width": null
          }
        },
        "35e888eae4db4b7b8735755036611730": {
          "model_module": "@jupyter-widgets/controls",
          "model_name": "DescriptionStyleModel",
          "model_module_version": "1.5.0",
          "state": {
            "_model_module": "@jupyter-widgets/controls",
            "_model_module_version": "1.5.0",
            "_model_name": "DescriptionStyleModel",
            "_view_count": null,
            "_view_module": "@jupyter-widgets/base",
            "_view_module_version": "1.2.0",
            "_view_name": "StyleView",
            "description_width": ""
          }
        },
        "6b969d4a20bc4415b68045498d1bef31": {
          "model_module": "@jupyter-widgets/base",
          "model_name": "LayoutModel",
          "model_module_version": "1.2.0",
          "state": {
            "_model_module": "@jupyter-widgets/base",
            "_model_module_version": "1.2.0",
            "_model_name": "LayoutModel",
            "_view_count": null,
            "_view_module": "@jupyter-widgets/base",
            "_view_module_version": "1.2.0",
            "_view_name": "LayoutView",
            "align_content": null,
            "align_items": null,
            "align_self": null,
            "border": null,
            "bottom": null,
            "display": null,
            "flex": null,
            "flex_flow": null,
            "grid_area": null,
            "grid_auto_columns": null,
            "grid_auto_flow": null,
            "grid_auto_rows": null,
            "grid_column": null,
            "grid_gap": null,
            "grid_row": null,
            "grid_template_areas": null,
            "grid_template_columns": null,
            "grid_template_rows": null,
            "height": null,
            "justify_content": null,
            "justify_items": null,
            "left": null,
            "margin": null,
            "max_height": null,
            "max_width": null,
            "min_height": null,
            "min_width": null,
            "object_fit": null,
            "object_position": null,
            "order": null,
            "overflow": null,
            "overflow_x": null,
            "overflow_y": null,
            "padding": null,
            "right": null,
            "top": null,
            "visibility": null,
            "width": null
          }
        },
        "00a1c23d37024e7088e1e244d05a6861": {
          "model_module": "@jupyter-widgets/controls",
          "model_name": "ProgressStyleModel",
          "model_module_version": "1.5.0",
          "state": {
            "_model_module": "@jupyter-widgets/controls",
            "_model_module_version": "1.5.0",
            "_model_name": "ProgressStyleModel",
            "_view_count": null,
            "_view_module": "@jupyter-widgets/base",
            "_view_module_version": "1.2.0",
            "_view_name": "StyleView",
            "bar_color": null,
            "description_width": ""
          }
        },
        "933042de9d784a5492fc11b41b8ec1bb": {
          "model_module": "@jupyter-widgets/base",
          "model_name": "LayoutModel",
          "model_module_version": "1.2.0",
          "state": {
            "_model_module": "@jupyter-widgets/base",
            "_model_module_version": "1.2.0",
            "_model_name": "LayoutModel",
            "_view_count": null,
            "_view_module": "@jupyter-widgets/base",
            "_view_module_version": "1.2.0",
            "_view_name": "LayoutView",
            "align_content": null,
            "align_items": null,
            "align_self": null,
            "border": null,
            "bottom": null,
            "display": null,
            "flex": null,
            "flex_flow": null,
            "grid_area": null,
            "grid_auto_columns": null,
            "grid_auto_flow": null,
            "grid_auto_rows": null,
            "grid_column": null,
            "grid_gap": null,
            "grid_row": null,
            "grid_template_areas": null,
            "grid_template_columns": null,
            "grid_template_rows": null,
            "height": null,
            "justify_content": null,
            "justify_items": null,
            "left": null,
            "margin": null,
            "max_height": null,
            "max_width": null,
            "min_height": null,
            "min_width": null,
            "object_fit": null,
            "object_position": null,
            "order": null,
            "overflow": null,
            "overflow_x": null,
            "overflow_y": null,
            "padding": null,
            "right": null,
            "top": null,
            "visibility": null,
            "width": null
          }
        },
        "d702b74dfbc2489e996921e35666cf8d": {
          "model_module": "@jupyter-widgets/controls",
          "model_name": "DescriptionStyleModel",
          "model_module_version": "1.5.0",
          "state": {
            "_model_module": "@jupyter-widgets/controls",
            "_model_module_version": "1.5.0",
            "_model_name": "DescriptionStyleModel",
            "_view_count": null,
            "_view_module": "@jupyter-widgets/base",
            "_view_module_version": "1.2.0",
            "_view_name": "StyleView",
            "description_width": ""
          }
        },
        "fb301e168071480faf2a62e0653c3a6f": {
          "model_module": "@jupyter-widgets/controls",
          "model_name": "HBoxModel",
          "model_module_version": "1.5.0",
          "state": {
            "_dom_classes": [],
            "_model_module": "@jupyter-widgets/controls",
            "_model_module_version": "1.5.0",
            "_model_name": "HBoxModel",
            "_view_count": null,
            "_view_module": "@jupyter-widgets/controls",
            "_view_module_version": "1.5.0",
            "_view_name": "HBoxView",
            "box_style": "",
            "children": [
              "IPY_MODEL_5a6184014f084f46added9f8d24b8674",
              "IPY_MODEL_81669b6aa3b641138752ce75f75846ab",
              "IPY_MODEL_cc3102a6197d4409baf508dccd8b97ab"
            ],
            "layout": "IPY_MODEL_b44ef00f9a6542e6863b68f3585f5223"
          }
        },
        "5a6184014f084f46added9f8d24b8674": {
          "model_module": "@jupyter-widgets/controls",
          "model_name": "HTMLModel",
          "model_module_version": "1.5.0",
          "state": {
            "_dom_classes": [],
            "_model_module": "@jupyter-widgets/controls",
            "_model_module_version": "1.5.0",
            "_model_name": "HTMLModel",
            "_view_count": null,
            "_view_module": "@jupyter-widgets/controls",
            "_view_module_version": "1.5.0",
            "_view_name": "HTMLView",
            "description": "",
            "description_tooltip": null,
            "layout": "IPY_MODEL_4056bc30a3dd45709b2e5d9ceb7c6424",
            "placeholder": "​",
            "style": "IPY_MODEL_5aa26e4ae35644fe888fb90fbac6adbb",
            "value": "model.safetensors: 100%"
          }
        },
        "81669b6aa3b641138752ce75f75846ab": {
          "model_module": "@jupyter-widgets/controls",
          "model_name": "FloatProgressModel",
          "model_module_version": "1.5.0",
          "state": {
            "_dom_classes": [],
            "_model_module": "@jupyter-widgets/controls",
            "_model_module_version": "1.5.0",
            "_model_name": "FloatProgressModel",
            "_view_count": null,
            "_view_module": "@jupyter-widgets/controls",
            "_view_module_version": "1.5.0",
            "_view_name": "ProgressView",
            "bar_style": "success",
            "description": "",
            "description_tooltip": null,
            "layout": "IPY_MODEL_b9ca748602304268bfbdbdbcf7db3786",
            "max": 343230128,
            "min": 0,
            "orientation": "horizontal",
            "style": "IPY_MODEL_a3f918b1fc6745d59d6486f0a8fd544e",
            "value": 343230128
          }
        },
        "cc3102a6197d4409baf508dccd8b97ab": {
          "model_module": "@jupyter-widgets/controls",
          "model_name": "HTMLModel",
          "model_module_version": "1.5.0",
          "state": {
            "_dom_classes": [],
            "_model_module": "@jupyter-widgets/controls",
            "_model_module_version": "1.5.0",
            "_model_name": "HTMLModel",
            "_view_count": null,
            "_view_module": "@jupyter-widgets/controls",
            "_view_module_version": "1.5.0",
            "_view_name": "HTMLView",
            "description": "",
            "description_tooltip": null,
            "layout": "IPY_MODEL_ab5daca68ed64a508db297b81d59b629",
            "placeholder": "​",
            "style": "IPY_MODEL_f7853d2c0395463ead3a1c7072123a39",
            "value": " 343M/343M [00:08&lt;00:00, 38.7MB/s]"
          }
        },
        "b44ef00f9a6542e6863b68f3585f5223": {
          "model_module": "@jupyter-widgets/base",
          "model_name": "LayoutModel",
          "model_module_version": "1.2.0",
          "state": {
            "_model_module": "@jupyter-widgets/base",
            "_model_module_version": "1.2.0",
            "_model_name": "LayoutModel",
            "_view_count": null,
            "_view_module": "@jupyter-widgets/base",
            "_view_module_version": "1.2.0",
            "_view_name": "LayoutView",
            "align_content": null,
            "align_items": null,
            "align_self": null,
            "border": null,
            "bottom": null,
            "display": null,
            "flex": null,
            "flex_flow": null,
            "grid_area": null,
            "grid_auto_columns": null,
            "grid_auto_flow": null,
            "grid_auto_rows": null,
            "grid_column": null,
            "grid_gap": null,
            "grid_row": null,
            "grid_template_areas": null,
            "grid_template_columns": null,
            "grid_template_rows": null,
            "height": null,
            "justify_content": null,
            "justify_items": null,
            "left": null,
            "margin": null,
            "max_height": null,
            "max_width": null,
            "min_height": null,
            "min_width": null,
            "object_fit": null,
            "object_position": null,
            "order": null,
            "overflow": null,
            "overflow_x": null,
            "overflow_y": null,
            "padding": null,
            "right": null,
            "top": null,
            "visibility": null,
            "width": null
          }
        },
        "4056bc30a3dd45709b2e5d9ceb7c6424": {
          "model_module": "@jupyter-widgets/base",
          "model_name": "LayoutModel",
          "model_module_version": "1.2.0",
          "state": {
            "_model_module": "@jupyter-widgets/base",
            "_model_module_version": "1.2.0",
            "_model_name": "LayoutModel",
            "_view_count": null,
            "_view_module": "@jupyter-widgets/base",
            "_view_module_version": "1.2.0",
            "_view_name": "LayoutView",
            "align_content": null,
            "align_items": null,
            "align_self": null,
            "border": null,
            "bottom": null,
            "display": null,
            "flex": null,
            "flex_flow": null,
            "grid_area": null,
            "grid_auto_columns": null,
            "grid_auto_flow": null,
            "grid_auto_rows": null,
            "grid_column": null,
            "grid_gap": null,
            "grid_row": null,
            "grid_template_areas": null,
            "grid_template_columns": null,
            "grid_template_rows": null,
            "height": null,
            "justify_content": null,
            "justify_items": null,
            "left": null,
            "margin": null,
            "max_height": null,
            "max_width": null,
            "min_height": null,
            "min_width": null,
            "object_fit": null,
            "object_position": null,
            "order": null,
            "overflow": null,
            "overflow_x": null,
            "overflow_y": null,
            "padding": null,
            "right": null,
            "top": null,
            "visibility": null,
            "width": null
          }
        },
        "5aa26e4ae35644fe888fb90fbac6adbb": {
          "model_module": "@jupyter-widgets/controls",
          "model_name": "DescriptionStyleModel",
          "model_module_version": "1.5.0",
          "state": {
            "_model_module": "@jupyter-widgets/controls",
            "_model_module_version": "1.5.0",
            "_model_name": "DescriptionStyleModel",
            "_view_count": null,
            "_view_module": "@jupyter-widgets/base",
            "_view_module_version": "1.2.0",
            "_view_name": "StyleView",
            "description_width": ""
          }
        },
        "b9ca748602304268bfbdbdbcf7db3786": {
          "model_module": "@jupyter-widgets/base",
          "model_name": "LayoutModel",
          "model_module_version": "1.2.0",
          "state": {
            "_model_module": "@jupyter-widgets/base",
            "_model_module_version": "1.2.0",
            "_model_name": "LayoutModel",
            "_view_count": null,
            "_view_module": "@jupyter-widgets/base",
            "_view_module_version": "1.2.0",
            "_view_name": "LayoutView",
            "align_content": null,
            "align_items": null,
            "align_self": null,
            "border": null,
            "bottom": null,
            "display": null,
            "flex": null,
            "flex_flow": null,
            "grid_area": null,
            "grid_auto_columns": null,
            "grid_auto_flow": null,
            "grid_auto_rows": null,
            "grid_column": null,
            "grid_gap": null,
            "grid_row": null,
            "grid_template_areas": null,
            "grid_template_columns": null,
            "grid_template_rows": null,
            "height": null,
            "justify_content": null,
            "justify_items": null,
            "left": null,
            "margin": null,
            "max_height": null,
            "max_width": null,
            "min_height": null,
            "min_width": null,
            "object_fit": null,
            "object_position": null,
            "order": null,
            "overflow": null,
            "overflow_x": null,
            "overflow_y": null,
            "padding": null,
            "right": null,
            "top": null,
            "visibility": null,
            "width": null
          }
        },
        "a3f918b1fc6745d59d6486f0a8fd544e": {
          "model_module": "@jupyter-widgets/controls",
          "model_name": "ProgressStyleModel",
          "model_module_version": "1.5.0",
          "state": {
            "_model_module": "@jupyter-widgets/controls",
            "_model_module_version": "1.5.0",
            "_model_name": "ProgressStyleModel",
            "_view_count": null,
            "_view_module": "@jupyter-widgets/base",
            "_view_module_version": "1.2.0",
            "_view_name": "StyleView",
            "bar_color": null,
            "description_width": ""
          }
        },
        "ab5daca68ed64a508db297b81d59b629": {
          "model_module": "@jupyter-widgets/base",
          "model_name": "LayoutModel",
          "model_module_version": "1.2.0",
          "state": {
            "_model_module": "@jupyter-widgets/base",
            "_model_module_version": "1.2.0",
            "_model_name": "LayoutModel",
            "_view_count": null,
            "_view_module": "@jupyter-widgets/base",
            "_view_module_version": "1.2.0",
            "_view_name": "LayoutView",
            "align_content": null,
            "align_items": null,
            "align_self": null,
            "border": null,
            "bottom": null,
            "display": null,
            "flex": null,
            "flex_flow": null,
            "grid_area": null,
            "grid_auto_columns": null,
            "grid_auto_flow": null,
            "grid_auto_rows": null,
            "grid_column": null,
            "grid_gap": null,
            "grid_row": null,
            "grid_template_areas": null,
            "grid_template_columns": null,
            "grid_template_rows": null,
            "height": null,
            "justify_content": null,
            "justify_items": null,
            "left": null,
            "margin": null,
            "max_height": null,
            "max_width": null,
            "min_height": null,
            "min_width": null,
            "object_fit": null,
            "object_position": null,
            "order": null,
            "overflow": null,
            "overflow_x": null,
            "overflow_y": null,
            "padding": null,
            "right": null,
            "top": null,
            "visibility": null,
            "width": null
          }
        },
        "f7853d2c0395463ead3a1c7072123a39": {
          "model_module": "@jupyter-widgets/controls",
          "model_name": "DescriptionStyleModel",
          "model_module_version": "1.5.0",
          "state": {
            "_model_module": "@jupyter-widgets/controls",
            "_model_module_version": "1.5.0",
            "_model_name": "DescriptionStyleModel",
            "_view_count": null,
            "_view_module": "@jupyter-widgets/base",
            "_view_module_version": "1.2.0",
            "_view_name": "StyleView",
            "description_width": ""
          }
        }
      }
    }
  },
  "cells": [
    {
      "cell_type": "code",
      "source": [
        "import torch\n",
        "device = torch.device('cuda') if torch.cuda.is_available() else torch.device('cpu')"
      ],
      "metadata": {
        "id": "oKYglMSvD9ke"
      },
      "execution_count": 1,
      "outputs": []
    },
    {
      "cell_type": "code",
      "source": [
        "from google.colab import drive\n",
        "drive.mount('/content/drive')"
      ],
      "metadata": {
        "colab": {
          "base_uri": "https://localhost:8080/"
        },
        "id": "HKhxC7KIEIi-",
        "outputId": "92485c6c-dbfd-4d4e-f680-420b27afcc58"
      },
      "execution_count": 2,
      "outputs": [
        {
          "output_type": "stream",
          "name": "stdout",
          "text": [
            "Drive already mounted at /content/drive; to attempt to forcibly remount, call drive.mount(\"/content/drive\", force_remount=True).\n"
          ]
        }
      ]
    },
    {
      "cell_type": "code",
      "source": [
        "from transformers import AutoImageProcessor, AutoModelForImageClassification\n",
        "processor1 = AutoImageProcessor.from_pretrained(\"Devarshi/Brain_Tumor_Classification\")\n",
        "model = AutoModelForImageClassification.from_pretrained(\"Devarshi/Brain_Tumor_Classification\")"
      ],
      "metadata": {
        "id": "E6hLQJjDEI1w",
        "colab": {
          "base_uri": "https://localhost:8080/",
          "height": 237,
          "referenced_widgets": [
            "f78086af043c4577bac430d22e16e3da",
            "568a037bc6744bf3a822ce073375091e",
            "15fb2a14fb2a4de989b25ac645885b71",
            "2e259c739dc84e5a956d9fde7a63b666",
            "a5f53eaefa1747e087d3ad93e88f784e",
            "8497e9695c774ffdb768572c75860ed7",
            "9af9cb08e3ab462588d6ebd1ffcff308",
            "db3c2a1cce094d25822d7311f4fa04d6",
            "bbe4d97a729a48a9992b3e4321a6b532",
            "d4c79de55a6a4631a64f2e1330c21dd5",
            "ba2892e2d9544239acc87373946140ef",
            "9ee884a162eb43d399e835d2f614a565",
            "6bfe40d283aa4d19ad2217a592592e4d",
            "9f63fd4506af44c084d75d4e0cd1a451",
            "9ebaa44058d44ff99456c8ba8568e46a",
            "4ccdec8a99424b6f9927b605fa37d2fd",
            "53dcc97959ab45038d4a811e37917a3c",
            "813a106d1dc14274a263c271aa6ff098",
            "fb795ece86d540eb9f860cab5116ea5f",
            "39302858b2ce472d885c9063ad87eb21",
            "c34422e78fba45a7826a9568ac9535bd",
            "67398b0cea4943fea388d421d76ed2a2",
            "abcbd94ff419415dadba7041ba0d84ea",
            "78493680785b4116bb0d380bd308f6f6",
            "0d68cb3c3c244576b5735fcc500fe143",
            "01d8ecd1bb05466092e6fd8a797dd6db",
            "403e0f5dada449bf815dc894a0d4049d",
            "def5bed8bfbc4ec1bc7a5c0542c8085e",
            "c754fc94635d4e1aa47447664ef0b881",
            "f6d9f8d7fc6148d080787a2a004124c1",
            "1767e2df4236487baded979217f6137d",
            "2bb55c9f2852484fb73dd670f63ea6eb",
            "20d66d6bddc04b95935a09b205bf71a5"
          ]
        },
        "outputId": "ea9da53c-08ec-40d5-cba0-20ea4869ac2e"
      },
      "execution_count": 3,
      "outputs": [
        {
          "output_type": "stream",
          "name": "stderr",
          "text": [
            "/usr/local/lib/python3.10/dist-packages/huggingface_hub/utils/_token.py:89: UserWarning: \n",
            "The secret `HF_TOKEN` does not exist in your Colab secrets.\n",
            "To authenticate with the Hugging Face Hub, create a token in your settings tab (https://huggingface.co/settings/tokens), set it as secret in your Google Colab and restart your session.\n",
            "You will be able to reuse this secret in all of your notebooks.\n",
            "Please note that authentication is recommended but still optional to access public models or datasets.\n",
            "  warnings.warn(\n"
          ]
        },
        {
          "output_type": "display_data",
          "data": {
            "text/plain": [
              "preprocessor_config.json:   0%|          | 0.00/240 [00:00<?, ?B/s]"
            ],
            "application/vnd.jupyter.widget-view+json": {
              "version_major": 2,
              "version_minor": 0,
              "model_id": "f78086af043c4577bac430d22e16e3da"
            }
          },
          "metadata": {}
        },
        {
          "output_type": "display_data",
          "data": {
            "text/plain": [
              "config.json:   0%|          | 0.00/1.03k [00:00<?, ?B/s]"
            ],
            "application/vnd.jupyter.widget-view+json": {
              "version_major": 2,
              "version_minor": 0,
              "model_id": "9ee884a162eb43d399e835d2f614a565"
            }
          },
          "metadata": {}
        },
        {
          "output_type": "display_data",
          "data": {
            "text/plain": [
              "pytorch_model.bin:   0%|          | 0.00/110M [00:00<?, ?B/s]"
            ],
            "application/vnd.jupyter.widget-view+json": {
              "version_major": 2,
              "version_minor": 0,
              "model_id": "abcbd94ff419415dadba7041ba0d84ea"
            }
          },
          "metadata": {}
        }
      ]
    },
    {
      "cell_type": "code",
      "source": [
        "def predict(input):\n",
        "  with torch.no_grad():\n",
        "        logits = model(**input).logits\n",
        "  predicted_label = logits.argmax(-1).item()\n",
        "  return model.config.id2label[predicted_label]"
      ],
      "metadata": {
        "id": "xUHff7J_FKTq"
      },
      "execution_count": 4,
      "outputs": []
    },
    {
      "source": [
        "import os\n",
        "from PIL import Image\n",
        "\n",
        "predictions = []\n",
        "image_dir = \"/content/drive/MyDrive/MRI/brain_mri/brain_mri\"\n",
        "\n",
        "for img in os.listdir(image_dir):\n",
        "  image_path = os.path.join(image_dir, img)\n",
        "  image = Image.open(image_path)\n",
        "  image = image.resize((244, 244)).convert('RGB')\n",
        "  input = processor1(images=image, return_tensors=\"pt\")\n",
        "  predictions.append(predict(input))"
      ],
      "cell_type": "code",
      "metadata": {
        "id": "mnPM5o9VP6M-"
      },
      "execution_count": 5,
      "outputs": []
    },
    {
      "cell_type": "code",
      "source": [
        "predictions"
      ],
      "metadata": {
        "id": "KLaLnW6RaXjl",
        "colab": {
          "base_uri": "https://localhost:8080/"
        },
        "outputId": "ecdbaf61-5e8d-4a53-92cd-4b121053ada1"
      },
      "execution_count": 6,
      "outputs": [
        {
          "output_type": "execute_result",
          "data": {
            "text/plain": [
              "['pituitary_tumor',\n",
              " 'pituitary_tumor',\n",
              " 'pituitary_tumor',\n",
              " 'pituitary_tumor',\n",
              " 'glioma_tumor',\n",
              " 'glioma_tumor',\n",
              " 'meningioma_tumor',\n",
              " 'pituitary_tumor',\n",
              " 'meningioma_tumor',\n",
              " 'meningioma_tumor',\n",
              " 'glioma_tumor',\n",
              " 'pituitary_tumor',\n",
              " 'meningioma_tumor',\n",
              " 'meningioma_tumor',\n",
              " 'meningioma_tumor',\n",
              " 'meningioma_tumor',\n",
              " 'meningioma_tumor',\n",
              " 'meningioma_tumor',\n",
              " 'meningioma_tumor',\n",
              " 'meningioma_tumor',\n",
              " 'pituitary_tumor',\n",
              " 'pituitary_tumor',\n",
              " 'pituitary_tumor',\n",
              " 'pituitary_tumor',\n",
              " 'meningioma_tumor',\n",
              " 'meningioma_tumor',\n",
              " 'no_tumor',\n",
              " 'no_tumor',\n",
              " 'no_tumor',\n",
              " 'no_tumor',\n",
              " 'no_tumor',\n",
              " 'no_tumor',\n",
              " 'no_tumor',\n",
              " 'no_tumor',\n",
              " 'no_tumor',\n",
              " 'no_tumor',\n",
              " 'no_tumor',\n",
              " 'no_tumor',\n",
              " 'no_tumor',\n",
              " 'no_tumor',\n",
              " 'no_tumor',\n",
              " 'no_tumor',\n",
              " 'no_tumor',\n",
              " 'no_tumor',\n",
              " 'no_tumor',\n",
              " 'no_tumor',\n",
              " 'no_tumor',\n",
              " 'no_tumor',\n",
              " 'no_tumor',\n",
              " 'no_tumor',\n",
              " 'no_tumor',\n",
              " 'no_tumor',\n",
              " 'no_tumor',\n",
              " 'no_tumor',\n",
              " 'no_tumor',\n",
              " 'no_tumor',\n",
              " 'no_tumor',\n",
              " 'no_tumor',\n",
              " 'no_tumor',\n",
              " 'no_tumor',\n",
              " 'no_tumor',\n",
              " 'no_tumor',\n",
              " 'no_tumor',\n",
              " 'no_tumor',\n",
              " 'no_tumor',\n",
              " 'no_tumor',\n",
              " 'no_tumor',\n",
              " 'no_tumor',\n",
              " 'no_tumor',\n",
              " 'no_tumor',\n",
              " 'no_tumor',\n",
              " 'no_tumor',\n",
              " 'no_tumor',\n",
              " 'no_tumor',\n",
              " 'no_tumor',\n",
              " 'no_tumor',\n",
              " 'no_tumor',\n",
              " 'no_tumor',\n",
              " 'no_tumor',\n",
              " 'pituitary_tumor',\n",
              " 'pituitary_tumor',\n",
              " 'pituitary_tumor',\n",
              " 'pituitary_tumor',\n",
              " 'pituitary_tumor',\n",
              " 'pituitary_tumor',\n",
              " 'pituitary_tumor',\n",
              " 'pituitary_tumor',\n",
              " 'pituitary_tumor',\n",
              " 'pituitary_tumor',\n",
              " 'pituitary_tumor',\n",
              " 'pituitary_tumor',\n",
              " 'pituitary_tumor',\n",
              " 'pituitary_tumor',\n",
              " 'pituitary_tumor',\n",
              " 'pituitary_tumor',\n",
              " 'pituitary_tumor',\n",
              " 'pituitary_tumor',\n",
              " 'pituitary_tumor',\n",
              " 'pituitary_tumor',\n",
              " 'pituitary_tumor']"
            ]
          },
          "metadata": {},
          "execution_count": 6
        }
      ]
    },
    {
      "cell_type": "code",
      "source": [
        "import os\n",
        "from PIL import Image\n",
        "\n",
        "true_pred = []\n",
        "image_dir = \"/content/drive/MyDrive/MRI/brain_mri/brain_mri\"\n",
        "\n",
        "for img in os.listdir(image_dir):\n",
        "  image_path = os.path.join(image_dir, img)\n",
        "  if \"me\" in image_path:\n",
        "    true_pred.append(\"meningioma_tumor\")\n",
        "  elif \"no\" in image_path:\n",
        "    true_pred.append(\"no_tumor\")\n",
        "  elif \"pi\" in image_path:\n",
        "    true_pred.append(\"pituitary_tumor\")\n",
        "  elif \"gl\" in image_path:\n",
        "    true_pred.append(\"glioma_tumor\")"
      ],
      "metadata": {
        "id": "QZdtlmJ_U6Lw"
      },
      "execution_count": 7,
      "outputs": []
    },
    {
      "cell_type": "code",
      "source": [
        "true_pred[0]"
      ],
      "metadata": {
        "id": "_7hyHsib5TSX",
        "colab": {
          "base_uri": "https://localhost:8080/",
          "height": 35
        },
        "outputId": "def19e5e-a9fb-44c2-8082-47ee348a5bd9"
      },
      "execution_count": 8,
      "outputs": [
        {
          "output_type": "execute_result",
          "data": {
            "text/plain": [
              "'glioma_tumor'"
            ],
            "application/vnd.google.colaboratory.intrinsic+json": {
              "type": "string"
            }
          },
          "metadata": {},
          "execution_count": 8
        }
      ]
    },
    {
      "source": [
        "true_pred"
      ],
      "cell_type": "code",
      "metadata": {
        "id": "3SZJLEhrWTXq",
        "colab": {
          "base_uri": "https://localhost:8080/"
        },
        "outputId": "be8841d4-6e27-43bd-a1a1-809af4a06702"
      },
      "execution_count": 9,
      "outputs": [
        {
          "output_type": "execute_result",
          "data": {
            "text/plain": [
              "['glioma_tumor',\n",
              " 'glioma_tumor',\n",
              " 'glioma_tumor',\n",
              " 'glioma_tumor',\n",
              " 'glioma_tumor',\n",
              " 'glioma_tumor',\n",
              " 'glioma_tumor',\n",
              " 'glioma_tumor',\n",
              " 'glioma_tumor',\n",
              " 'glioma_tumor',\n",
              " 'glioma_tumor',\n",
              " 'glioma_tumor',\n",
              " 'meningioma_tumor',\n",
              " 'meningioma_tumor',\n",
              " 'meningioma_tumor',\n",
              " 'meningioma_tumor',\n",
              " 'meningioma_tumor',\n",
              " 'meningioma_tumor',\n",
              " 'meningioma_tumor',\n",
              " 'meningioma_tumor',\n",
              " 'glioma_tumor',\n",
              " 'glioma_tumor',\n",
              " 'glioma_tumor',\n",
              " 'glioma_tumor',\n",
              " 'meningioma_tumor',\n",
              " 'meningioma_tumor',\n",
              " 'no_tumor',\n",
              " 'no_tumor',\n",
              " 'no_tumor',\n",
              " 'no_tumor',\n",
              " 'no_tumor',\n",
              " 'no_tumor',\n",
              " 'no_tumor',\n",
              " 'no_tumor',\n",
              " 'no_tumor',\n",
              " 'no_tumor',\n",
              " 'no_tumor',\n",
              " 'no_tumor',\n",
              " 'no_tumor',\n",
              " 'no_tumor',\n",
              " 'no_tumor',\n",
              " 'no_tumor',\n",
              " 'no_tumor',\n",
              " 'no_tumor',\n",
              " 'no_tumor',\n",
              " 'no_tumor',\n",
              " 'no_tumor',\n",
              " 'no_tumor',\n",
              " 'no_tumor',\n",
              " 'no_tumor',\n",
              " 'no_tumor',\n",
              " 'no_tumor',\n",
              " 'no_tumor',\n",
              " 'no_tumor',\n",
              " 'no_tumor',\n",
              " 'no_tumor',\n",
              " 'no_tumor',\n",
              " 'no_tumor',\n",
              " 'no_tumor',\n",
              " 'no_tumor',\n",
              " 'no_tumor',\n",
              " 'no_tumor',\n",
              " 'no_tumor',\n",
              " 'no_tumor',\n",
              " 'no_tumor',\n",
              " 'no_tumor',\n",
              " 'no_tumor',\n",
              " 'no_tumor',\n",
              " 'no_tumor',\n",
              " 'no_tumor',\n",
              " 'no_tumor',\n",
              " 'no_tumor',\n",
              " 'no_tumor',\n",
              " 'no_tumor',\n",
              " 'no_tumor',\n",
              " 'no_tumor',\n",
              " 'no_tumor',\n",
              " 'no_tumor',\n",
              " 'no_tumor',\n",
              " 'pituitary_tumor',\n",
              " 'pituitary_tumor',\n",
              " 'pituitary_tumor',\n",
              " 'pituitary_tumor',\n",
              " 'pituitary_tumor',\n",
              " 'pituitary_tumor',\n",
              " 'pituitary_tumor',\n",
              " 'pituitary_tumor',\n",
              " 'pituitary_tumor',\n",
              " 'pituitary_tumor',\n",
              " 'pituitary_tumor',\n",
              " 'pituitary_tumor',\n",
              " 'pituitary_tumor',\n",
              " 'pituitary_tumor',\n",
              " 'pituitary_tumor',\n",
              " 'pituitary_tumor',\n",
              " 'pituitary_tumor',\n",
              " 'pituitary_tumor',\n",
              " 'pituitary_tumor',\n",
              " 'pituitary_tumor',\n",
              " 'pituitary_tumor']"
            ]
          },
          "metadata": {},
          "execution_count": 9
        }
      ]
    },
    {
      "cell_type": "code",
      "source": [
        "from sklearn.metrics import accuracy_score,precision_score,recall_score,f1_score,confusion_matrix"
      ],
      "metadata": {
        "id": "shkruL7LRyfN"
      },
      "execution_count": 10,
      "outputs": []
    },
    {
      "cell_type": "code",
      "source": [
        "accu_score = accuracy_score(true_pred, predictions)"
      ],
      "metadata": {
        "id": "h_HUrGlMV48J"
      },
      "execution_count": 11,
      "outputs": []
    },
    {
      "cell_type": "code",
      "source": [
        "accu_score"
      ],
      "metadata": {
        "id": "sxc77p9zSXHx",
        "colab": {
          "base_uri": "https://localhost:8080/"
        },
        "outputId": "afea98af-0d23-4451-df21-fad1c820f9f2"
      },
      "execution_count": 12,
      "outputs": [
        {
          "output_type": "execute_result",
          "data": {
            "text/plain": [
              "0.87"
            ]
          },
          "metadata": {},
          "execution_count": 12
        }
      ]
    },
    {
      "cell_type": "code",
      "source": [
        "precision = precision_score(true_pred, predictions, average='weighted')"
      ],
      "metadata": {
        "id": "SPRLm-Z5HOhj"
      },
      "execution_count": 13,
      "outputs": []
    },
    {
      "cell_type": "code",
      "source": [
        "precision"
      ],
      "metadata": {
        "id": "RlJYA-0oYjex",
        "colab": {
          "base_uri": "https://localhost:8080/"
        },
        "outputId": "0c197073-4288-41d4-bdca-318168aa34b1"
      },
      "execution_count": 14,
      "outputs": [
        {
          "output_type": "execute_result",
          "data": {
            "text/plain": [
              "0.9091811414392059"
            ]
          },
          "metadata": {},
          "execution_count": 14
        }
      ]
    },
    {
      "cell_type": "code",
      "source": [
        "recall = recall_score(true_pred, predictions, average='macro')"
      ],
      "metadata": {
        "id": "RsHSYlZhYlag"
      },
      "execution_count": 15,
      "outputs": []
    },
    {
      "cell_type": "code",
      "source": [
        "recall"
      ],
      "metadata": {
        "id": "Kqq4X8K6YomI",
        "colab": {
          "base_uri": "https://localhost:8080/"
        },
        "outputId": "afd63b79-7ba7-4a0d-eadc-5427353a005b"
      },
      "execution_count": 16,
      "outputs": [
        {
          "output_type": "execute_result",
          "data": {
            "text/plain": [
              "0.796875"
            ]
          },
          "metadata": {},
          "execution_count": 16
        }
      ]
    },
    {
      "cell_type": "code",
      "source": [
        "f1_score = f1_score(true_pred, predictions, average='weighted')"
      ],
      "metadata": {
        "id": "PESH4C4h_ajx"
      },
      "execution_count": 17,
      "outputs": []
    },
    {
      "cell_type": "code",
      "source": [
        "f1_score"
      ],
      "metadata": {
        "id": "QPErFn___n5g",
        "colab": {
          "base_uri": "https://localhost:8080/"
        },
        "outputId": "18b0826e-2f02-4a9a-978e-b95e3241af93"
      },
      "execution_count": 18,
      "outputs": [
        {
          "output_type": "execute_result",
          "data": {
            "text/plain": [
              "0.8370982221439889"
            ]
          },
          "metadata": {},
          "execution_count": 18
        }
      ]
    },
    {
      "cell_type": "code",
      "source": [
        "from sklearn.metrics import ConfusionMatrixDisplay"
      ],
      "metadata": {
        "id": "hwr2Pvm9ZVuD"
      },
      "execution_count": 19,
      "outputs": []
    },
    {
      "cell_type": "code",
      "source": [
        "cm = confusion_matrix(true_pred, predictions)\n",
        "disp = ConfusionMatrixDisplay(confusion_matrix=cm)"
      ],
      "metadata": {
        "id": "q97VbgvTYqd-"
      },
      "execution_count": 20,
      "outputs": []
    },
    {
      "cell_type": "code",
      "source": [
        "import matplotlib.pyplot as plt"
      ],
      "metadata": {
        "id": "XvL0VHpzZj_1"
      },
      "execution_count": 21,
      "outputs": []
    },
    {
      "cell_type": "code",
      "source": [
        "# disp.plot()"
      ],
      "metadata": {
        "id": "nxiHAsbvZdCf"
      },
      "execution_count": 22,
      "outputs": []
    },
    {
      "cell_type": "code",
      "source": [
        "import seaborn as sns\n",
        "import matplotlib.pyplot as plt\n",
        "\n",
        "ax= plt.subplot()\n",
        "sns.heatmap(cm, annot=True, fmt='g', ax=ax);\n",
        "\n",
        "\n",
        "ax.set_xlabel('Predicted labels');ax.set_ylabel('True labels');\n",
        "ax.set_title('Confusion Matrix');\n",
        "ax.xaxis.set_ticklabels(['meningioma','no','pituitary','glioma']); ax.yaxis.set_ticklabels(['meningioma','no','pituitary','glioma']);"
      ],
      "metadata": {
        "id": "pZWNSYa3aNj4",
        "colab": {
          "base_uri": "https://localhost:8080/",
          "height": 472
        },
        "outputId": "60bee7b4-963e-4d1e-9b17-76da628aae8b"
      },
      "execution_count": 23,
      "outputs": [
        {
          "output_type": "display_data",
          "data": {
            "text/plain": [
              "<Figure size 640x480 with 2 Axes>"
            ],
            "image/png": "[encoded data removed]"
          },
          "metadata": {}
        }
      ]
    },
    {
      "cell_type": "code",
      "source": [
        "import torch\n",
        "from transformers import AutoFeatureExtractor, AutoModelForImageClassification\n",
        "from PIL import Image\n",
        "\n",
        "\n",
        "feature_extractor = AutoFeatureExtractor.from_pretrained(\"gulsmyigit/vit-base-patch16-224-finetuned-Brain-Tumor-Classification\")\n",
        "model = AutoModelForImageClassification.from_pretrained(\"gulsmyigit/vit-base-patch16-224-finetuned-Brain-Tumor-Classification\")\n",
        "\n"
      ],
      "metadata": {
        "colab": {
          "base_uri": "https://localhost:8080/",
          "height": 168,
          "referenced_widgets": [
            "ec367693217e4296945e38f7e180cc90",
            "fce0003b324c42958c56f2b24b4aff9a",
            "9eddbd3e033a49d38acae03db5fe55e6",
            "cbb0b0a855594b8f9c3155b3cc41cf05",
            "5b0d383adf5b4cf0b86f239134727847",
            "b0949b2fcc814dceb21e43efa18988d8",
            "44500032380f4e31ba0f1d96b3e54dd8",
            "10a695b5f3c74237ac07d505a2591957",
            "6bb2d60223c14b3eb0c840441b303389",
            "6f23cdba83ba4e6db52d5621246364cc",
            "31f12987b9074b1b97ccbc75184f3cb9",
            "fabf5e142b0b493fbee46ea0ffe67be1",
            "7d6cf82b2e3146c6a4d6259789de1c81",
            "b4e183fd60a941d5b7a04bf10883cb7e",
            "1e7ae725e20544f585b4e913ebaec2ee",
            "6ae035a1a5624af1af35ba9769edd919",
            "bcd73a741d3c4a5384177b4050451f8e",
            "b537ac902a6e41f0971dd5daef62404e",
            "dab5c39ce01d4d229ba7eb61a73af42b",
            "9d4a5e659ec942efb2e857dc9ad4a660",
            "f4197fa78c1f4651ae44331a8b02893f",
            "f3ba7438d9874310ad26ea092fec3646",
            "86ecd3069dc04cf49c6afe68afebec9a",
            "5774707bf3d4413eb79f2546d4f29989",
            "4a29cfd6da224fb8bd75ef01e39b68e5",
            "0f14bf666d5346f4b57a84dff69abd06",
            "697d24ae304e4d55873bef815d4404db",
            "02432431fddd46e4a7df1b525ba71aa8",
            "f5f8652cf0aa4dcea726435d7ba2ed31",
            "a87456fae34b4f7e9d2ad8a538fc8244",
            "7e031792ffd740a881d775abe4aeaebc",
            "c1b0713e76e4444b897e90f909cffe12",
            "9488569c54ae42309fa7ce39f0ceea1f"
          ]
        },
        "id": "NSRjJfvixknl",
        "outputId": "e2daed8b-446f-431e-adf5-d0ea337eb802"
      },
      "execution_count": 24,
      "outputs": [
        {
          "output_type": "display_data",
          "data": {
            "text/plain": [
              "preprocessor_config.json:   0%|          | 0.00/578 [00:00<?, ?B/s]"
            ],
            "application/vnd.jupyter.widget-view+json": {
              "version_major": 2,
              "version_minor": 0,
              "model_id": "ec367693217e4296945e38f7e180cc90"
            }
          },
          "metadata": {}
        },
        {
          "output_type": "display_data",
          "data": {
            "text/plain": [
              "config.json:   0%|          | 0.00/847 [00:00<?, ?B/s]"
            ],
            "application/vnd.jupyter.widget-view+json": {
              "version_major": 2,
              "version_minor": 0,
              "model_id": "fabf5e142b0b493fbee46ea0ffe67be1"
            }
          },
          "metadata": {}
        },
        {
          "output_type": "stream",
          "name": "stderr",
          "text": [
            "/usr/local/lib/python3.10/dist-packages/transformers/models/vit/feature_extraction_vit.py:28: FutureWarning: The class ViTFeatureExtractor is deprecated and will be removed in version 5 of Transformers. Please use ViTImageProcessor instead.\n",
            "  warnings.warn(\n"
          ]
        },
        {
          "output_type": "display_data",
          "data": {
            "text/plain": [
              "model.safetensors:   0%|          | 0.00/343M [00:00<?, ?B/s]"
            ],
            "application/vnd.jupyter.widget-view+json": {
              "version_major": 2,
              "version_minor": 0,
              "model_id": "86ecd3069dc04cf49c6afe68afebec9a"
            }
          },
          "metadata": {}
        }
      ]
    },
    {
      "cell_type": "code",
      "source": [
        "def predictionModel(input):\n",
        "  with torch.no_grad():\n",
        "    outputs = model(**input)\n",
        "    logits =outputs.logits\n",
        "  predicted_class_idx = logits.argmax(-1).item()\n",
        "  labels = model.config.id2label\n",
        "  predicted_class = labels[predicted_class_idx]\n",
        "  return predicted_class"
      ],
      "metadata": {
        "id": "Zr4rH71v0Ebd"
      },
      "execution_count": 25,
      "outputs": []
    },
    {
      "cell_type": "code",
      "source": [
        "import os\n",
        "from PIL import Image\n",
        "\n",
        "predictions1 = []\n",
        "image_dir = \"/content/drive/MyDrive/MRI/brain_mri/brain_mri\"\n",
        "\n",
        "for img in os.listdir(image_dir):\n",
        "  image_path = os.path.join(image_dir, img)\n",
        "  image = Image.open(image_path)\n",
        "  image = image.resize((244, 244)).convert('RGB')\n",
        "  input = feature_extractor(images=image, return_tensors=\"pt\")\n",
        "  predictions1.append(predictionModel(input))"
      ],
      "metadata": {
        "id": "hr6eRB3xGknw"
      },
      "execution_count": 26,
      "outputs": []
    },
    {
      "cell_type": "code",
      "source": [
        "predictions1"
      ],
      "metadata": {
        "colab": {
          "base_uri": "https://localhost:8080/"
        },
        "id": "jlehrehC1aZU",
        "outputId": "0af695fe-cdb3-4c24-943a-d621a5bb0cee"
      },
      "execution_count": 27,
      "outputs": [
        {
          "output_type": "execute_result",
          "data": {
            "text/plain": [
              "['glioma_tumor',\n",
              " 'pituitary_tumor',\n",
              " 'pituitary_tumor',\n",
              " 'pituitary_tumor',\n",
              " 'glioma_tumor',\n",
              " 'glioma_tumor',\n",
              " 'glioma_tumor',\n",
              " 'pituitary_tumor',\n",
              " 'glioma_tumor',\n",
              " 'meningioma_tumor',\n",
              " 'glioma_tumor',\n",
              " 'glioma_tumor',\n",
              " 'meningioma_tumor',\n",
              " 'meningioma_tumor',\n",
              " 'meningioma_tumor',\n",
              " 'meningioma_tumor',\n",
              " 'meningioma_tumor',\n",
              " 'meningioma_tumor',\n",
              " 'glioma_tumor',\n",
              " 'meningioma_tumor',\n",
              " 'glioma_tumor',\n",
              " 'pituitary_tumor',\n",
              " 'pituitary_tumor',\n",
              " 'glioma_tumor',\n",
              " 'meningioma_tumor',\n",
              " 'glioma_tumor',\n",
              " 'no_tumor',\n",
              " 'no_tumor',\n",
              " 'no_tumor',\n",
              " 'no_tumor',\n",
              " 'no_tumor',\n",
              " 'no_tumor',\n",
              " 'no_tumor',\n",
              " 'no_tumor',\n",
              " 'no_tumor',\n",
              " 'no_tumor',\n",
              " 'no_tumor',\n",
              " 'no_tumor',\n",
              " 'no_tumor',\n",
              " 'no_tumor',\n",
              " 'no_tumor',\n",
              " 'no_tumor',\n",
              " 'no_tumor',\n",
              " 'no_tumor',\n",
              " 'no_tumor',\n",
              " 'no_tumor',\n",
              " 'no_tumor',\n",
              " 'no_tumor',\n",
              " 'no_tumor',\n",
              " 'no_tumor',\n",
              " 'no_tumor',\n",
              " 'no_tumor',\n",
              " 'no_tumor',\n",
              " 'no_tumor',\n",
              " 'no_tumor',\n",
              " 'no_tumor',\n",
              " 'no_tumor',\n",
              " 'no_tumor',\n",
              " 'no_tumor',\n",
              " 'no_tumor',\n",
              " 'no_tumor',\n",
              " 'no_tumor',\n",
              " 'no_tumor',\n",
              " 'no_tumor',\n",
              " 'no_tumor',\n",
              " 'no_tumor',\n",
              " 'no_tumor',\n",
              " 'no_tumor',\n",
              " 'no_tumor',\n",
              " 'no_tumor',\n",
              " 'no_tumor',\n",
              " 'no_tumor',\n",
              " 'no_tumor',\n",
              " 'no_tumor',\n",
              " 'no_tumor',\n",
              " 'no_tumor',\n",
              " 'no_tumor',\n",
              " 'no_tumor',\n",
              " 'no_tumor',\n",
              " 'pituitary_tumor',\n",
              " 'pituitary_tumor',\n",
              " 'pituitary_tumor',\n",
              " 'pituitary_tumor',\n",
              " 'pituitary_tumor',\n",
              " 'pituitary_tumor',\n",
              " 'pituitary_tumor',\n",
              " 'pituitary_tumor',\n",
              " 'pituitary_tumor',\n",
              " 'pituitary_tumor',\n",
              " 'pituitary_tumor',\n",
              " 'pituitary_tumor',\n",
              " 'pituitary_tumor',\n",
              " 'pituitary_tumor',\n",
              " 'pituitary_tumor',\n",
              " 'pituitary_tumor',\n",
              " 'pituitary_tumor',\n",
              " 'pituitary_tumor',\n",
              " 'pituitary_tumor',\n",
              " 'pituitary_tumor',\n",
              " 'pituitary_tumor']"
            ]
          },
          "metadata": {},
          "execution_count": 27
        }
      ]
    },
    {
      "cell_type": "code",
      "source": [
        "from sklearn.metrics import accuracy_score,precision_score,recall_score,f1_score,confusion_matrix"
      ],
      "metadata": {
        "id": "F2wyt5jkG3Id"
      },
      "execution_count": 28,
      "outputs": []
    },
    {
      "cell_type": "code",
      "source": [
        "accu_score = accuracy_score(true_pred, predictions1)"
      ],
      "metadata": {
        "id": "2HqZq4hL22jx"
      },
      "execution_count": 29,
      "outputs": []
    },
    {
      "cell_type": "code",
      "source": [
        "accu_score"
      ],
      "metadata": {
        "colab": {
          "base_uri": "https://localhost:8080/"
        },
        "id": "csdGC_st24an",
        "outputId": "fab39b38-0ac1-4230-f674-7b3fddfebb75"
      },
      "execution_count": 30,
      "outputs": [
        {
          "output_type": "execute_result",
          "data": {
            "text/plain": [
              "0.91"
            ]
          },
          "metadata": {},
          "execution_count": 30
        }
      ]
    },
    {
      "cell_type": "code",
      "source": [
        "precision = precision_score(true_pred, predictions1, average='weighted')"
      ],
      "metadata": {
        "id": "DCpmfTFy25o5"
      },
      "execution_count": 31,
      "outputs": []
    },
    {
      "cell_type": "code",
      "source": [
        "precision"
      ],
      "metadata": {
        "colab": {
          "base_uri": "https://localhost:8080/"
        },
        "id": "yxFuEhUM29Cr",
        "outputId": "d13feb0e-009b-48f5-9a87-4331132b965d"
      },
      "execution_count": 32,
      "outputs": [
        {
          "output_type": "execute_result",
          "data": {
            "text/plain": [
              "0.9131313131313131"
            ]
          },
          "metadata": {},
          "execution_count": 32
        }
      ]
    },
    {
      "cell_type": "code",
      "source": [
        "recall = recall_score(true_pred, predictions1, average='macro')"
      ],
      "metadata": {
        "id": "um4abcT22-BZ"
      },
      "execution_count": 33,
      "outputs": []
    },
    {
      "cell_type": "code",
      "source": [
        "recall"
      ],
      "metadata": {
        "colab": {
          "base_uri": "https://localhost:8080/"
        },
        "id": "Pj5vl0e13AJL",
        "outputId": "c9e0a7b3-9fe2-4b97-f8b7-8c92a226d6c0"
      },
      "execution_count": 34,
      "outputs": [
        {
          "output_type": "execute_result",
          "data": {
            "text/plain": [
              "0.840625"
            ]
          },
          "metadata": {},
          "execution_count": 34
        }
      ]
    },
    {
      "cell_type": "code",
      "source": [
        "f1_score = f1_score(true_pred, predictions1, average='weighted')"
      ],
      "metadata": {
        "id": "_bbxHI8_3Apr"
      },
      "execution_count": 35,
      "outputs": []
    },
    {
      "cell_type": "code",
      "source": [
        "f1_score"
      ],
      "metadata": {
        "colab": {
          "base_uri": "https://localhost:8080/"
        },
        "id": "6wD7O0pc3E8j",
        "outputId": "a9c23d60-98c5-4687-a7e7-28823ea65e03"
      },
      "execution_count": 36,
      "outputs": [
        {
          "output_type": "execute_result",
          "data": {
            "text/plain": [
              "0.9046271929824562"
            ]
          },
          "metadata": {},
          "execution_count": 36
        }
      ]
    },
    {
      "cell_type": "code",
      "source": [
        "from sklearn.metrics import ConfusionMatrixDisplay,confusion_matrix\n",
        "cm = confusion_matrix(true_pred, predictions1)"
      ],
      "metadata": {
        "id": "kXR91oNFLsj6"
      },
      "execution_count": 37,
      "outputs": []
    },
    {
      "cell_type": "code",
      "source": [
        "import seaborn as sns\n",
        "import matplotlib.pyplot as plt\n",
        "\n",
        "ax= plt.subplot()\n",
        "sns.heatmap(cm, annot=True, fmt='g', ax=ax);\n",
        "\n",
        "ax.set_xlabel('Predicted labels');ax.set_ylabel('True labels');\n",
        "ax.set_title('Confusion Matrix');\n",
        "ax.xaxis.set_ticklabels(['meningioma','no','pituitary','glioma']); ax.yaxis.set_ticklabels(['meningioma','no','pituitary','glioma']);"
      ],
      "metadata": {
        "colab": {
          "base_uri": "https://localhost:8080/",
          "height": 472
        },
        "id": "qU8oewck3GKR",
        "outputId": "64e6323a-e3a0-4d9d-9f61-025c00b7f27c"
      },
      "execution_count": 38,
      "outputs": [
        {
          "output_type": "display_data",
          "data": {
            "text/plain": [
              "<Figure size 640x480 with 2 Axes>"
            ],
            "image/png": "[encoded data removed]"
          },
          "metadata": {}
        }
      ]
    },
    {
      "cell_type": "code",
      "source": [
        "from transformers import AutoImageProcessor, AutoModelForImageClassification\n",
        "\n",
        "processor3 = AutoImageProcessor.from_pretrained(\"surajjoshi/Brain_Tumor_Classification_using_swin_transformer\")\n",
        "model = AutoModelForImageClassification.from_pretrained(\"surajjoshi/Brain_Tumor_Classification_using_swin_transformer\")"
      ],
      "metadata": {
        "id": "yM2wQWSj6hmt",
        "colab": {
          "base_uri": "https://localhost:8080/",
          "height": 113,
          "referenced_widgets": [
            "e61d600ba48d46309ab39942bdbf2c8c",
            "470e2acdba4b4249891540cb12217756",
            "a8de7ddec0f1421ba5ba1160b83eb124",
            "48220ccac27244aaa602fd4574424440",
            "24601d8a49354d3d926b71c28d8bba6b",
            "78167095cf124baeaa18b7ee509cfaf8",
            "7ddc7232b07f474cb66284401c4ac764",
            "7dcba92520e64c8ab6392818584b64f4",
            "26a88c847ac24197aef2e50bb3b38886",
            "fed23686c8524b9fb58391b30ae84b8a",
            "c8ac074c7bb04506a08645efa2cabad7",
            "b8105eec95fe40ad817c2b554b908bef",
            "ee6cdc4219904dafbf39bc664e8ec03b",
            "1d89a55edc2945f5a9b89967644f6084",
            "91fd4d7177e34dc8856f450630ece5b4",
            "f9d47bdfd8624516ba59030d78e68ada",
            "7042981fef6a4203b5001af0e6ab13b3",
            "f41477426c494795b3e7669cf096a88d",
            "9cc0d76895df4b81b9b886feea5e2181",
            "3d8206812fee42aaa2f1be1c275c2c24",
            "1c8413fbe377439f941a59ad23e0ec50",
            "abbfc538e8514dfa98b1400854c858b6",
            "c827ba3332c44fdf85adb916a2b30801",
            "d87ce31430de451d932c92bbc8363297",
            "9d96155948164c4994e149f4f1656723",
            "dc45fcacd0a3446d836a27f37263dda1",
            "e27099537d144e0692636edd3835003e",
            "133ae294da984ef4a4f708fcd7a79291",
            "92eced5fb1cb424bbaeeb1f425054e9f",
            "7544f6868b0e40e289581e6ef36db15d",
            "8d68c5d6bc29440a9c95d7f7922f8184",
            "a27e520ecdfd44c68bcb471728afaa59",
            "bfd1bb505fb04afca9c35b7d540b9599"
          ]
        },
        "outputId": "65220fc4-3b29-47ad-da11-08edb06b7334"
      },
      "execution_count": 43,
      "outputs": [
        {
          "output_type": "display_data",
          "data": {
            "text/plain": [
              "preprocessor_config.json:   0%|          | 0.00/240 [00:00<?, ?B/s]"
            ],
            "application/vnd.jupyter.widget-view+json": {
              "version_major": 2,
              "version_minor": 0,
              "model_id": "e61d600ba48d46309ab39942bdbf2c8c"
            }
          },
          "metadata": {}
        },
        {
          "output_type": "display_data",
          "data": {
            "text/plain": [
              "config.json:   0%|          | 0.00/1.00k [00:00<?, ?B/s]"
            ],
            "application/vnd.jupyter.widget-view+json": {
              "version_major": 2,
              "version_minor": 0,
              "model_id": "b8105eec95fe40ad817c2b554b908bef"
            }
          },
          "metadata": {}
        },
        {
          "output_type": "display_data",
          "data": {
            "text/plain": [
              "pytorch_model.bin:   0%|          | 0.00/348M [00:00<?, ?B/s]"
            ],
            "application/vnd.jupyter.widget-view+json": {
              "version_major": 2,
              "version_minor": 0,
              "model_id": "c827ba3332c44fdf85adb916a2b30801"
            }
          },
          "metadata": {}
        }
      ]
    },
    {
      "cell_type": "code",
      "source": [
        "def predictModel4(input):\n",
        "  with torch.no_grad():\n",
        "      logits = model(**input).logits\n",
        "  predicted_label = logits.argmax(-1).item()\n",
        "  return model.config.id2label[predicted_label]"
      ],
      "metadata": {
        "id": "i8xjh3YF6mi_"
      },
      "execution_count": 45,
      "outputs": []
    },
    {
      "cell_type": "code",
      "source": [
        "import os\n",
        "from PIL import Image\n",
        "\n",
        "predictions4 = []\n",
        "image_dir = \"/content/drive/MyDrive/MRI/brain_mri/brain_mri\"  # Define the directory containing the images\n",
        "\n",
        "for img in os.listdir(image_dir):\n",
        "  image_path = os.path.join(image_dir, img)  # Construct the full path to the image\n",
        "  image = Image.open(image_path)  # Open the image using the full path\n",
        "  image = image.resize((244, 244)).convert('RGB')\n",
        "  input = processor1(images=image, return_tensors=\"pt\")\n",
        "  predictions4.append(predictModel4(input))"
      ],
      "metadata": {
        "id": "PtgUBL9g63rx"
      },
      "execution_count": 46,
      "outputs": []
    },
    {
      "cell_type": "code",
      "source": [
        "import os\n",
        "from PIL import Image\n",
        "\n",
        "true_pred1 = []\n",
        "image_dir = \"/content/drive/MyDrive/MRI/brain_mri/brain_mri\"  # Define the directory containing the images\n",
        "\n",
        "for img in os.listdir(image_dir):\n",
        "  image_path = os.path.join(image_dir, img)  # Construct the full path to the image\n",
        "  if \"me\" in image_path:\n",
        "    true_pred1.append(\"Meningioma Tumor\")\n",
        "  elif \"no\" in image_path:\n",
        "    true_pred1.append(\"No Tumor\")\n",
        "  elif \"pi\" in image_path:\n",
        "    true_pred1.append(\"Pituitary Tumor\")\n",
        "  elif \"gl\" in image_path:\n",
        "    true_pred1.append(\"Gliomas Tumor\")"
      ],
      "metadata": {
        "id": "18GxGIHY8N1F"
      },
      "execution_count": 47,
      "outputs": []
    },
    {
      "cell_type": "code",
      "source": [
        "predictions4"
      ],
      "metadata": {
        "colab": {
          "base_uri": "https://localhost:8080/"
        },
        "id": "7yt5Aoys7evw",
        "outputId": "67e66150-5b31-4b25-c9ef-3a256f1cac89"
      },
      "execution_count": 48,
      "outputs": [
        {
          "output_type": "execute_result",
          "data": {
            "text/plain": [
              "['Gliomas Tumor',\n",
              " 'Gliomas Tumor',\n",
              " 'Gliomas Tumor',\n",
              " 'Gliomas Tumor',\n",
              " 'Gliomas Tumor',\n",
              " 'Gliomas Tumor',\n",
              " 'Gliomas Tumor',\n",
              " 'Gliomas Tumor',\n",
              " 'Gliomas Tumor',\n",
              " 'Gliomas Tumor',\n",
              " 'Gliomas Tumor',\n",
              " 'Gliomas Tumor',\n",
              " 'Meningiomas Tumor',\n",
              " 'Meningiomas Tumor',\n",
              " 'Meningiomas Tumor',\n",
              " 'Meningiomas Tumor',\n",
              " 'Meningiomas Tumor',\n",
              " 'Meningiomas Tumor',\n",
              " 'Meningiomas Tumor',\n",
              " 'Meningiomas Tumor',\n",
              " 'Gliomas Tumor',\n",
              " 'Gliomas Tumor',\n",
              " 'Gliomas Tumor',\n",
              " 'Gliomas Tumor',\n",
              " 'Meningiomas Tumor',\n",
              " 'Meningiomas Tumor',\n",
              " 'Gliomas Tumor',\n",
              " 'Gliomas Tumor',\n",
              " 'Gliomas Tumor',\n",
              " 'Gliomas Tumor',\n",
              " 'Gliomas Tumor',\n",
              " 'Pituitary Tumor',\n",
              " 'Gliomas Tumor',\n",
              " 'Gliomas Tumor',\n",
              " 'Gliomas Tumor',\n",
              " 'Gliomas Tumor',\n",
              " 'Gliomas Tumor',\n",
              " 'Gliomas Tumor',\n",
              " 'Gliomas Tumor',\n",
              " 'Meningiomas Tumor',\n",
              " 'Gliomas Tumor',\n",
              " 'Gliomas Tumor',\n",
              " 'Gliomas Tumor',\n",
              " 'Gliomas Tumor',\n",
              " 'Gliomas Tumor',\n",
              " 'Gliomas Tumor',\n",
              " 'Gliomas Tumor',\n",
              " 'Meningiomas Tumor',\n",
              " 'Gliomas Tumor',\n",
              " 'Gliomas Tumor',\n",
              " 'Gliomas Tumor',\n",
              " 'Gliomas Tumor',\n",
              " 'Gliomas Tumor',\n",
              " 'Gliomas Tumor',\n",
              " 'Gliomas Tumor',\n",
              " 'Gliomas Tumor',\n",
              " 'Gliomas Tumor',\n",
              " 'Meningiomas Tumor',\n",
              " 'Gliomas Tumor',\n",
              " 'Gliomas Tumor',\n",
              " 'Gliomas Tumor',\n",
              " 'Gliomas Tumor',\n",
              " 'Gliomas Tumor',\n",
              " 'Gliomas Tumor',\n",
              " 'Gliomas Tumor',\n",
              " 'Gliomas Tumor',\n",
              " 'Gliomas Tumor',\n",
              " 'Gliomas Tumor',\n",
              " 'Gliomas Tumor',\n",
              " 'Gliomas Tumor',\n",
              " 'Gliomas Tumor',\n",
              " 'Gliomas Tumor',\n",
              " 'Gliomas Tumor',\n",
              " 'Meningiomas Tumor',\n",
              " 'Gliomas Tumor',\n",
              " 'Gliomas Tumor',\n",
              " 'Gliomas Tumor',\n",
              " 'Gliomas Tumor',\n",
              " 'Gliomas Tumor',\n",
              " 'Pituitary Tumor',\n",
              " 'Pituitary Tumor',\n",
              " 'Pituitary Tumor',\n",
              " 'Pituitary Tumor',\n",
              " 'Pituitary Tumor',\n",
              " 'Pituitary Tumor',\n",
              " 'Pituitary Tumor',\n",
              " 'Pituitary Tumor',\n",
              " 'Pituitary Tumor',\n",
              " 'Pituitary Tumor',\n",
              " 'Pituitary Tumor',\n",
              " 'Pituitary Tumor',\n",
              " 'Pituitary Tumor',\n",
              " 'Pituitary Tumor',\n",
              " 'Pituitary Tumor',\n",
              " 'Pituitary Tumor',\n",
              " 'Pituitary Tumor',\n",
              " 'Pituitary Tumor',\n",
              " 'Pituitary Tumor',\n",
              " 'Pituitary Tumor',\n",
              " 'Pituitary Tumor']"
            ]
          },
          "metadata": {},
          "execution_count": 48
        }
      ]
    },
    {
      "cell_type": "code",
      "source": [
        "from sklearn.metrics import accuracy_score,precision_score,recall_score,f1_score,confusion_matrix"
      ],
      "metadata": {
        "id": "ZN8jOEFB8CIC"
      },
      "execution_count": 49,
      "outputs": []
    },
    {
      "cell_type": "code",
      "source": [
        "accu_score4 = accuracy_score(true_pred1, predictions4)"
      ],
      "metadata": {
        "id": "svfE92wO8c3A"
      },
      "execution_count": 50,
      "outputs": []
    },
    {
      "cell_type": "code",
      "source": [
        "accu_score4"
      ],
      "metadata": {
        "colab": {
          "base_uri": "https://localhost:8080/"
        },
        "id": "YOTQsGRl8gJh",
        "outputId": "c840aff9-e723-46e3-ee80-dc7d670156c7"
      },
      "execution_count": 51,
      "outputs": [
        {
          "output_type": "execute_result",
          "data": {
            "text/plain": [
              "0.37"
            ]
          },
          "metadata": {},
          "execution_count": 51
        }
      ]
    },
    {
      "cell_type": "code",
      "source": [
        "precision4 = precision_score(true_pred1, predictions4, average='weighted')"
      ],
      "metadata": {
        "colab": {
          "base_uri": "https://localhost:8080/"
        },
        "id": "AGtOCdOW8h7w",
        "outputId": "93a81d0e-73a2-4a43-ab20-8d9bf970f628"
      },
      "execution_count": 52,
      "outputs": [
        {
          "output_type": "stream",
          "name": "stderr",
          "text": [
            "/usr/local/lib/python3.10/dist-packages/sklearn/metrics/_classification.py:1471: UndefinedMetricWarning: Precision is ill-defined and being set to 0.0 in labels with no predicted samples. Use `zero_division` parameter to control this behavior.\n",
            "  _warn_prf(average, modifier, msg_start, len(result))\n"
          ]
        }
      ]
    },
    {
      "cell_type": "code",
      "source": [
        "precision4"
      ],
      "metadata": {
        "colab": {
          "base_uri": "https://localhost:8080/"
        },
        "id": "bVYlN_hX8l69",
        "outputId": "79d9b1e7-3de4-447f-9c98-d040b71bb5f1"
      },
      "execution_count": 53,
      "outputs": [
        {
          "output_type": "execute_result",
          "data": {
            "text/plain": [
              "0.24045454545454548"
            ]
          },
          "metadata": {},
          "execution_count": 53
        }
      ]
    },
    {
      "cell_type": "code",
      "source": [
        "recall4 = recall_score(true_pred1, predictions4, average='macro')"
      ],
      "metadata": {
        "colab": {
          "base_uri": "https://localhost:8080/"
        },
        "id": "fjQ3_uxT8nZa",
        "outputId": "7c6b6fb1-727e-40e4-98b8-7bba27f86099"
      },
      "execution_count": 54,
      "outputs": [
        {
          "output_type": "stream",
          "name": "stderr",
          "text": [
            "/usr/local/lib/python3.10/dist-packages/sklearn/metrics/_classification.py:1471: UndefinedMetricWarning: Recall is ill-defined and being set to 0.0 in labels with no true samples. Use `zero_division` parameter to control this behavior.\n",
            "  _warn_prf(average, modifier, msg_start, len(result))\n"
          ]
        }
      ]
    },
    {
      "cell_type": "code",
      "source": [
        "recall4"
      ],
      "metadata": {
        "colab": {
          "base_uri": "https://localhost:8080/"
        },
        "id": "-tLr4h-x8pk_",
        "outputId": "aff31412-76b7-4b3a-e41c-ff58cc352556"
      },
      "execution_count": 55,
      "outputs": [
        {
          "output_type": "execute_result",
          "data": {
            "text/plain": [
              "0.4"
            ]
          },
          "metadata": {},
          "execution_count": 55
        }
      ]
    },
    {
      "cell_type": "code",
      "source": [
        "f1_score4 = f1_score(true_pred1, predictions4, average='weighted')"
      ],
      "metadata": {
        "id": "7z9L5yOM8qbm"
      },
      "execution_count": 56,
      "outputs": []
    },
    {
      "cell_type": "code",
      "source": [
        "f1_score4"
      ],
      "metadata": {
        "colab": {
          "base_uri": "https://localhost:8080/"
        },
        "id": "A_mT9BA388zg",
        "outputId": "676b2a4a-2c91-41ec-ab58-3c6fef458b82"
      },
      "execution_count": 57,
      "outputs": [
        {
          "output_type": "execute_result",
          "data": {
            "text/plain": [
              "0.2691162790697675"
            ]
          },
          "metadata": {},
          "execution_count": 57
        }
      ]
    },
    {
      "cell_type": "code",
      "source": [
        "from sklearn.metrics import ConfusionMatrixDisplay,confusion_matrix"
      ],
      "metadata": {
        "id": "WnB7K7w1KvNI"
      },
      "execution_count": 58,
      "outputs": []
    },
    {
      "cell_type": "code",
      "source": [
        "cm = confusion_matrix(true_pred1, predictions4)\n",
        "disp = ConfusionMatrixDisplay(confusion_matrix=cm)"
      ],
      "metadata": {
        "id": "JurlTpJdKuWr"
      },
      "execution_count": 59,
      "outputs": []
    },
    {
      "source": [
        "import seaborn as sns\n",
        "import matplotlib.pyplot as plt\n",
        "\n",
        "ax1= plt.subplot()\n",
        "sns.heatmap(cm, annot=True, fmt='g', ax=ax1);  #annot=True to annotate cells, ftm='g' to disable scientific notation\n",
        "\n",
        "# labels, title and ticks\n",
        "ax1.set_xlabel('Predicted labels');ax1.set_ylabel('True labels'); # Use ax1 instead of ax\n",
        "ax1.set_title('Confusion Matrix');\n",
        "# Adjust the number of tick labels to match the confusion matrix\n",
        "tick_labels = ['meningioma', 'no', 'pituitary', 'glioma', 'other'] # Add the appropriate label for the 5th class\n",
        "ax1.xaxis.set_ticklabels(tick_labels);\n",
        "ax1.yaxis.set_ticklabels(tick_labels);"
      ],
      "cell_type": "code",
      "metadata": {
        "colab": {
          "base_uri": "https://localhost:8080/",
          "height": 472
        },
        "id": "LEsHhTJtLVqn",
        "outputId": "6ffaa6e9-2927-44c4-e539-258410df56f4"
      },
      "execution_count": 60,
      "outputs": [
        {
          "output_type": "display_data",
          "data": {
            "text/plain": [
              "<Figure size 640x480 with 2 Axes>"
            ],
            "image/png": "[encoded data removed]"
          },
          "metadata": {}
        }
      ]
    },
    {
      "cell_type": "code",
      "source": [
        "from transformers import AutoImageProcessor, AutoModelForImageClassification\n",
        "\n",
        "processor4 = AutoImageProcessor.from_pretrained(\"Heem2/brain-tumor-classification\")\n",
        "model = AutoModelForImageClassification.from_pretrained(\"Heem2/brain-tumor-classification\")"
      ],
      "metadata": {
        "id": "5aAAWU5n89p8",
        "colab": {
          "base_uri": "https://localhost:8080/",
          "height": 113,
          "referenced_widgets": [
            "f4b4d194574d47c9b3e9dee9d1cf5ee0",
            "15f9106a06a64ebb9ed766eae0759e37",
            "c297fadc6c8a49c18da800ed43625aa5",
            "095f7bbe666c4021a761d72c347b84b6",
            "380437f2708a4cf480812afc37a03e70",
            "5b7b0e35fddd4842af89cd3b505d6b3f",
            "396291fc272642bbb53318901a801851",
            "2fcca84dc5ca41778c4cf47fe12adccb",
            "c71f0d8b05d440438341ca5a95294f98",
            "71c8a745433e4f7e8802888494a1a6fb",
            "b2fdda40fbaf4b2eb7dd06d26e1c2883",
            "1e5c4421b14e42bb8e8112d24abface0",
            "9bbd6515801148e98019afee5b3aa9f6",
            "e8499199f0064f12bd8aa39f09d4944d",
            "fde1b15d166143ac86f1e3f0d0ceb40b",
            "09d24db993ac43829b9b869c17f42fc0",
            "85ab1dcfe50f48d7ad7db49582676ec0",
            "35e888eae4db4b7b8735755036611730",
            "6b969d4a20bc4415b68045498d1bef31",
            "00a1c23d37024e7088e1e244d05a6861",
            "933042de9d784a5492fc11b41b8ec1bb",
            "d702b74dfbc2489e996921e35666cf8d",
            "fb301e168071480faf2a62e0653c3a6f",
            "5a6184014f084f46added9f8d24b8674",
            "81669b6aa3b641138752ce75f75846ab",
            "cc3102a6197d4409baf508dccd8b97ab",
            "b44ef00f9a6542e6863b68f3585f5223",
            "4056bc30a3dd45709b2e5d9ceb7c6424",
            "5aa26e4ae35644fe888fb90fbac6adbb",
            "b9ca748602304268bfbdbdbcf7db3786",
            "a3f918b1fc6745d59d6486f0a8fd544e",
            "ab5daca68ed64a508db297b81d59b629",
            "f7853d2c0395463ead3a1c7072123a39"
          ]
        },
        "outputId": "9c0ad1a6-f5ec-4832-aed7-ac7277f9304b"
      },
      "execution_count": 61,
      "outputs": [
        {
          "output_type": "display_data",
          "data": {
            "text/plain": [
              "preprocessor_config.json:   0%|          | 0.00/325 [00:00<?, ?B/s]"
            ],
            "application/vnd.jupyter.widget-view+json": {
              "version_major": 2,
              "version_minor": 0,
              "model_id": "f4b4d194574d47c9b3e9dee9d1cf5ee0"
            }
          },
          "metadata": {}
        },
        {
          "output_type": "display_data",
          "data": {
            "text/plain": [
              "config.json:   0%|          | 0.00/823 [00:00<?, ?B/s]"
            ],
            "application/vnd.jupyter.widget-view+json": {
              "version_major": 2,
              "version_minor": 0,
              "model_id": "1e5c4421b14e42bb8e8112d24abface0"
            }
          },
          "metadata": {}
        },
        {
          "output_type": "display_data",
          "data": {
            "text/plain": [
              "model.safetensors:   0%|          | 0.00/343M [00:00<?, ?B/s]"
            ],
            "application/vnd.jupyter.widget-view+json": {
              "version_major": 2,
              "version_minor": 0,
              "model_id": "fb301e168071480faf2a62e0653c3a6f"
            }
          },
          "metadata": {}
        }
      ]
    },
    {
      "cell_type": "code",
      "source": [
        "image = Image.open(\"/content/drive/MyDrive/MRI/brain_mri/brain_mri/Tr-pi_1373.jpg\").convert('RGB')\n",
        "inputs2 = processor4(images=image, return_tensors=\"pt\")"
      ],
      "metadata": {
        "id": "bKjWdggq9nLc"
      },
      "execution_count": 62,
      "outputs": []
    },
    {
      "cell_type": "code",
      "source": [
        "with torch.no_grad():\n",
        "    logits = model(**inputs2).logits\n",
        "predicted_label = logits.argmax(-1).item()\n",
        "print(model.config.id2label[predicted_label])"
      ],
      "metadata": {
        "colab": {
          "base_uri": "https://localhost:8080/"
        },
        "id": "_pRxXGr89gwc",
        "outputId": "4eda230d-cbf0-4c96-e14b-9e6f8d1c3b55"
      },
      "execution_count": 63,
      "outputs": [
        {
          "output_type": "stream",
          "name": "stdout",
          "text": [
            "pituitary\n"
          ]
        }
      ]
    },
    {
      "cell_type": "code",
      "source": [
        "def predictModel5(input):\n",
        "  with torch.no_grad():\n",
        "      logits = model(**input).logits\n",
        "  predicted_label = logits.argmax(-1).item()\n",
        "  return model.config.id2label[predicted_label]"
      ],
      "metadata": {
        "id": "Zh0RWBo49UBb"
      },
      "execution_count": 64,
      "outputs": []
    },
    {
      "cell_type": "code",
      "source": [
        "import os\n",
        "from PIL import Image\n",
        "\n",
        "true_pred5 = []\n",
        "image_dir = \"/content/drive/MyDrive/MRI/brain_mri/brain_mri\"  # Define the directory containing the images\n",
        "\n",
        "for img in os.listdir(image_dir):\n",
        "  image_path = os.path.join(image_dir, img)  # Construct the full path to the image\n",
        "  if \"me\" in image_path:\n",
        "    true_pred5.append(\"meningioma\")\n",
        "  elif \"no\" in image_path:\n",
        "    true_pred5.append(\"notumor\")\n",
        "  elif \"pi\" in image_path:\n",
        "    true_pred5.append(\"pituitary\")\n",
        "  elif \"gl\" in image_path:\n",
        "    true_pred5.append(\"glioma\")"
      ],
      "metadata": {
        "id": "cuuK7_6N-LFT"
      },
      "execution_count": 65,
      "outputs": []
    },
    {
      "cell_type": "code",
      "source": [
        "import os\n",
        "from PIL import Image\n",
        "\n",
        "predictions5 = []\n",
        "image_dir = \"/content/drive/MyDrive/MRI/brain_mri/brain_mri\"\n",
        "\n",
        "for img in os.listdir(image_dir):\n",
        "  image_path = os.path.join(image_dir, img)\n",
        "  image = Image.open(image_path)\n",
        "  image = image.resize((244, 244)).convert('RGB')\n",
        "  input = processor4(images=image, return_tensors=\"pt\")\n",
        "  predictions5.append(predictModel5(input))"
      ],
      "metadata": {
        "id": "YWLJJpOn-LRt"
      },
      "execution_count": 66,
      "outputs": []
    },
    {
      "cell_type": "code",
      "source": [
        "predictions5"
      ],
      "metadata": {
        "colab": {
          "base_uri": "https://localhost:8080/"
        },
        "id": "bvlhOZ2T-LUE",
        "outputId": "819470b7-ab45-44c1-e2c3-cc01c96165b1"
      },
      "execution_count": 67,
      "outputs": [
        {
          "output_type": "execute_result",
          "data": {
            "text/plain": [
              "['glioma',\n",
              " 'glioma',\n",
              " 'glioma',\n",
              " 'glioma',\n",
              " 'glioma',\n",
              " 'glioma',\n",
              " 'glioma',\n",
              " 'meningioma',\n",
              " 'glioma',\n",
              " 'glioma',\n",
              " 'glioma',\n",
              " 'glioma',\n",
              " 'meningioma',\n",
              " 'meningioma',\n",
              " 'meningioma',\n",
              " 'meningioma',\n",
              " 'meningioma',\n",
              " 'meningioma',\n",
              " 'meningioma',\n",
              " 'meningioma',\n",
              " 'glioma',\n",
              " 'glioma',\n",
              " 'glioma',\n",
              " 'glioma',\n",
              " 'meningioma',\n",
              " 'meningioma',\n",
              " 'notumor',\n",
              " 'notumor',\n",
              " 'notumor',\n",
              " 'notumor',\n",
              " 'notumor',\n",
              " 'notumor',\n",
              " 'notumor',\n",
              " 'notumor',\n",
              " 'notumor',\n",
              " 'notumor',\n",
              " 'notumor',\n",
              " 'notumor',\n",
              " 'notumor',\n",
              " 'notumor',\n",
              " 'notumor',\n",
              " 'notumor',\n",
              " 'notumor',\n",
              " 'notumor',\n",
              " 'notumor',\n",
              " 'notumor',\n",
              " 'notumor',\n",
              " 'notumor',\n",
              " 'notumor',\n",
              " 'notumor',\n",
              " 'notumor',\n",
              " 'notumor',\n",
              " 'notumor',\n",
              " 'notumor',\n",
              " 'notumor',\n",
              " 'notumor',\n",
              " 'notumor',\n",
              " 'notumor',\n",
              " 'notumor',\n",
              " 'notumor',\n",
              " 'notumor',\n",
              " 'notumor',\n",
              " 'notumor',\n",
              " 'notumor',\n",
              " 'notumor',\n",
              " 'notumor',\n",
              " 'notumor',\n",
              " 'notumor',\n",
              " 'notumor',\n",
              " 'notumor',\n",
              " 'notumor',\n",
              " 'notumor',\n",
              " 'notumor',\n",
              " 'notumor',\n",
              " 'notumor',\n",
              " 'notumor',\n",
              " 'notumor',\n",
              " 'notumor',\n",
              " 'notumor',\n",
              " 'pituitary',\n",
              " 'pituitary',\n",
              " 'pituitary',\n",
              " 'pituitary',\n",
              " 'pituitary',\n",
              " 'pituitary',\n",
              " 'pituitary',\n",
              " 'pituitary',\n",
              " 'pituitary',\n",
              " 'pituitary',\n",
              " 'pituitary',\n",
              " 'pituitary',\n",
              " 'pituitary',\n",
              " 'pituitary',\n",
              " 'pituitary',\n",
              " 'pituitary',\n",
              " 'pituitary',\n",
              " 'pituitary',\n",
              " 'pituitary',\n",
              " 'pituitary',\n",
              " 'pituitary']"
            ]
          },
          "metadata": {},
          "execution_count": 67
        }
      ]
    },
    {
      "cell_type": "code",
      "source": [
        "from sklearn.metrics import accuracy_score,precision_score,recall_score,f1_score,confusion_matrix"
      ],
      "metadata": {
        "id": "buYicbf-_Txh"
      },
      "execution_count": 68,
      "outputs": []
    },
    {
      "cell_type": "code",
      "source": [
        "accu_score5 = accuracy_score(true_pred5, predictions5)"
      ],
      "metadata": {
        "id": "6rptwLUB_YCM"
      },
      "execution_count": 69,
      "outputs": []
    },
    {
      "cell_type": "code",
      "source": [
        "accu_score5"
      ],
      "metadata": {
        "colab": {
          "base_uri": "https://localhost:8080/"
        },
        "id": "WyJcjcUz_Zos",
        "outputId": "d21d6630-b1bd-4a74-c11f-0774df082eba"
      },
      "execution_count": 70,
      "outputs": [
        {
          "output_type": "execute_result",
          "data": {
            "text/plain": [
              "0.99"
            ]
          },
          "metadata": {},
          "execution_count": 70
        }
      ]
    },
    {
      "cell_type": "code",
      "source": [
        "precision5 = precision_score(true_pred5, predictions5, average='weighted')"
      ],
      "metadata": {
        "id": "nG2yJaKq_a8l"
      },
      "execution_count": 71,
      "outputs": []
    },
    {
      "cell_type": "code",
      "source": [
        "precision5"
      ],
      "metadata": {
        "colab": {
          "base_uri": "https://localhost:8080/"
        },
        "id": "hcoSCwXq_ceC",
        "outputId": "c9184c19-a70c-44d0-b3a5-0af1ec009a84"
      },
      "execution_count": 72,
      "outputs": [
        {
          "output_type": "execute_result",
          "data": {
            "text/plain": [
              "0.990909090909091"
            ]
          },
          "metadata": {},
          "execution_count": 72
        }
      ]
    },
    {
      "cell_type": "code",
      "source": [
        "recall5 = recall_score(true_pred5, predictions5, average='macro')"
      ],
      "metadata": {
        "id": "Tczj4hW0_dK-"
      },
      "execution_count": 73,
      "outputs": []
    },
    {
      "cell_type": "code",
      "source": [
        "recall5"
      ],
      "metadata": {
        "colab": {
          "base_uri": "https://localhost:8080/"
        },
        "id": "AXgeeGZN_g7Y",
        "outputId": "dc06392e-ef05-40be-b242-c718a9e35029"
      },
      "execution_count": 74,
      "outputs": [
        {
          "output_type": "execute_result",
          "data": {
            "text/plain": [
              "0.984375"
            ]
          },
          "metadata": {},
          "execution_count": 74
        }
      ]
    },
    {
      "cell_type": "code",
      "source": [
        "f1_score5 = f1_score(true_pred5, predictions5, average='weighted')"
      ],
      "metadata": {
        "id": "knIxvesT_hmP"
      },
      "execution_count": 75,
      "outputs": []
    },
    {
      "cell_type": "code",
      "source": [
        "f1_score5"
      ],
      "metadata": {
        "colab": {
          "base_uri": "https://localhost:8080/"
        },
        "id": "GnB1gpvt_jiL",
        "outputId": "257d3e30-28a4-48ea-ef8e-61cf638c5c09"
      },
      "execution_count": 76,
      "outputs": [
        {
          "output_type": "execute_result",
          "data": {
            "text/plain": [
              "0.9900768049155146"
            ]
          },
          "metadata": {},
          "execution_count": 76
        }
      ]
    },
    {
      "cell_type": "code",
      "source": [
        "import seaborn as sns\n",
        "import matplotlib.pyplot as plt\n",
        "\n",
        "ax= plt.subplot()\n",
        "sns.heatmap(cm, annot=True, fmt='g', ax=ax);\n",
        "\n",
        "\n",
        "ax.set_xlabel('Predicted labels');ax.set_ylabel('True labels');\n",
        "ax.set_title('Confusion Matrix');\n",
        "\n",
        "\n",
        "ax.xaxis.set_ticklabels(['meningioma','no','pituitary','glioma', 'other']);\n",
        "ax.yaxis.set_ticklabels(['meningioma','no','pituitary','glioma', 'other']);"
      ],
      "metadata": {
        "id": "PVcPKeiz_lDh",
        "colab": {
          "base_uri": "https://localhost:8080/",
          "height": 472
        },
        "outputId": "39e3f4ac-0e6d-4f9d-866f-ac1ce6c2fe53"
      },
      "execution_count": 79,
      "outputs": [
        {
          "output_type": "display_data",
          "data": {
            "text/plain": [
              "<Figure size 640x480 with 2 Axes>"
            ],
            "image/png": "[encoded data removed]"
          },
          "metadata": {}
        }
      ]
    }
  ]
}