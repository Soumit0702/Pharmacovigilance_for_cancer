{
  "cells": [
    {
      "cell_type": "code",
      "execution_count": null,
      "metadata": {
        "colab": {
          "base_uri": "https://localhost:8080/"
        },
        "id": "toMcoxFI2Ekv",
        "outputId": "f6968ab0-1a12-4e36-f9c2-031e4154a9cb"
      },
      "outputs": [
        {
          "output_type": "stream",
          "name": "stdout",
          "text": [
            "Collecting pypdf\n",
            "  Downloading pypdf-4.3.1-py3-none-any.whl.metadata (7.4 kB)\n",
            "Requirement already satisfied: typing_extensions>=4.0 in /usr/local/lib/python3.10/dist-packages (from pypdf) (4.12.2)\n",
            "Downloading pypdf-4.3.1-py3-none-any.whl (295 kB)\n",
            "\u001b[?25l   \u001b[90m━━━━━━━━━━━━━━━━━━━━━━━━━━━━━━━━━━━━━━━━\u001b[0m \u001b[32m0.0/295.8 kB\u001b[0m \u001b[31m?\u001b[0m eta \u001b[36m-:--:--\u001b[0m\r\u001b[2K   \u001b[90m━━━━━━━━━━━━━━━━━━━━━━━━━━━━━━━━━━━━━━━━\u001b[0m \u001b[32m295.8/295.8 kB\u001b[0m \u001b[31m17.3 MB/s\u001b[0m eta \u001b[36m0:00:00\u001b[0m\n",
            "\u001b[?25hInstalling collected packages: pypdf\n",
            "Successfully installed pypdf-4.3.1\n"
          ]
        }
      ],
      "source": [
        "!pip install pypdf"
      ]
    },
    {
      "cell_type": "code",
      "execution_count": null,
      "metadata": {
        "id": "dGoD7hCP19Je"
      },
      "outputs": [],
      "source": [
        "from pypdf import PdfReader"
      ]
    },
    {
      "cell_type": "code",
      "execution_count": null,
      "metadata": {
        "id": "tZViGdaY3Vyx"
      },
      "outputs": [],
      "source": [
        "reader = PdfReader('/content/Acoustic Findings in a Patient with Radiation Pneumonitis-merged.pdf')"
      ]
    },
    {
      "cell_type": "code",
      "execution_count": null,
      "metadata": {
        "colab": {
          "base_uri": "https://localhost:8080/"
        },
        "id": "qtPRjimK6KrE",
        "outputId": "e1afe941-4d94-4c1e-d236-d53196da60c5"
      },
      "outputs": [
        {
          "output_type": "execute_result",
          "data": {
            "text/plain": [
              "3"
            ]
          },
          "metadata": {},
          "execution_count": 4
        }
      ],
      "source": [
        "len(reader.pages)"
      ]
    },
    {
      "cell_type": "code",
      "execution_count": null,
      "metadata": {
        "id": "EKCf8ooj6nq4",
        "colab": {
          "base_uri": "https://localhost:8080/"
        },
        "outputId": "1564b002-8005-45d0-ab6f-76ebf37584aa"
      },
      "outputs": [
        {
          "output_type": "stream",
          "name": "stdout",
          "text": [
            "Collecting pymupdf\n",
            "  Downloading PyMuPDF-1.24.9-cp310-none-manylinux2014_x86_64.whl.metadata (3.4 kB)\n",
            "Collecting PyMuPDFb==1.24.9 (from pymupdf)\n",
            "  Downloading PyMuPDFb-1.24.9-py3-none-manylinux2014_x86_64.manylinux_2_17_x86_64.whl.metadata (1.4 kB)\n",
            "Downloading PyMuPDF-1.24.9-cp310-none-manylinux2014_x86_64.whl (3.5 MB)\n",
            "\u001b[2K   \u001b[90m━━━━━━━━━━━━━━━━━━━━━━━━━━━━━━━━━━━━━━━━\u001b[0m \u001b[32m3.5/3.5 MB\u001b[0m \u001b[31m70.7 MB/s\u001b[0m eta \u001b[36m0:00:00\u001b[0m\n",
            "\u001b[?25hDownloading PyMuPDFb-1.24.9-py3-none-manylinux2014_x86_64.manylinux_2_17_x86_64.whl (15.9 MB)\n",
            "\u001b[2K   \u001b[90m━━━━━━━━━━━━━━━━━━━━━━━━━━━━━━━━━━━━━━━━\u001b[0m \u001b[32m15.9/15.9 MB\u001b[0m \u001b[31m77.1 MB/s\u001b[0m eta \u001b[36m0:00:00\u001b[0m\n",
            "\u001b[?25hInstalling collected packages: PyMuPDFb, pymupdf\n",
            "Successfully installed PyMuPDFb-1.24.9 pymupdf-1.24.9\n"
          ]
        }
      ],
      "source": [
        "!pip install pymupdf\n"
      ]
    },
    {
      "cell_type": "code",
      "source": [
        "!mkdir /content/images_New1_disease\n",
        "\n",
        "import fitz\n",
        "import io\n",
        "from PIL import Image\n",
        "\n",
        "def extract_images_from_pdf(pdf_path, output_dir):\n",
        "    doc = fitz.open(pdf_path)\n",
        "    for page_number in range(len(doc)):\n",
        "        page = doc.load_page(page_number)\n",
        "        image_list = page.get_images(full=True)\n",
        "\n",
        "        for img_index, image in enumerate(image_list):\n",
        "            xref = image[0]\n",
        "            base_image = doc.extract_image(xref)\n",
        "            image_bytes = base_image[\"image\"]\n",
        "            image_filename = f\"{output_dir}/{page_number + 1}_{img_index + 1}.jpg\"\n",
        "\n",
        "            with open(image_filename, \"wb\") as img_file:\n",
        "                img_file.write(image_bytes)\n",
        "            print(f\"Saved image {image_filename}\")\n",
        "\n",
        "pdf_path = '/content/Acoustic Findings in a Patient with Radiation Pneumonitis-merged.pdf'\n",
        "output_dir = '/content/images_New1_disease'\n",
        "\n",
        "extract_images_from_pdf(pdf_path, output_dir)"
      ],
      "metadata": {
        "colab": {
          "base_uri": "https://localhost:8080/"
        },
        "id": "f5Cqln7laYwZ",
        "outputId": "5de145da-bd28-4778-c618-fa027d581b60"
      },
      "execution_count": null,
      "outputs": [
        {
          "output_type": "stream",
          "name": "stdout",
          "text": [
            "Saved image /content/images_New1_disease/1_1.jpg\n",
            "Saved image /content/images_New1_disease/2_1.jpg\n",
            "Saved image /content/images_New1_disease/2_2.jpg\n",
            "Saved image /content/images_New1_disease/3_1.jpg\n",
            "Saved image /content/images_New1_disease/3_2.jpg\n",
            "Saved image /content/images_New1_disease/4_1.jpg\n",
            "Saved image /content/images_New1_disease/4_2.jpg\n",
            "Saved image /content/images_New1_disease/5_1.jpg\n",
            "Saved image /content/images_New1_disease/5_2.jpg\n",
            "Saved image /content/images_New1_disease/5_3.jpg\n",
            "Saved image /content/images_New1_disease/6_1.jpg\n",
            "Saved image /content/images_New1_disease/6_2.jpg\n",
            "Saved image /content/images_New1_disease/7_1.jpg\n",
            "Saved image /content/images_New1_disease/7_2.jpg\n",
            "Saved image /content/images_New1_disease/8_1.jpg\n",
            "Saved image /content/images_New1_disease/8_2.jpg\n",
            "Saved image /content/images_New1_disease/9_1.jpg\n",
            "Saved image /content/images_New1_disease/9_2.jpg\n",
            "Saved image /content/images_New1_disease/10_1.jpg\n",
            "Saved image /content/images_New1_disease/10_2.jpg\n",
            "Saved image /content/images_New1_disease/11_1.jpg\n",
            "Saved image /content/images_New1_disease/11_2.jpg\n",
            "Saved image /content/images_New1_disease/12_1.jpg\n",
            "Saved image /content/images_New1_disease/12_2.jpg\n",
            "Saved image /content/images_New1_disease/13_1.jpg\n",
            "Saved image /content/images_New1_disease/13_2.jpg\n",
            "Saved image /content/images_New1_disease/14_1.jpg\n",
            "Saved image /content/images_New1_disease/14_2.jpg\n",
            "Saved image /content/images_New1_disease/16_1.jpg\n",
            "Saved image /content/images_New1_disease/16_2.jpg\n",
            "Saved image /content/images_New1_disease/17_1.jpg\n",
            "Saved image /content/images_New1_disease/17_2.jpg\n",
            "Saved image /content/images_New1_disease/18_1.jpg\n",
            "Saved image /content/images_New1_disease/18_2.jpg\n",
            "Saved image /content/images_New1_disease/19_1.jpg\n",
            "Saved image /content/images_New1_disease/23_1.jpg\n",
            "Saved image /content/images_New1_disease/23_2.jpg\n",
            "Saved image /content/images_New1_disease/23_3.jpg\n",
            "Saved image /content/images_New1_disease/24_1.jpg\n",
            "Saved image /content/images_New1_disease/24_2.jpg\n",
            "Saved image /content/images_New1_disease/25_1.jpg\n",
            "Saved image /content/images_New1_disease/25_2.jpg\n",
            "Saved image /content/images_New1_disease/25_3.jpg\n",
            "Saved image /content/images_New1_disease/26_1.jpg\n",
            "Saved image /content/images_New1_disease/26_2.jpg\n",
            "Saved image /content/images_New1_disease/27_1.jpg\n",
            "Saved image /content/images_New1_disease/27_2.jpg\n",
            "Saved image /content/images_New1_disease/28_1.jpg\n",
            "Saved image /content/images_New1_disease/28_2.jpg\n",
            "Saved image /content/images_New1_disease/31_1.jpg\n",
            "Saved image /content/images_New1_disease/31_2.jpg\n",
            "Saved image /content/images_New1_disease/32_1.jpg\n",
            "Saved image /content/images_New1_disease/32_2.jpg\n",
            "MuPDF error: syntax error: ICC profile (N=3) is not Gray\n",
            "\n",
            "Saved image /content/images_New1_disease/33_1.jpg\n",
            "Saved image /content/images_New1_disease/33_2.jpg\n",
            "Saved image /content/images_New1_disease/33_3.jpg\n",
            "Saved image /content/images_New1_disease/34_1.jpg\n",
            "Saved image /content/images_New1_disease/34_2.jpg\n",
            "Saved image /content/images_New1_disease/34_3.jpg\n",
            "Saved image /content/images_New1_disease/35_1.jpg\n",
            "Saved image /content/images_New1_disease/35_2.jpg\n",
            "Saved image /content/images_New1_disease/35_3.jpg\n",
            "Saved image /content/images_New1_disease/36_1.jpg\n",
            "Saved image /content/images_New1_disease/36_2.jpg\n",
            "Saved image /content/images_New1_disease/37_1.jpg\n",
            "Saved image /content/images_New1_disease/38_1.jpg\n",
            "Saved image /content/images_New1_disease/38_2.jpg\n",
            "Saved image /content/images_New1_disease/38_3.jpg\n",
            "Saved image /content/images_New1_disease/39_1.jpg\n",
            "Saved image /content/images_New1_disease/39_2.jpg\n",
            "Saved image /content/images_New1_disease/40_1.jpg\n",
            "Saved image /content/images_New1_disease/41_1.jpg\n",
            "Saved image /content/images_New1_disease/41_2.jpg\n",
            "Saved image /content/images_New1_disease/42_1.jpg\n",
            "Saved image /content/images_New1_disease/42_2.jpg\n",
            "Saved image /content/images_New1_disease/43_1.jpg\n",
            "Saved image /content/images_New1_disease/43_2.jpg\n",
            "Saved image /content/images_New1_disease/44_1.jpg\n",
            "Saved image /content/images_New1_disease/44_2.jpg\n",
            "Saved image /content/images_New1_disease/45_1.jpg\n",
            "Saved image /content/images_New1_disease/46_1.jpg\n",
            "Saved image /content/images_New1_disease/46_2.jpg\n",
            "Saved image /content/images_New1_disease/46_3.jpg\n",
            "Saved image /content/images_New1_disease/47_1.jpg\n",
            "Saved image /content/images_New1_disease/47_2.jpg\n",
            "Saved image /content/images_New1_disease/47_3.jpg\n",
            "Saved image /content/images_New1_disease/48_1.jpg\n",
            "Saved image /content/images_New1_disease/48_2.jpg\n",
            "Saved image /content/images_New1_disease/50_1.jpg\n",
            "Saved image /content/images_New1_disease/51_1.jpg\n",
            "Saved image /content/images_New1_disease/51_2.jpg\n",
            "Saved image /content/images_New1_disease/51_3.jpg\n",
            "Saved image /content/images_New1_disease/52_1.jpg\n",
            "Saved image /content/images_New1_disease/52_2.jpg\n",
            "Saved image /content/images_New1_disease/53_1.jpg\n",
            "Saved image /content/images_New1_disease/53_2.jpg\n",
            "Saved image /content/images_New1_disease/54_1.jpg\n",
            "Saved image /content/images_New1_disease/54_2.jpg\n",
            "Saved image /content/images_New1_disease/55_1.jpg\n",
            "Saved image /content/images_New1_disease/55_2.jpg\n",
            "Saved image /content/images_New1_disease/56_1.jpg\n",
            "Saved image /content/images_New1_disease/56_2.jpg\n",
            "Saved image /content/images_New1_disease/57_1.jpg\n",
            "Saved image /content/images_New1_disease/57_2.jpg\n",
            "Saved image /content/images_New1_disease/58_1.jpg\n",
            "Saved image /content/images_New1_disease/58_2.jpg\n",
            "Saved image /content/images_New1_disease/59_1.jpg\n",
            "Saved image /content/images_New1_disease/60_1.jpg\n"
          ]
        }
      ]
    },
    {
      "cell_type": "code",
      "source": [
        "!pip install fitz\n",
        "!pip install PyMuPDF"
      ],
      "metadata": {
        "colab": {
          "base_uri": "https://localhost:8080/"
        },
        "id": "n0tmSlTnGmX6",
        "outputId": "1f1d714e-9d45-4d1a-f7da-bda40e96b729"
      },
      "execution_count": null,
      "outputs": [
        {
          "output_type": "stream",
          "name": "stdout",
          "text": [
            "Collecting fitz\n",
            "  Downloading fitz-0.0.1.dev2-py2.py3-none-any.whl.metadata (816 bytes)\n",
            "Collecting configobj (from fitz)\n",
            "  Downloading configobj-5.0.8-py2.py3-none-any.whl.metadata (3.4 kB)\n",
            "Collecting configparser (from fitz)\n",
            "  Downloading configparser-7.1.0-py3-none-any.whl.metadata (5.4 kB)\n",
            "Requirement already satisfied: httplib2 in /usr/local/lib/python3.10/dist-packages (from fitz) (0.22.0)\n",
            "Requirement already satisfied: nibabel in /usr/local/lib/python3.10/dist-packages (from fitz) (5.0.1)\n",
            "Collecting nipype (from fitz)\n",
            "  Downloading nipype-1.8.6-py3-none-any.whl.metadata (6.6 kB)\n",
            "Requirement already satisfied: numpy in /usr/local/lib/python3.10/dist-packages (from fitz) (1.26.4)\n",
            "Requirement already satisfied: pandas in /usr/local/lib/python3.10/dist-packages (from fitz) (2.1.4)\n",
            "Collecting pyxnat (from fitz)\n",
            "  Downloading pyxnat-1.6.2-py3-none-any.whl.metadata (5.3 kB)\n",
            "Requirement already satisfied: scipy in /usr/local/lib/python3.10/dist-packages (from fitz) (1.13.1)\n",
            "Requirement already satisfied: six in /usr/local/lib/python3.10/dist-packages (from configobj->fitz) (1.16.0)\n",
            "Requirement already satisfied: pyparsing!=3.0.0,!=3.0.1,!=3.0.2,!=3.0.3,<4,>=2.4.2 in /usr/local/lib/python3.10/dist-packages (from httplib2->fitz) (3.1.2)\n",
            "Requirement already satisfied: packaging>=17 in /usr/local/lib/python3.10/dist-packages (from nibabel->fitz) (24.1)\n",
            "Requirement already satisfied: setuptools in /usr/local/lib/python3.10/dist-packages (from nibabel->fitz) (71.0.4)\n",
            "Requirement already satisfied: click>=6.6.0 in /usr/local/lib/python3.10/dist-packages (from nipype->fitz) (8.1.7)\n",
            "Requirement already satisfied: networkx>=2.0 in /usr/local/lib/python3.10/dist-packages (from nipype->fitz) (3.3)\n",
            "Collecting prov>=1.5.2 (from nipype->fitz)\n",
            "  Downloading prov-2.0.1-py3-none-any.whl.metadata (3.6 kB)\n",
            "Requirement already satisfied: pydot>=1.2.3 in /usr/local/lib/python3.10/dist-packages (from nipype->fitz) (1.4.2)\n",
            "Requirement already satisfied: python-dateutil>=2.2 in /usr/local/lib/python3.10/dist-packages (from nipype->fitz) (2.8.2)\n",
            "Collecting rdflib>=5.0.0 (from nipype->fitz)\n",
            "  Downloading rdflib-7.0.0-py3-none-any.whl.metadata (11 kB)\n",
            "Collecting simplejson>=3.8.0 (from nipype->fitz)\n",
            "  Downloading simplejson-3.19.3-cp310-cp310-manylinux_2_5_x86_64.manylinux1_x86_64.manylinux_2_17_x86_64.manylinux2014_x86_64.whl.metadata (3.2 kB)\n",
            "Collecting traits!=5.0,<6.4,>=4.6 (from nipype->fitz)\n",
            "  Downloading traits-6.3.2-cp310-cp310-manylinux_2_5_x86_64.manylinux1_x86_64.manylinux_2_12_x86_64.manylinux2010_x86_64.whl.metadata (4.9 kB)\n",
            "Requirement already satisfied: filelock>=3.0.0 in /usr/local/lib/python3.10/dist-packages (from nipype->fitz) (3.15.4)\n",
            "Collecting etelemetry>=0.2.0 (from nipype->fitz)\n",
            "  Downloading etelemetry-0.3.1-py3-none-any.whl.metadata (3.2 kB)\n",
            "Collecting looseversion (from nipype->fitz)\n",
            "  Downloading looseversion-1.3.0-py2.py3-none-any.whl.metadata (4.6 kB)\n",
            "Requirement already satisfied: pytz>=2020.1 in /usr/local/lib/python3.10/dist-packages (from pandas->fitz) (2024.1)\n",
            "Requirement already satisfied: tzdata>=2022.1 in /usr/local/lib/python3.10/dist-packages (from pandas->fitz) (2024.1)\n",
            "Requirement already satisfied: lxml>=4.3 in /usr/local/lib/python3.10/dist-packages (from pyxnat->fitz) (4.9.4)\n",
            "Requirement already satisfied: requests>=2.20 in /usr/local/lib/python3.10/dist-packages (from pyxnat->fitz) (2.32.3)\n",
            "Requirement already satisfied: pathlib>=1.0 in /usr/local/lib/python3.10/dist-packages (from pyxnat->fitz) (1.0.1)\n",
            "Collecting ci-info>=0.2 (from etelemetry>=0.2.0->nipype->fitz)\n",
            "  Downloading ci_info-0.3.0-py3-none-any.whl.metadata (6.1 kB)\n",
            "Collecting rdflib>=5.0.0 (from nipype->fitz)\n",
            "  Downloading rdflib-6.3.2-py3-none-any.whl.metadata (11 kB)\n",
            "Collecting isodate<0.7.0,>=0.6.0 (from rdflib>=5.0.0->nipype->fitz)\n",
            "  Downloading isodate-0.6.1-py2.py3-none-any.whl.metadata (9.6 kB)\n",
            "Requirement already satisfied: charset-normalizer<4,>=2 in /usr/local/lib/python3.10/dist-packages (from requests>=2.20->pyxnat->fitz) (3.3.2)\n",
            "Requirement already satisfied: idna<4,>=2.5 in /usr/local/lib/python3.10/dist-packages (from requests>=2.20->pyxnat->fitz) (3.7)\n",
            "Requirement already satisfied: urllib3<3,>=1.21.1 in /usr/local/lib/python3.10/dist-packages (from requests>=2.20->pyxnat->fitz) (2.0.7)\n",
            "Requirement already satisfied: certifi>=2017.4.17 in /usr/local/lib/python3.10/dist-packages (from requests>=2.20->pyxnat->fitz) (2024.7.4)\n",
            "Downloading fitz-0.0.1.dev2-py2.py3-none-any.whl (20 kB)\n",
            "Downloading configobj-5.0.8-py2.py3-none-any.whl (36 kB)\n",
            "Downloading configparser-7.1.0-py3-none-any.whl (17 kB)\n",
            "Downloading nipype-1.8.6-py3-none-any.whl (3.2 MB)\n",
            "\u001b[2K   \u001b[90m━━━━━━━━━━━━━━━━━━━━━━━━━━━━━━━━━━━━━━━━\u001b[0m \u001b[32m3.2/3.2 MB\u001b[0m \u001b[31m87.4 MB/s\u001b[0m eta \u001b[36m0:00:00\u001b[0m\n",
            "\u001b[?25hDownloading pyxnat-1.6.2-py3-none-any.whl (95 kB)\n",
            "\u001b[2K   \u001b[90m━━━━━━━━━━━━━━━━━━━━━━━━━━━━━━━━━━━━━━━━\u001b[0m \u001b[32m95.6/95.6 kB\u001b[0m \u001b[31m9.1 MB/s\u001b[0m eta \u001b[36m0:00:00\u001b[0m\n",
            "\u001b[?25hDownloading etelemetry-0.3.1-py3-none-any.whl (6.4 kB)\n",
            "Downloading prov-2.0.1-py3-none-any.whl (421 kB)\n",
            "\u001b[2K   \u001b[90m━━━━━━━━━━━━━━━━━━━━━━━━━━━━━━━━━━━━━━━━\u001b[0m \u001b[32m421.5/421.5 kB\u001b[0m \u001b[31m33.8 MB/s\u001b[0m eta \u001b[36m0:00:00\u001b[0m\n",
            "\u001b[?25hDownloading rdflib-6.3.2-py3-none-any.whl (528 kB)\n",
            "\u001b[2K   \u001b[90m━━━━━━━━━━━━━━━━━━━━━━━━━━━━━━━━━━━━━━━━\u001b[0m \u001b[32m528.1/528.1 kB\u001b[0m \u001b[31m39.1 MB/s\u001b[0m eta \u001b[36m0:00:00\u001b[0m\n",
            "\u001b[?25hDownloading simplejson-3.19.3-cp310-cp310-manylinux_2_5_x86_64.manylinux1_x86_64.manylinux_2_17_x86_64.manylinux2014_x86_64.whl (137 kB)\n",
            "\u001b[2K   \u001b[90m━━━━━━━━━━━━━━━━━━━━━━━━━━━━━━━━━━━━━━━━\u001b[0m \u001b[32m137.9/137.9 kB\u001b[0m \u001b[31m14.3 MB/s\u001b[0m eta \u001b[36m0:00:00\u001b[0m\n",
            "\u001b[?25hDownloading traits-6.3.2-cp310-cp310-manylinux_2_5_x86_64.manylinux1_x86_64.manylinux_2_12_x86_64.manylinux2010_x86_64.whl (5.1 MB)\n",
            "\u001b[2K   \u001b[90m━━━━━━━━━━━━━━━━━━━━━━━━━━━━━━━━━━━━━━━━\u001b[0m \u001b[32m5.1/5.1 MB\u001b[0m \u001b[31m60.6 MB/s\u001b[0m eta \u001b[36m0:00:00\u001b[0m\n",
            "\u001b[?25hDownloading looseversion-1.3.0-py2.py3-none-any.whl (8.2 kB)\n",
            "Downloading ci_info-0.3.0-py3-none-any.whl (7.8 kB)\n",
            "Downloading isodate-0.6.1-py2.py3-none-any.whl (41 kB)\n",
            "\u001b[2K   \u001b[90m━━━━━━━━━━━━━━━━━━━━━━━━━━━━━━━━━━━━━━━━\u001b[0m \u001b[32m41.7/41.7 kB\u001b[0m \u001b[31m3.6 MB/s\u001b[0m eta \u001b[36m0:00:00\u001b[0m\n",
            "\u001b[?25hInstalling collected packages: looseversion, traits, simplejson, isodate, configparser, configobj, ci-info, rdflib, pyxnat, etelemetry, prov, nipype, fitz\n",
            "Successfully installed ci-info-0.3.0 configobj-5.0.8 configparser-7.1.0 etelemetry-0.3.1 fitz-0.0.1.dev2 isodate-0.6.1 looseversion-1.3.0 nipype-1.8.6 prov-2.0.1 pyxnat-1.6.2 rdflib-6.3.2 simplejson-3.19.3 traits-6.3.2\n",
            "Collecting PyMuPDF\n",
            "  Downloading PyMuPDF-1.24.9-cp310-none-manylinux2014_x86_64.whl.metadata (3.4 kB)\n",
            "Collecting PyMuPDFb==1.24.9 (from PyMuPDF)\n",
            "  Downloading PyMuPDFb-1.24.9-py3-none-manylinux2014_x86_64.manylinux_2_17_x86_64.whl.metadata (1.4 kB)\n",
            "Downloading PyMuPDF-1.24.9-cp310-none-manylinux2014_x86_64.whl (3.5 MB)\n",
            "\u001b[2K   \u001b[90m━━━━━━━━━━━━━━━━━━━━━━━━━━━━━━━━━━━━━━━━\u001b[0m \u001b[32m3.5/3.5 MB\u001b[0m \u001b[31m84.1 MB/s\u001b[0m eta \u001b[36m0:00:00\u001b[0m\n",
            "\u001b[?25hDownloading PyMuPDFb-1.24.9-py3-none-manylinux2014_x86_64.manylinux_2_17_x86_64.whl (15.9 MB)\n",
            "\u001b[2K   \u001b[90m━━━━━━━━━━━━━━━━━━━━━━━━━━━━━━━━━━━━━━━━\u001b[0m \u001b[32m15.9/15.9 MB\u001b[0m \u001b[31m102.3 MB/s\u001b[0m eta \u001b[36m0:00:00\u001b[0m\n",
            "\u001b[?25hInstalling collected packages: PyMuPDFb, PyMuPDF\n",
            "Successfully installed PyMuPDF-1.24.9 PyMuPDFb-1.24.9\n"
          ]
        }
      ]
    },
    {
      "cell_type": "code",
      "source": [
        "import fitz  # PyMuPDF\n",
        "from typing import List\n",
        "\n",
        "def extract_abstract_from_pdf(pdf_path: str, text_list: List[str]) -> None:\n",
        "    # Open the PDF file\n",
        "    doc = fitz.open(pdf_path)\n",
        "\n",
        "    abstract_text = \"\"\n",
        "    found_abstract = False\n",
        "\n",
        "    # Iterate through the pages\n",
        "    for page_num in range(len(doc)):\n",
        "        page = doc.load_page(page_num)  # Load page\n",
        "        text = page.get_text(\"text\")    # Extract text\n",
        "\n",
        "        # Split the text into lines for better processing\n",
        "        lines = text.splitlines()\n",
        "\n",
        "        for i, line in enumerate(lines):\n",
        "            # Check if the line contains the word \"Abstract\"\n",
        "            if \"Abstract\" in line:\n",
        "                found_abstract = True\n",
        "                abstract_text = line + \"\\n\"  # Start with the line containing \"Abstract\"\n",
        "\n",
        "                # Capture the following lines until the next heading\n",
        "                for following_line in lines[i+1:]:\n",
        "                    if any(heading in following_line for heading in [\"Introduction\", \"INTRODUCTION\", \"Methods\", \"METHODS\", \"Materials\", \"MATERIALS\", \"Conclusion\", \"CONCLUSION\", \"Keywords\", \"Key words\", \"Categories\", \"KEYWORDS\"]):\n",
        "                        found_abstract = False\n",
        "                        break\n",
        "                    abstract_text += following_line + \"\\n\"\n",
        "\n",
        "                break  # Exit after finding the abstract\n",
        "\n",
        "        if found_abstract:\n",
        "            break  # Exit if the abstract was found\n",
        "\n",
        "    doc.close()  # Close the document\n",
        "\n",
        "    if abstract_text:\n",
        "        print(\"Abstract found:\\n\")\n",
        "        print(abstract_text)\n",
        "        text_list.append(abstract_text.strip())  # Append to the list passed as argument\n",
        "    else:\n",
        "        print(\"Abstract not found in the document.\")\n",
        "\n",
        "# Example usage\n",
        "pdf_path = \"/content/Acoustic Findings in a Patient with Radiation Pneumonitis-merged.pdf\"\n",
        "text_list = []\n",
        "extract_abstract_from_pdf(pdf_path, text_list)  # Pass the list to the function\n",
        "\n",
        "# Verify the content of the text_list\n",
        "print(\"\\nText list content:\")\n",
        "print(text_list)\n"
      ],
      "metadata": {
        "colab": {
          "base_uri": "https://localhost:8080/"
        },
        "id": "khSzBo5NKdjb",
        "outputId": "cf41eaad-2d1f-402c-910e-27d5e78fa087"
      },
      "execution_count": null,
      "outputs": [
        {
          "output_type": "stream",
          "name": "stdout",
          "text": [
            "Abstract found:\n",
            "\n",
            "Abstract\n",
            "A 77-year-old woman presented to the hospital with shortness of breath and fever, 2 months after receiving radiation\n",
            "therapy to the right chest for breast cancer. A diagnosis of radiation pneumonitis was made, and the patient was treated\n",
            "with glucocorticoids. Serial chest radiography revealed irregular opacifications, predominantly in the right hemithorax\n",
            "(as seen on the third day after admission [Panel A] and the fifth day [Panel B]). The opacifications decreased markedly\n",
            "after treatment (as seen on day 72 [Panel C]). A lung-sound recorder was used for auscultation of 14 sites on the thorax.\n",
            "The results of the sound analysis are . . .\n",
            "This content is available to subscribers. Subscribe now. Already have an account? Sign in.\n",
            "\n",
            "Acoustic Findings in a Patient with Radiation Pneumonitis\n",
            "Authors: Raymond Murphy, M.D., D.Sc., M.P.H., and Andrey Vyshedskiy, Ph.D.\n",
            "Author Info & Affiliations\n",
            "\n",
            "IMAGES IN CLINICAL MEDICINE\n",
            "Published November 11, 2010\n",
            "N Engl J Med 2010;363: e31\n",
            "DOI: 10.1056/NEJMicm0803655\n",
            "VOL. 363 NO. 20\n",
            "\n",
            "\n",
            "\n",
            "\n",
            "\n",
            "\n",
            "\n",
            "\n",
            "\n",
            "\n",
            "Text list content:\n",
            "['Abstract\\nA 77-year-old woman presented to the hospital with shortness of breath and fever, 2 months after receiving radiation\\ntherapy to the right chest for breast cancer. A diagnosis of radiation pneumonitis was made, and the patient was treated\\nwith glucocorticoids. Serial chest radiography revealed irregular opacifications, predominantly in the right hemithorax\\n(as seen on the third day after admission [Panel A] and the fifth day [Panel B]). The opacifications decreased markedly\\nafter treatment (as seen on day 72 [Panel C]). A lung-sound recorder was used for auscultation of 14 sites on the thorax.\\nThe results of the sound analysis are .\\xa0.\\xa0.\\nThis content is available to subscribers. Subscribe now. Already have an account? Sign in.\\n\\ue914\\ue91d\\ue917\\ue919\\nAcoustic Findings in a Patient with Radiation Pneumonitis\\nAuthors: Raymond Murphy, M.D., D.Sc., M.P.H., and Andrey Vyshedskiy, Ph.D.\\nAuthor Info & Affiliations\\n\\ue927\\nIMAGES IN CLINICAL MEDICINE\\nPublished November 11, 2010\\nN Engl J Med 2010;363: e31\\nDOI: 10.1056/NEJMicm0803655\\nVOL. 363 NO. 20\\n\\ue947\\n\\ue937\\n\\ue938\\n\\ue94f\\n\\ue943\\n\\ue933\\n\\ue94c\\n\\ue949']\n"
          ]
        }
      ]
    },
    {
      "cell_type": "code",
      "source": [
        "def remove_newlines(text_list: List) -> str:\n",
        "  text = \"\"\n",
        "  text = \"\".join(text_list)\n",
        "  return text"
      ],
      "metadata": {
        "id": "ukaAisnImoiz"
      },
      "execution_count": null,
      "outputs": []
    },
    {
      "cell_type": "code",
      "source": [
        "txt = remove_newlines(text_list)"
      ],
      "metadata": {
        "id": "n6d5fkU5mxLg"
      },
      "execution_count": null,
      "outputs": []
    },
    {
      "cell_type": "code",
      "source": [
        "txt1 = txt.replace(\"\\n\",\" \")"
      ],
      "metadata": {
        "id": "Cy3SoKOAmyxQ"
      },
      "execution_count": null,
      "outputs": []
    },
    {
      "cell_type": "code",
      "source": [
        "txt1"
      ],
      "metadata": {
        "id": "wpwx3IRkm0h4",
        "colab": {
          "base_uri": "https://localhost:8080/",
          "height": 191
        },
        "outputId": "eb072cad-7075-475f-bc6a-b423d5b5ea3f"
      },
      "execution_count": null,
      "outputs": [
        {
          "output_type": "execute_result",
          "data": {
            "text/plain": [
              "'Abstract A 77-year-old woman presented to the hospital with shortness of breath and fever, 2 months after receiving radiation therapy to the right chest for breast cancer. A diagnosis of radiation pneumonitis was made, and the patient was treated with glucocorticoids. Serial chest radiography revealed irregular opacifications, predominantly in the right hemithorax (as seen on the third day after admission [Panel A] and the fifth day [Panel B]). The opacifications decreased markedly after treatment (as seen on day 72 [Panel C]). A lung-sound recorder was used for auscultation of 14 sites on the thorax. The results of the sound analysis are .\\xa0.\\xa0. This content is available to subscribers. Subscribe now. Already have an account? Sign in. \\ue914\\ue91d\\ue917\\ue919 Acoustic Findings in a Patient with Radiation Pneumonitis Authors: Raymond Murphy, M.D., D.Sc., M.P.H., and Andrey Vyshedskiy, Ph.D. Author Info & Affiliations \\ue927 IMAGES IN CLINICAL MEDICINE Published November 11, 2010 N Engl J Med 2010;363: e31 DOI: 10.1056/NEJMicm0803655 VOL. 363 NO. 20 \\ue947 \\ue937 \\ue938 \\ue94f \\ue943 \\ue933 \\ue94c \\ue949'"
            ],
            "application/vnd.google.colaboratory.intrinsic+json": {
              "type": "string"
            }
          },
          "metadata": {},
          "execution_count": 9
        }
      ]
    },
    {
      "cell_type": "code",
      "source": [
        "import pandas as pd\n",
        "\n",
        "# Define the image number and abstract text\n",
        "image_number = \"Image_001\"\n",
        "abstract_text = txt1\n",
        "\n",
        "# Create a DataFrame with columns 'Image Number' and 'Text'\n",
        "df = pd.DataFrame({\n",
        "    \"Image Number\": [image_number],\n",
        "    \"Text\": [abstract_text]\n",
        "})\n",
        "\n",
        "# Specify the CSV file name\n",
        "csv_file = 'OUTPUT.csv'\n",
        "\n",
        "# Append to the CSV file\n",
        "df.to_csv(csv_file, mode='a', header=not pd.io.common.file_exists(csv_file), index=False)\n",
        "\n",
        "print(f\"Image number and abstract text added to {csv_file}\")\n"
      ],
      "metadata": {
        "id": "Yz_3fyRsim0A",
        "colab": {
          "base_uri": "https://localhost:8080/"
        },
        "outputId": "29eb828f-a845-4c1f-b1b6-bb9afa63bb42"
      },
      "execution_count": null,
      "outputs": [
        {
          "output_type": "stream",
          "name": "stdout",
          "text": [
            "Image number and abstract text added to OUTPUT.csv\n"
          ]
        }
      ]
    },
    {
      "cell_type": "code",
      "source": [],
      "metadata": {
        "id": "YFElEW3ziDYj"
      },
      "execution_count": null,
      "outputs": []
    }
  ],
  "metadata": {
    "colab": {
      "provenance": [],
      "gpuType": "T4"
    },
    "kernelspec": {
      "display_name": "Python 3",
      "name": "python3"
    },
    "language_info": {
      "name": "python"
    },
    "accelerator": "GPU"
  },
  "nbformat": 4,
  "nbformat_minor": 0
}